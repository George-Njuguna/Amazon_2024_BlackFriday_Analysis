{
 "cells": [
  {
   "cell_type": "markdown",
   "id": "60ddfe30",
   "metadata": {},
   "source": [
    "# **BLACK FRIDAY 2024 AMAZON DEAL ANALYSIS**\n",
    "___\n",
    "\n",
    "This project aims to analyze Black Friday 2024 deals scraped from Amazon, containing over 1,000 real-world products. The data was collected through web scraping and includes product names, prices, discounts, ratings, and user reviews. Alongside exploratory data analysis, the project incorporates sentiment analysis of product reviews and price trend evaluation across different categories.\n",
    "\n",
    "The final outcome will be a comprehensive Tableau dashboard to visualize these insights for effective interpretation and decision-making.\n",
    "\n",
    "Objectives:\n",
    "1. Analyze price distribution and identify the most and least expensive deals.\n",
    "\n",
    "2. Evaluate discount patterns across various product categories.\n",
    "\n",
    "3. Identify trends and correlations between ratings, price, and sentiment.\n",
    "\n",
    "4. Predict the discounted price using relevant product features.\n",
    "\n",
    "5. Perform sentiment analysis on product reviews to assess customer perception.\n",
    "\n",
    "6. Create an interactive Tableau dashboard to present key insights."
   ]
  },
  {
   "cell_type": "code",
   "execution_count": 4,
   "id": "f3a7a504",
   "metadata": {},
   "outputs": [],
   "source": [
    " # importing necessary libraries\n",
    "import pandas as pd\n",
    "import numpy as np \n",
    "import matplotlib.pyplot as plt\n",
    "import seaborn as sns \n",
    "import statsmodels.api as sm\n",
    "from sklearn.model_selection import train_test_split\n",
    "from sklearn.linear_model import LinearRegression\n",
    "from sklearn.metrics import r2_score\n",
    "from sklearn.model_selection import cross_val_score,KFold\n",
    "from sklearn.linear_model import Lasso\n",
    "from sklearn.linear_model import Ridge\n",
    "from sklearn.preprocessing import StandardScaler\n",
    "from statsmodels.formula.api import ols\n",
    "import nltk\n",
    "from nltk.sentiment import SentimentIntensityAnalyzer\n",
    "from tqdm.notebook import tqdm\n"
   ]
  },
  {
   "cell_type": "code",
   "execution_count": 5,
   "id": "8f93853f",
   "metadata": {},
   "outputs": [],
   "source": [
    " # Reading the Csv File \n",
    "df = pd.read_csv( 'AMAZON_DATA.csv' )"
   ]
  },
  {
   "cell_type": "markdown",
   "id": "7360700d",
   "metadata": {},
   "source": [
    "### **DATA CLEANING**"
   ]
  },
  {
   "cell_type": "code",
   "execution_count": 6,
   "id": "58f208f6",
   "metadata": {},
   "outputs": [
    {
     "data": {
      "application/vnd.microsoft.datawrangler.viewer.v0+json": {
       "columns": [
        {
         "name": "index",
         "rawType": "int64",
         "type": "integer"
        },
        {
         "name": "Product_ID",
         "rawType": "object",
         "type": "unknown"
        },
        {
         "name": "Product_Name",
         "rawType": "object",
         "type": "string"
        },
        {
         "name": "Category",
         "rawType": "object",
         "type": "string"
        },
        {
         "name": "Product_Link",
         "rawType": "object",
         "type": "string"
        },
        {
         "name": "Discounted_Price",
         "rawType": "object",
         "type": "string"
        },
        {
         "name": "Actual_Price",
         "rawType": "object",
         "type": "string"
        },
        {
         "name": "Rating",
         "rawType": "object",
         "type": "string"
        },
        {
         "name": "Rating_Count",
         "rawType": "object",
         "type": "string"
        },
        {
         "name": "Reviewers",
         "rawType": "object",
         "type": "string"
        },
        {
         "name": "Reviews",
         "rawType": "object",
         "type": "string"
        }
       ],
       "ref": "d8217059-e1a1-4b05-a394-02fe2c3a5214",
       "rows": [
        [
         "0",
         null,
         "Graco Extend2Fit Convertible Baby Car Seat",
         "Baby Products$Car Seats & Accessories",
         "https://www.amazon.com/Graco-Extend2Fit-Convertible-Seat-Gotham/dp/B019EGMGR0?ref=dlx_deals_dg_dcl_B019EGMGR0_dt_sl14_a6",
         "$149.99",
         "List Price: $199.99",
         "4.8 out of 5",
         "70,954 global ratings",
         "Amazon Customer|Amazon Customer|Chiara Flattery|Rebecca Hanshew|Alayna|Justin|Ashley|Marie|Marie|Mark|Barbara Dutra|Cliente de Amazon|Perla B.|Abhishek Behari|Abhishek Behari|AM Sharma",
         "Versatile and Comfortable – A Top Choice for Growing Families!|Safe and affordable|Absolutely love the installation latches !|Perfection! Safe! Great Product!|Excellent Car Seat – Safe, Comfortable, and a Great Deal!|My favorite car seat!|Seems decent but using the anchor straps is a must"
        ],
        [
         "1",
         "B019EGMGR0",
         "Graco Extend2Fit Convertible Baby Car Seat",
         "Baby Products$Car Seats & Accessories",
         "https://www.amazon.com/Graco-Extend2Fit-Convertible-Seat-Gotham/dp/B019EGMGR0?ref=dlx_deals_dg_dcl_B019EGMGR0_dt_sl14_a6",
         "$149.99",
         "List Price: $199.99",
         "4.8 out of 5",
         "70,954 global ratings",
         "Amazon Customer|Amazon Customer|Chiara Flattery|Rebecca Hanshew|Alayna|Justin|Ashley|Marie|Marie|Mark|Barbara Dutra|Cliente de Amazon|Perla B.|Abhishek Behari|Abhishek Behari|AM Sharma",
         "Versatile and Comfortable – A Top Choice for Growing Families!|Safe and affordable|Absolutely love the installation latches !|Perfection! Safe! Great Product!|Excellent Car Seat – Safe, Comfortable, and a Great Deal!|My favorite car seat!|Seems decent but using the anchor straps is a must"
        ],
        [
         "2",
         "B01LWMWAXV",
         "King Size 4 Piece Sheet Set - Comfy Breathable & Cooling Sheets - Hotel Luxury Bed Sheets for Women & Men - Deep Pockets",
         "Home & Kitchen$Bedding",
         "https://www.amazon.com/King-Size-Sheet-Set-Breathable/dp/B01LWMWAXV?ref=dlx_deals_dg_dcl_B01LWMWAXV_dt_sl14_a6",
         "$29.74",
         "Typical price: $34.99",
         "4.5 out of 5",
         "349,108 global ratings",
         "Amazon Customer|Amazon Customer|John cromwell|Amanda|A Shopper|Lisa|Kehinda Pryor|J. L.|Anuj sharma|Brenda M.|Malak|Kamal A.|Felix Barongo",
         "Finally we BOTH can sleep comfy!|Luxurious Comfort and Quality!|Very Comfortable and Soft|The softest sheets!|Soft, Cool, and Luxuriously Comfortable!|Love these sheets!"
        ],
        [
         "3",
         "B07XFC3MF3",
         "MZOO Sleep Eye Mask for Men Women",
         "Health & Household$Health Care",
         "https://www.amazon.com/MZOO-Contoured-Sleeping-Blindfold-Concave/dp/B07XFC3MF3?ref=dlx_deals_dg_dcl_B07XFC3MF3_dt_sl14_a6",
         "$16.99",
         "Typical price: $22.99",
         "4.6 out of 5",
         "93,186 global ratings",
         "Amazon Customer|Amazon Customer|Nithin Kumar|Cam|Cam|djljejm7|Perrie Carrow|DBS|Margaret Justice|ChiChi16|Susy|Manuel Jesús Araujo Alamilla|Abdulelah|L D|Denise gh",
         "Product Design|**A Nighttime Revelation: The MZOO Sleep Eye Mask Transforms Sleep!**|Perfect in every way|Very comfortable and blocks light|Excellent!|Love this Sleep Mask|Voted 2024 best sleep mask!"
        ],
        [
         "4",
         "B08YYVRXLM",
         "Momcozy Pregnancy Pillows for Sleeping",
         "Baby Products$Pregnancy & Maternity",
         "https://www.amazon.com/Momcozy-Pregnancy-Maternity-Removable-Sleeping/dp/B08YYVRXLM?ref=dlx_deals_dg_dcl_B08YYVRXLM_dt_sl14_a6",
         "$36.99",
         "List Price: $54.99",
         "4.5 out of 5",
         "21,077 global ratings",
         "Amazon Customer|Amazon Customer|Jammie|Nick|Kimmy|Lavender seeker|Kristen A.|Julia|Dhara|Yara|Ajay Shrivatsav V.P.|Nouf|Em|Em|Tamika|kyra iannone",
         "Comfortable!|Not just for pregnancy|It’s cool and comfortable.|Pregnancy pillow|Dense & Fluffy - so much better than I was expecting|Perfect fit|Too fluffy and uncomfortable to sleep with|Super comfortable!"
        ]
       ],
       "shape": {
        "columns": 10,
        "rows": 5
       }
      },
      "text/html": [
       "<div>\n",
       "<style scoped>\n",
       "    .dataframe tbody tr th:only-of-type {\n",
       "        vertical-align: middle;\n",
       "    }\n",
       "\n",
       "    .dataframe tbody tr th {\n",
       "        vertical-align: top;\n",
       "    }\n",
       "\n",
       "    .dataframe thead th {\n",
       "        text-align: right;\n",
       "    }\n",
       "</style>\n",
       "<table border=\"1\" class=\"dataframe\">\n",
       "  <thead>\n",
       "    <tr style=\"text-align: right;\">\n",
       "      <th></th>\n",
       "      <th>Product_ID</th>\n",
       "      <th>Product_Name</th>\n",
       "      <th>Category</th>\n",
       "      <th>Product_Link</th>\n",
       "      <th>Discounted_Price</th>\n",
       "      <th>Actual_Price</th>\n",
       "      <th>Rating</th>\n",
       "      <th>Rating_Count</th>\n",
       "      <th>Reviewers</th>\n",
       "      <th>Reviews</th>\n",
       "    </tr>\n",
       "  </thead>\n",
       "  <tbody>\n",
       "    <tr>\n",
       "      <th>0</th>\n",
       "      <td>NaN</td>\n",
       "      <td>Graco Extend2Fit Convertible Baby Car Seat</td>\n",
       "      <td>Baby Products$Car Seats &amp; Accessories</td>\n",
       "      <td>https://www.amazon.com/Graco-Extend2Fit-Conver...</td>\n",
       "      <td>$149.99</td>\n",
       "      <td>List Price: $199.99</td>\n",
       "      <td>4.8 out of 5</td>\n",
       "      <td>70,954 global ratings</td>\n",
       "      <td>Amazon Customer|Amazon Customer|Chiara Flatter...</td>\n",
       "      <td>Versatile and Comfortable – A Top Choice for G...</td>\n",
       "    </tr>\n",
       "    <tr>\n",
       "      <th>1</th>\n",
       "      <td>B019EGMGR0</td>\n",
       "      <td>Graco Extend2Fit Convertible Baby Car Seat</td>\n",
       "      <td>Baby Products$Car Seats &amp; Accessories</td>\n",
       "      <td>https://www.amazon.com/Graco-Extend2Fit-Conver...</td>\n",
       "      <td>$149.99</td>\n",
       "      <td>List Price: $199.99</td>\n",
       "      <td>4.8 out of 5</td>\n",
       "      <td>70,954 global ratings</td>\n",
       "      <td>Amazon Customer|Amazon Customer|Chiara Flatter...</td>\n",
       "      <td>Versatile and Comfortable – A Top Choice for G...</td>\n",
       "    </tr>\n",
       "    <tr>\n",
       "      <th>2</th>\n",
       "      <td>B01LWMWAXV</td>\n",
       "      <td>King Size 4 Piece Sheet Set - Comfy Breathable...</td>\n",
       "      <td>Home &amp; Kitchen$Bedding</td>\n",
       "      <td>https://www.amazon.com/King-Size-Sheet-Set-Bre...</td>\n",
       "      <td>$29.74</td>\n",
       "      <td>Typical price: $34.99</td>\n",
       "      <td>4.5 out of 5</td>\n",
       "      <td>349,108 global ratings</td>\n",
       "      <td>Amazon Customer|Amazon Customer|John cromwell|...</td>\n",
       "      <td>Finally we BOTH can sleep comfy!|Luxurious Com...</td>\n",
       "    </tr>\n",
       "    <tr>\n",
       "      <th>3</th>\n",
       "      <td>B07XFC3MF3</td>\n",
       "      <td>MZOO Sleep Eye Mask for Men Women</td>\n",
       "      <td>Health &amp; Household$Health Care</td>\n",
       "      <td>https://www.amazon.com/MZOO-Contoured-Sleeping...</td>\n",
       "      <td>$16.99</td>\n",
       "      <td>Typical price: $22.99</td>\n",
       "      <td>4.6 out of 5</td>\n",
       "      <td>93,186 global ratings</td>\n",
       "      <td>Amazon Customer|Amazon Customer|Nithin Kumar|C...</td>\n",
       "      <td>Product Design|**A Nighttime Revelation: The M...</td>\n",
       "    </tr>\n",
       "    <tr>\n",
       "      <th>4</th>\n",
       "      <td>B08YYVRXLM</td>\n",
       "      <td>Momcozy Pregnancy Pillows for Sleeping</td>\n",
       "      <td>Baby Products$Pregnancy &amp; Maternity</td>\n",
       "      <td>https://www.amazon.com/Momcozy-Pregnancy-Mater...</td>\n",
       "      <td>$36.99</td>\n",
       "      <td>List Price: $54.99</td>\n",
       "      <td>4.5 out of 5</td>\n",
       "      <td>21,077 global ratings</td>\n",
       "      <td>Amazon Customer|Amazon Customer|Jammie|Nick|Ki...</td>\n",
       "      <td>Comfortable!|Not just for pregnancy|It’s cool ...</td>\n",
       "    </tr>\n",
       "  </tbody>\n",
       "</table>\n",
       "</div>"
      ],
      "text/plain": [
       "   Product_ID                                       Product_Name  \\\n",
       "0         NaN         Graco Extend2Fit Convertible Baby Car Seat   \n",
       "1  B019EGMGR0         Graco Extend2Fit Convertible Baby Car Seat   \n",
       "2  B01LWMWAXV  King Size 4 Piece Sheet Set - Comfy Breathable...   \n",
       "3  B07XFC3MF3                  MZOO Sleep Eye Mask for Men Women   \n",
       "4  B08YYVRXLM             Momcozy Pregnancy Pillows for Sleeping   \n",
       "\n",
       "                                Category  \\\n",
       "0  Baby Products$Car Seats & Accessories   \n",
       "1  Baby Products$Car Seats & Accessories   \n",
       "2                 Home & Kitchen$Bedding   \n",
       "3         Health & Household$Health Care   \n",
       "4    Baby Products$Pregnancy & Maternity   \n",
       "\n",
       "                                        Product_Link Discounted_Price  \\\n",
       "0  https://www.amazon.com/Graco-Extend2Fit-Conver...          $149.99   \n",
       "1  https://www.amazon.com/Graco-Extend2Fit-Conver...          $149.99   \n",
       "2  https://www.amazon.com/King-Size-Sheet-Set-Bre...           $29.74   \n",
       "3  https://www.amazon.com/MZOO-Contoured-Sleeping...           $16.99   \n",
       "4  https://www.amazon.com/Momcozy-Pregnancy-Mater...           $36.99   \n",
       "\n",
       "            Actual_Price        Rating            Rating_Count  \\\n",
       "0    List Price: $199.99  4.8 out of 5   70,954 global ratings   \n",
       "1    List Price: $199.99  4.8 out of 5   70,954 global ratings   \n",
       "2  Typical price: $34.99  4.5 out of 5  349,108 global ratings   \n",
       "3  Typical price: $22.99  4.6 out of 5   93,186 global ratings   \n",
       "4     List Price: $54.99  4.5 out of 5   21,077 global ratings   \n",
       "\n",
       "                                           Reviewers  \\\n",
       "0  Amazon Customer|Amazon Customer|Chiara Flatter...   \n",
       "1  Amazon Customer|Amazon Customer|Chiara Flatter...   \n",
       "2  Amazon Customer|Amazon Customer|John cromwell|...   \n",
       "3  Amazon Customer|Amazon Customer|Nithin Kumar|C...   \n",
       "4  Amazon Customer|Amazon Customer|Jammie|Nick|Ki...   \n",
       "\n",
       "                                             Reviews  \n",
       "0  Versatile and Comfortable – A Top Choice for G...  \n",
       "1  Versatile and Comfortable – A Top Choice for G...  \n",
       "2  Finally we BOTH can sleep comfy!|Luxurious Com...  \n",
       "3  Product Design|**A Nighttime Revelation: The M...  \n",
       "4  Comfortable!|Not just for pregnancy|It’s cool ...  "
      ]
     },
     "metadata": {},
     "output_type": "display_data"
    },
    {
     "data": {
      "application/vnd.microsoft.datawrangler.viewer.v0+json": {
       "columns": [
        {
         "name": "index",
         "rawType": "int64",
         "type": "integer"
        },
        {
         "name": "Product_ID",
         "rawType": "object",
         "type": "string"
        },
        {
         "name": "Product_Name",
         "rawType": "object",
         "type": "unknown"
        },
        {
         "name": "Category",
         "rawType": "object",
         "type": "unknown"
        },
        {
         "name": "Product_Link",
         "rawType": "object",
         "type": "string"
        },
        {
         "name": "Discounted_Price",
         "rawType": "object",
         "type": "unknown"
        },
        {
         "name": "Actual_Price",
         "rawType": "object",
         "type": "unknown"
        },
        {
         "name": "Rating",
         "rawType": "object",
         "type": "unknown"
        },
        {
         "name": "Rating_Count",
         "rawType": "object",
         "type": "unknown"
        },
        {
         "name": "Reviewers",
         "rawType": "object",
         "type": "unknown"
        },
        {
         "name": "Reviews",
         "rawType": "object",
         "type": "unknown"
        }
       ],
       "ref": "bb501aa8-a57a-4ec9-adf1-6377bfc91e67",
       "rows": [
        [
         "2002",
         "B09XM74VQL",
         "maamgic 2 in 1 Mens Swim Trunks 7 Inch Swim Shorts Swim Suits Board Shorts",
         "Clothing, Shoes & Jewelry$Men",
         "https://www.amazon.com/TP-Link-EAP610-Ultra-Slim-Wireless-Business/dp/B09XM74VQL?ref=dlx_deals_dg_dcl_B09XM74VQL_dt_sl14_0b",
         null,
         null,
         "4.7 out of 5",
         "1,416 global ratings",
         "Amazon Customer|Amazon Customer|Nikki|Kyle Jones|Addi|freethinker|Maribeth Milkowski|Melissa Hogg|Brittany|Steve Reed",
         "Boyfriend's Favorite Shorts|Very Comfy & Dries Quickly|Great quality|Good looking but too tight fitting - it's going back|Cool swimsuit|Mens swim trunks|Perfect for Hawaii|Great Swim Suit! No netting, briefs are better"
        ],
        [
         "2003",
         "B0B3T5BD2K",
         "PINSPARK Womens Tennis Skirt Pleated Athletic Skirts with Pockets Shorts High Waisted Golf Skort for Workout Pickleball",
         "Clothing, Shoes & Jewelry$Women",
         "https://www.amazon.com/Portable-Professional-Rechargeable-Electric-Polishing/dp/B0B3T5BD2K?ref=dlx_deals_dg_dcl_B0B3T5BD2K_dt_sl14_0b",
         null,
         null,
         "4.6 out of 5",
         "703 global ratings",
         "Amazon Customer|Amazon Customer|SY|Rachel|Gricelda Rivas|Gricelda Rivas|Starr armstrong|NJbuyer|Amazon Customer|Robert|Race loving|Meg Watts|Brenda|Sass|Sass|Jacquie Fuentes|mwill",
         "Cute & Comfortable|So cute, great fit, flattering length|Super cute and nice material!|Love it|Loveeeee!!|Exactly as Described and True to Size|Extremely comfortable|flattering"
        ],
        [
         "2004",
         "B08CX78LHL",
         null,
         null,
         "https://www.amazon.com/Bedsure-Waterproof-Blankets-Extra-Large/dp/B08CX78LHL?ref=dlx_deals_dg_dcl_B08CX78LHL_dt_sl14_0b",
         null,
         null,
         null,
         null,
         null,
         null
        ],
        [
         "2005",
         "B0BY8CGS1X",
         null,
         null,
         "https://www.amazon.com/maamgic-Trunks-Shorts-Suits-American/dp/B0BY8CGS1X?ref=dlx_deals_dg_dcl_B0BY8CGS1X_dt_sl14_0b",
         null,
         null,
         null,
         null,
         null,
         null
        ],
        [
         "2006",
         "B0CTSDF2KR",
         null,
         null,
         "https://www.amazon.com/PINSPARK-Waisted-Pockets-Pleated-Athletic/dp/B0CTSDF2KR?ref=dlx_deals_dg_dcl_B0CTSDF2KR_dt_sl14_0b",
         null,
         null,
         null,
         null,
         null,
         null
        ]
       ],
       "shape": {
        "columns": 10,
        "rows": 5
       }
      },
      "text/html": [
       "<div>\n",
       "<style scoped>\n",
       "    .dataframe tbody tr th:only-of-type {\n",
       "        vertical-align: middle;\n",
       "    }\n",
       "\n",
       "    .dataframe tbody tr th {\n",
       "        vertical-align: top;\n",
       "    }\n",
       "\n",
       "    .dataframe thead th {\n",
       "        text-align: right;\n",
       "    }\n",
       "</style>\n",
       "<table border=\"1\" class=\"dataframe\">\n",
       "  <thead>\n",
       "    <tr style=\"text-align: right;\">\n",
       "      <th></th>\n",
       "      <th>Product_ID</th>\n",
       "      <th>Product_Name</th>\n",
       "      <th>Category</th>\n",
       "      <th>Product_Link</th>\n",
       "      <th>Discounted_Price</th>\n",
       "      <th>Actual_Price</th>\n",
       "      <th>Rating</th>\n",
       "      <th>Rating_Count</th>\n",
       "      <th>Reviewers</th>\n",
       "      <th>Reviews</th>\n",
       "    </tr>\n",
       "  </thead>\n",
       "  <tbody>\n",
       "    <tr>\n",
       "      <th>2002</th>\n",
       "      <td>B09XM74VQL</td>\n",
       "      <td>maamgic 2 in 1 Mens Swim Trunks 7 Inch Swim Sh...</td>\n",
       "      <td>Clothing, Shoes &amp; Jewelry$Men</td>\n",
       "      <td>https://www.amazon.com/TP-Link-EAP610-Ultra-Sl...</td>\n",
       "      <td>NaN</td>\n",
       "      <td>NaN</td>\n",
       "      <td>4.7 out of 5</td>\n",
       "      <td>1,416 global ratings</td>\n",
       "      <td>Amazon Customer|Amazon Customer|Nikki|Kyle Jon...</td>\n",
       "      <td>Boyfriend's Favorite Shorts|Very Comfy &amp; Dries...</td>\n",
       "    </tr>\n",
       "    <tr>\n",
       "      <th>2003</th>\n",
       "      <td>B0B3T5BD2K</td>\n",
       "      <td>PINSPARK Womens Tennis Skirt Pleated Athletic ...</td>\n",
       "      <td>Clothing, Shoes &amp; Jewelry$Women</td>\n",
       "      <td>https://www.amazon.com/Portable-Professional-R...</td>\n",
       "      <td>NaN</td>\n",
       "      <td>NaN</td>\n",
       "      <td>4.6 out of 5</td>\n",
       "      <td>703 global ratings</td>\n",
       "      <td>Amazon Customer|Amazon Customer|SY|Rachel|Gric...</td>\n",
       "      <td>Cute &amp; Comfortable|So cute, great fit, flatter...</td>\n",
       "    </tr>\n",
       "    <tr>\n",
       "      <th>2004</th>\n",
       "      <td>B08CX78LHL</td>\n",
       "      <td>NaN</td>\n",
       "      <td>NaN</td>\n",
       "      <td>https://www.amazon.com/Bedsure-Waterproof-Blan...</td>\n",
       "      <td>NaN</td>\n",
       "      <td>NaN</td>\n",
       "      <td>NaN</td>\n",
       "      <td>NaN</td>\n",
       "      <td>NaN</td>\n",
       "      <td>NaN</td>\n",
       "    </tr>\n",
       "    <tr>\n",
       "      <th>2005</th>\n",
       "      <td>B0BY8CGS1X</td>\n",
       "      <td>NaN</td>\n",
       "      <td>NaN</td>\n",
       "      <td>https://www.amazon.com/maamgic-Trunks-Shorts-S...</td>\n",
       "      <td>NaN</td>\n",
       "      <td>NaN</td>\n",
       "      <td>NaN</td>\n",
       "      <td>NaN</td>\n",
       "      <td>NaN</td>\n",
       "      <td>NaN</td>\n",
       "    </tr>\n",
       "    <tr>\n",
       "      <th>2006</th>\n",
       "      <td>B0CTSDF2KR</td>\n",
       "      <td>NaN</td>\n",
       "      <td>NaN</td>\n",
       "      <td>https://www.amazon.com/PINSPARK-Waisted-Pocket...</td>\n",
       "      <td>NaN</td>\n",
       "      <td>NaN</td>\n",
       "      <td>NaN</td>\n",
       "      <td>NaN</td>\n",
       "      <td>NaN</td>\n",
       "      <td>NaN</td>\n",
       "    </tr>\n",
       "  </tbody>\n",
       "</table>\n",
       "</div>"
      ],
      "text/plain": [
       "      Product_ID                                       Product_Name  \\\n",
       "2002  B09XM74VQL  maamgic 2 in 1 Mens Swim Trunks 7 Inch Swim Sh...   \n",
       "2003  B0B3T5BD2K  PINSPARK Womens Tennis Skirt Pleated Athletic ...   \n",
       "2004  B08CX78LHL                                                NaN   \n",
       "2005  B0BY8CGS1X                                                NaN   \n",
       "2006  B0CTSDF2KR                                                NaN   \n",
       "\n",
       "                             Category  \\\n",
       "2002    Clothing, Shoes & Jewelry$Men   \n",
       "2003  Clothing, Shoes & Jewelry$Women   \n",
       "2004                              NaN   \n",
       "2005                              NaN   \n",
       "2006                              NaN   \n",
       "\n",
       "                                           Product_Link Discounted_Price  \\\n",
       "2002  https://www.amazon.com/TP-Link-EAP610-Ultra-Sl...              NaN   \n",
       "2003  https://www.amazon.com/Portable-Professional-R...              NaN   \n",
       "2004  https://www.amazon.com/Bedsure-Waterproof-Blan...              NaN   \n",
       "2005  https://www.amazon.com/maamgic-Trunks-Shorts-S...              NaN   \n",
       "2006  https://www.amazon.com/PINSPARK-Waisted-Pocket...              NaN   \n",
       "\n",
       "     Actual_Price        Rating          Rating_Count  \\\n",
       "2002          NaN  4.7 out of 5  1,416 global ratings   \n",
       "2003          NaN  4.6 out of 5    703 global ratings   \n",
       "2004          NaN           NaN                   NaN   \n",
       "2005          NaN           NaN                   NaN   \n",
       "2006          NaN           NaN                   NaN   \n",
       "\n",
       "                                              Reviewers  \\\n",
       "2002  Amazon Customer|Amazon Customer|Nikki|Kyle Jon...   \n",
       "2003  Amazon Customer|Amazon Customer|SY|Rachel|Gric...   \n",
       "2004                                                NaN   \n",
       "2005                                                NaN   \n",
       "2006                                                NaN   \n",
       "\n",
       "                                                Reviews  \n",
       "2002  Boyfriend's Favorite Shorts|Very Comfy & Dries...  \n",
       "2003  Cute & Comfortable|So cute, great fit, flatter...  \n",
       "2004                                                NaN  \n",
       "2005                                                NaN  \n",
       "2006                                                NaN  "
      ]
     },
     "metadata": {},
     "output_type": "display_data"
    },
    {
     "name": "stdout",
     "output_type": "stream",
     "text": [
      "(2007, 10)\n",
      "['Product_ID', 'Product_Name', 'Category', 'Product_Link', 'Discounted_Price', 'Actual_Price', 'Rating', 'Rating_Count', 'Reviewers', 'Reviews']\n"
     ]
    }
   ],
   "source": [
    " # getting the first and last 5 rows of the data set \n",
    "display(df.head())\n",
    "display(df.tail())\n",
    "\n",
    " # Getting the number of columns and rows \n",
    "print(df.shape)\n",
    "\n",
    " # Getting the column names \n",
    "print(df.columns.tolist())"
   ]
  },
  {
   "cell_type": "markdown",
   "id": "53289ce6",
   "metadata": {},
   "source": [
    "From the output we can see that the dataset contains 2,007 rows and 10 columns where the column names are 'Product_ID','Product_Name', 'Category', 'Product_Link', 'Discounted_Price', 'Actual_Price', 'Rating', 'Rating_Count', 'Reviewers' and'Reviews'.\n",
    "\n",
    "Additionally, we identified the presence of null values within the dataset. These missing values will require appropriate handling, either by removing the affected entries or replacing them."
   ]
  },
  {
   "cell_type": "code",
   "execution_count": 7,
   "id": "ad664d85",
   "metadata": {},
   "outputs": [
    {
     "name": "stdout",
     "output_type": "stream",
     "text": [
      "Product_ID            1\n",
      "Product_Name          3\n",
      "Category              3\n",
      "Product_Link          0\n",
      "Discounted_Price    940\n",
      "Actual_Price        931\n",
      "Rating                9\n",
      "Rating_Count          9\n",
      "Reviewers             4\n",
      "Reviews              17\n",
      "dtype: int64\n"
     ]
    }
   ],
   "source": [
    " # Checking for Null values \n",
    "print(df.isnull().sum())"
   ]
  },
  {
   "cell_type": "code",
   "execution_count": 8,
   "id": "7da3dea6",
   "metadata": {},
   "outputs": [
    {
     "name": "stdout",
     "output_type": "stream",
     "text": [
      "(1049, 10)\n"
     ]
    }
   ],
   "source": [
    "df.dropna( inplace = True )\n",
    "\n",
    " # Checking how many data is left \n",
    "print(df.shape)"
   ]
  },
  {
   "cell_type": "markdown",
   "id": "56459deb",
   "metadata": {},
   "source": [
    "After dropping the null value we can see that the dataset has remained 1049 rows "
   ]
  },
  {
   "cell_type": "code",
   "execution_count": 9,
   "id": "a6b7feac",
   "metadata": {},
   "outputs": [
    {
     "name": "stdout",
     "output_type": "stream",
     "text": [
      "Product_ID          object\n",
      "Product_Name        object\n",
      "Category            object\n",
      "Product_Link        object\n",
      "Discounted_Price    object\n",
      "Actual_Price        object\n",
      "Rating              object\n",
      "Rating_Count        object\n",
      "Reviewers           object\n",
      "Reviews             object\n",
      "dtype: object\n"
     ]
    }
   ],
   "source": [
    " # Getting the data types of each columns \n",
    "print(df.dtypes) "
   ]
  },
  {
   "cell_type": "markdown",
   "id": "f7e8ba4a",
   "metadata": {},
   "source": [
    "We can see that the columns have datatypes object and we therefore  need to convert specific columns, such as prices, ratings, and rating counts, into numeric formats. However before converting, it is important to replace any non-numeric characters such as commas, text, and whitespaces that may prevent a successful conversion to float or integer.\n",
    "\n",
    "We will first review the unique values in the columns that require numeric conversion."
   ]
  },
  {
   "cell_type": "code",
   "execution_count": 10,
   "id": "dae7ac83",
   "metadata": {},
   "outputs": [
    {
     "name": "stdout",
     "output_type": "stream",
     "text": [
      "['List Price: $199.99' 'Typical price: $34.99' 'Typical price: $22.99'\n",
      " 'List Price: $54.99' 'List Price: $79.99' 'Typical price: $9.99'\n",
      " 'Typical price: $59.99' 'Typical price: $54.99' 'List Price $119.99'\n",
      " 'List Price: $32.99' 'List Price: $49.99' 'List Price: $38.99'\n",
      " 'List Price: $33.99' 'List Price: $57.94' 'List Price: $279.97'\n",
      " 'List Price: $209.99' 'List Price: $189.99' 'List Price: $175.09'\n",
      " 'Typical price: $113.99' 'List Price: $34.93' 'Typical price: $39.79'\n",
      " 'List Price: $59.99' 'Typical price: $35.99' 'List Price: $199.95'\n",
      " 'List Price: $379.99' 'Typical price: $34.74' 'List Price: $50.99'\n",
      " 'Typical price: $45.99' 'List Price: $65.99' 'Typical price: $57.99'\n",
      " 'Typical price: $206.20' 'List Price: $29.99' 'List Price: $89.00'\n",
      " 'List Price: $279.99' 'List Price: $159.99' 'List Price: $99.95'\n",
      " 'List Price: $14.99' 'List Price: $42.99' 'List Price: $59.95'\n",
      " 'List Price: $899.99' 'Typical price: $349.99' 'List Price: $1,399.99'\n",
      " 'List Price: $89.95' 'List Price: $39.99' 'List Price: $229.99'\n",
      " 'List Price: $24.99' 'List Price: $48.99' 'List Price: $18.48'\n",
      " 'Typical price: $50.99' 'List Price: $24.93' 'Typical price: $24.99'\n",
      " 'List Price: $179.00' 'Typical price: $15.99' 'Typical price: $169.99'\n",
      " 'Typical price: $209.00' '$10.00 per count' 'List Price: $109.95'\n",
      " 'List Price: $29.93' 'List Price: $129.99' 'List Price: $63.99'\n",
      " 'List Price: $22.89' 'Typical price $119.99' 'Typical price: $27.99'\n",
      " 'List Price: $139.99' 'List Price: $499.99' 'Typical price: $67.99'\n",
      " 'List Price: $44.99' 'List Price: $53.99' 'Typical price: $44.99'\n",
      " 'Typical price: $189.99' 'List Price: $199.00' 'Typical price: $33.34'\n",
      " 'List Price: $28.69' 'List Price $149.99' 'List Price: $109.99'\n",
      " 'List Price: $49.95' 'List Price: $119.99' 'Typical price: $66.90'\n",
      " 'List Price: $239.99' 'List Price: $56.99' 'List Price $128.98'\n",
      " 'List Price $259.99' 'Typical price: $45.95' 'List Price: $51.99'\n",
      " 'List Price $79.99' 'List Price: $69.99' '$4.20 per Count'\n",
      " 'List Price $35.99' 'List Price: $11.69' 'List Price: $79.90'\n",
      " 'List Price: $209.00' 'List Price: $41.99' 'List Price: $23.99'\n",
      " 'List Price: $459.99' 'List Price $38.99' '$12.00 per Count'\n",
      " 'List Price: $65.96' 'Typical price $109.98' 'Typical price $26.99'\n",
      " 'List Price: $2,499.99' 'Typical price: $179.91' 'Typical price: $39.99'\n",
      " 'Typical price: $11.95' 'List Price: $1,999.99' 'List Price: $45.95'\n",
      " 'Typical price: $25.99' 'List Price: $1,899.99' 'Typical price: $39.90'\n",
      " 'List Price $59.99' 'List Price: $210.00' 'List Price: $190.39'\n",
      " 'Typical price: $49.99' 'Typical price $21.99' 'List Price: $37.59'\n",
      " 'List Price: $74.90' 'List Price: $92.90' 'Typical price: $36.94'\n",
      " 'Typical price $69.99' 'List Price $139.95' 'List Price: $91.00'\n",
      " 'Typical price $29.99' 'List Price $499.99' 'Typical price $156.99'\n",
      " 'List Price: $93.49' 'List Price $32.99' 'List Price: $449.99'\n",
      " 'List Price: $77.99' 'Typical price: $29.99' 'List Price $25.99'\n",
      " 'List Price: $329.00' 'Typical price: $99.99' 'Typical price $19.99'\n",
      " 'List Price $339.99' 'List Price: $99.00' 'List Price: $30.99'\n",
      " 'Typical price: $239.99' 'Typical price: $16.95' '$11.25 per oz'\n",
      " 'List Price: $51.96' 'Typical price $109.99' 'Typical price: $25.76'\n",
      " 'List Price $18.99' 'List Price: $78.90' 'List Price $39.99'\n",
      " 'List Price $109.99' 'List Price: $47.95' 'List Price: $45.90'\n",
      " 'Typical price: $109.88' 'Typical price: $149.99' 'List Price $86.99'\n",
      " 'List Price: $47.99' 'List Price: $299.99' 'List Price: $29.98'\n",
      " 'List Price: $999.99' 'Typical price: $42.79' 'Typical price $299.99'\n",
      " 'Typical price: $72.88' 'List Price $159.99' 'Typical price: $30.99'\n",
      " 'List Price: $55.99' 'Typical price: $38.99' 'List Price: $141.99'\n",
      " 'Typical price $79.99' 'Typical price: $279.99' 'List Price: $779.99'\n",
      " 'Typical price: $148.99' '$3.20 per Count' 'List Price: $179.99'\n",
      " '$10.00 per Count' 'Typical price: $45.94' 'List Price: $269.99'\n",
      " 'List Price: $119.00' 'Typical price: $219.99' 'List Price: $37.99'\n",
      " 'Typical price: $119.99' 'List Price $59.97' 'List Price $14.99'\n",
      " 'Typical price: $120.99' 'Typical price: $134.99' 'Typical price $46.99'\n",
      " 'Typical price $43.99' '$8.00 per Count' 'Typical price $39.99'\n",
      " 'List Price $179.99' 'List Price: $43.95' 'List Price $199.99'\n",
      " 'Typical price: $201.51' 'List Price: $228.99' 'List Price: $59.96'\n",
      " 'List Price: $105.99' 'List Price: $99.99' 'List Price: $22.99'\n",
      " 'List Price: $35.98' 'Typical price: $12.99' 'List Price: $28.71'\n",
      " 'List Price: $399.99' 'Typical price: $23.99' 'Typical price: $6.98'\n",
      " 'List Price $599.99' 'List Price $53.97' 'Typical price: $64.99'\n",
      " 'Typical price: $66.99' 'List Price: $2,019.99' 'List Price: $29.95'\n",
      " 'List Price: $1,119.99' 'Typical price: $179.99' 'List Price: $149.97'\n",
      " 'List Price: $169.99' 'Typical price: $86.99' 'List Price: $94.99'\n",
      " 'Typical price: $21.95' 'List Price: $499.95' 'List Price: $969.00'\n",
      " 'Typical price: $16.99' 'List Price: $33.97' 'Typical price: $26.99'\n",
      " 'List Price: $28.99' 'Typical price: $139.99' 'List Price: $34.99'\n",
      " '$10.70 per Count' 'Typical price: $35.21' 'Typical price: $52.95'\n",
      " 'List Price $229.99' 'List Price: $15.99' 'Typical price: $61.99'\n",
      " 'List Price: $41.95' 'Typical price: $69.00' 'List Price: $13.98'\n",
      " 'List Price: $12.99' 'Typical price: $51.99' 'List Price $99.99'\n",
      " 'List Price: $59.98' 'List Price: $55.00' 'List Price: $219.99'\n",
      " 'List Price $59.95' 'List Price: $34.79' 'List Price $49.99'\n",
      " '$2.79 per Foot' 'List Price: $599.99' 'List Price: $35.00'\n",
      " 'List Price $129.99' 'List Price $69.99' 'List Price: $89.99'\n",
      " 'List Price $59.00' 'List Price $209.99' 'Typical price $103.00'\n",
      " 'Typical price: $54.89' '$5.42 per Count' 'List Price: $399.00'\n",
      " 'List Price: $149.99' 'List Price: $40.99' 'List Price $74.99'\n",
      " 'List Price: $21.99' 'List Price $36.99' 'List Price: $339.99'\n",
      " 'List Price: $19.99' 'Typical price: $7.98' 'Typical price: $9.98'\n",
      " 'List Price: $89.82' 'Typical price: $299.99' 'List Price: $35.99'\n",
      " 'List Price: $24.95' 'List Price: $1,299.99' 'List Price $33.99'\n",
      " '$0.33 per Sq Ft' '$3.33 per Count' 'List Price: $75.99'\n",
      " 'List Price: $57.19' 'List Price: $699.99' 'List Price $56.99'\n",
      " '$0.35 per Sq Ft' 'List Price: $799.99' 'List Price: $59.82'\n",
      " 'List Price: $49.97' 'Typical price: $39.92' '$0.68 per Count'\n",
      " 'List Price: $599.00' 'List Price: $67.99' '$2.75 per Ounce'\n",
      " 'List Price $29.99' 'List Price: $176.49' 'List Price: $9.99'\n",
      " 'List Price: $20.99' 'Typical price: $7.89' 'List Price: $319.99'\n",
      " 'List Price: $25.99' 'List Price $139.99' 'List Price: $236.89'\n",
      " 'List Price: $29.82' 'List Price $219.99' 'List Price $38.45'\n",
      " 'Typical price $22.99' 'List Price: $659.99' 'List Price: $217.99'\n",
      " 'List Price: $14.98' 'List Price $63.89' 'List Price: $349.99'\n",
      " '$2.50 per Count' 'List Price: $499.00' 'List Price $54.39'\n",
      " 'List Price: $1,499.99' '$0.86 per Ounce' '$220.98 per Count'\n",
      " 'List Price $299.99' 'List Price: $52.99' 'List Price: $279.00'\n",
      " '$139.98 per Count' 'List Price: $36.99' 'List Price $27.99'\n",
      " 'List Price $35.94' 'List Price: $26.99' 'List Price: $409.00'\n",
      " 'List Price: $19.98' 'List Price: $74.99' 'Typical price: $25.97'\n",
      " '$10.76 per Count' 'List Price: $124.99' 'List Price: $49.98'\n",
      " 'Typical price: $89.95' 'Typical price $29.95' 'Typical price $39.95'\n",
      " 'Typical price: $26.98' 'List Price: $199.36' 'Typical price: $32.99'\n",
      " 'List Price: $18.99' 'Typical price: $74.99' '$25.49 per Count'\n",
      " 'Typical price $799.99' 'List Price $99.89' 'List Price $16.99'\n",
      " 'Typical price $169.99' 'List Price: $58.99' 'Typical price $199.99'\n",
      " 'Typical price $25.99' 'List Price: $1,799.99' '$5.45 per Count'\n",
      " 'Typical price: $13.99' 'Typical price $49.99' '$2.97 per Count'\n",
      " 'Typical price $24.99' 'Typical price: $1,699.99' 'Typical price: $65.99'\n",
      " 'List Price: $298.90' 'List Price: $222.97' 'Typical price: $29.98'\n",
      " 'List Price: $8.99' 'List Price: $112.99' '$4.76 per Count'\n",
      " 'List Price: $389.99' 'List Price: $11.99' 'List Price: $26.98'\n",
      " 'List Price: $33.79' 'List Price: $62.99' 'Typical price: $36.99'\n",
      " '$4.04 per Count' 'Typical price $17.99' 'List Price: $249.99'\n",
      " 'Typical price $209.99' 'List Price: $25.95' 'Typical price: $7.95'\n",
      " 'List Price $139.90' 'List Price $64.99' 'List Price $269.99'\n",
      " 'List Price: $64.99' 'List Price: $72.99' '$0.58 per Foot'\n",
      " 'Typical price $44.99' 'Typical price: $89.99' '$1.02 per Sq Ft'\n",
      " 'Typical price $40.99' 'List Price: $35.07' 'Typical price: $42.99'\n",
      " '$3.75 per Count' 'Typical price: $129.99' 'Typical price: $48.97'\n",
      " 'List Price: $13.99' 'List Price $52.99' 'List Price: $1,199.99'\n",
      " 'List Price: $17.99' 'Typical price $59.99' 'List Price $89.98'\n",
      " 'List Price $4,199.99' 'List Price $89.99' 'Typical price: $69.99'\n",
      " 'Typical price: $269.99' 'Typical price: $199.95' 'List Price: $19.88'\n",
      " 'List Price: $46.99' '$5.49 per Count' '$154.69 per Count'\n",
      " 'List Price: $199.98' 'List Price: $85.00' 'List Price $209.00'\n",
      " '$1.90 per Count' 'List Price $35.00' 'List Price $479.00'\n",
      " 'List Price $239.00' '$31.98 per Count' 'List Price $199.90'\n",
      " '$89.98 per Count' '$19.83 per Count' 'List Price $96.99'\n",
      " 'List Price $49.90' '$31.83 per Count' '$79.99 per Count'\n",
      " 'List Price $51.99' 'List Price: $43.99' 'List Price $54.99'\n",
      " 'List Price $699.99' 'List Price $169.99' 'List Price: $17.95'\n",
      " 'List Price: $57.99' 'List Price $399.99' 'Typical price $13.99'\n",
      " 'List Price: $59.00' 'Typical price: $163.58' 'List Price: $209.90'\n",
      " 'List Price $41.99' '$14.16 per Count' 'List Price: $1,599.00'\n",
      " '$0.83 per Foot' '$3.89 per Fl Oz' 'List Price: $17.48'\n",
      " 'List Price: $83.99' '$39.93 per Count' 'List Price $124.99'\n",
      " 'List Price $72.59' 'List Price $119.95' '$1.19 per Foot'\n",
      " 'List Price $249.99' 'List Price: $71.99' 'Typical price: $379.99'\n",
      " 'Typical price: $1,599.99' 'List Price: $369.00' 'Typical price $179.99'\n",
      " 'List Price: $17.97' 'List Price: $1,419.99' 'Typical price: $54.95'\n",
      " 'Typical price: $199.99' 'Typical price: $19.99' 'Typical price: $319.99'\n",
      " 'Typical price: $5.98' 'List Price: $78.99' 'List Price: $15.95'\n",
      " 'Typical price: $35.00' 'List Price: $129.00' 'List Price: $109.89'\n",
      " 'List Price: $88.99' 'List Price: $499.90' 'List Price $46.99'\n",
      " 'List Price $239.99' 'List Price: $21.12' 'List Price $48.98'\n",
      " 'Typical price: $116.99' 'List Price $529.99' 'List Price: $22.95'\n",
      " 'List Price $198.99' 'List Price $50.97' 'Typical price $99.99'\n",
      " 'List Price $57.97' '$39.99 per Count' 'List Price $57.99'\n",
      " 'Typical price $85.99' 'Typical price $89.99' 'List Price: $699.00'\n",
      " 'List Price: $219.00' 'Typical price: $33.19' 'Typical price $36.74'\n",
      " '$10.47 per Ounce' 'Typical price $35.99' 'List Price $2,999.99'\n",
      " 'List Price: $59.97' 'Typical price $159.99' 'Typical price $42.99'\n",
      " 'List Price: $19.95' 'List Price: $68.00' 'Typical price $149.99'\n",
      " 'List Price $37.99' '$10.19 per Count' 'List Price: $313.99'\n",
      " 'Typical price: $479.99' 'List Price $22.00' 'List Price $79.97'\n",
      " 'List Price: $289.99' 'List Price: $69.69' 'Typical price: $1,299.99'\n",
      " 'Typical price: $109.99' 'Typical price $31.99' '$29.49 per Count'\n",
      " 'List Price $19.99' 'List Price: $134.18' 'Typical price: $185.99'\n",
      " 'List Price: $27.99' 'Typical price: $159.99' 'Typical price: $209.99'\n",
      " 'List Price: $139.98' 'List Price: $34.86' '$15.99 per Count'\n",
      " 'Typical price: $18.99' 'List Price $89.95' 'List Price: $429.99'\n",
      " 'List Price $36.96' '$15.00 per Count' 'List Price $115.99'\n",
      " 'List Price: $80.99' 'Typical price: $320.00' 'List Price: $20.95'\n",
      " '$7.60 per Count' '$22.93 per Count' 'Typical price: $769.00'\n",
      " 'List Price: $558.99' 'List Price $419.99' '$2.77 per Count'\n",
      " 'List Price: $479.00' 'List Price: $80.00' '$0.86 per Feet'\n",
      " 'List Price: $74.98' 'List Price: $419.99' 'List Price: $299.97'\n",
      " 'Typical price: $99.98']\n",
      "['$149.99' '$29.74' '$16.99' '$36.99' '$34.92' '$8.49' '$44.99' '$42.49'\n",
      " '$59.99' '$23.99' '$29.99' '$49.24' '$219.97' '$178.49' '$129.99'\n",
      " '$124.99' '$91.19' '$21.50' '$31.83' '$39.90' '$30.59' '$159.00'\n",
      " '$299.94' '$21.74' '$31.27' '$37.99' '$39.09' '$39.99' '$46.39' '$7.73'\n",
      " '$167.59' '$19.99' '$63.99' '$34.68' '$169.98' '$139.99' '$49.95'\n",
      " '$11.99' '$18.98' '$29.95' '$31.18' '$24.86' '$699.99' '$299.99'\n",
      " '$1,164.99' '$49.99' '$159.99' '$19.97' '$37.68' '$47.99' '$12.74'\n",
      " '$114.99' '$15.17' '$21.24' '$99.00' '$135.99' '$71.98' '$188.10'\n",
      " '$118.99' '$69.49' '$20.05' '$169.99' '$65.02' '$39.89' '$16.48' '$14.99'\n",
      " '$98.98' '$22.39' '$109.99' '$399.99' '$56.09' '$33.74' '$39.98'\n",
      " '$127.49' '$35.99' '$139.00' '$30.01' '$15.58' '$68.84' '$69.99' '$79.97'\n",
      " '$28.98' '$27.98' '$73.94' '$56.86' '$33.99' '$62.99' '$33.98' '$39.97'\n",
      " '$53.99' '$37.98' '$20.99' '$23.69' '$36.76' '$5.00' '$45.52' '$21.59'\n",
      " '$31.49' '$279.99' '$19.19' '$51.89' '$93.48' '$1,899.00' '$22.99'\n",
      " '$158.90' '$9.56' '$1,415.91' '$36.30' '$20.79' '$188.99' '$1,499.99'\n",
      " '$31.98' '$33.92' '$47.49' '$149.00' '$13.98' '$1,699.99' '$152.31'\n",
      " '$17.86' '$63.66' '$57.87' '$31.40' '$154.99' '$55.99' '$50.35' '$25.49'\n",
      " '$99.99' '$125.59' '$39.05' '$75.99' '$19.84' '$349.99' '$41.90'\n",
      " '$249.00' '$84.99' '$271.99' '$54.00' '$62.96' '$25.98' '$215.99'\n",
      " '$17.99' '$13.56' '$27.19' '$179.99' '$39.96' '$93.49' '$21.90' '$12.99'\n",
      " '$67.06' '$21.25' '$30.77' '$33.29' '$34.99' '$499.99' '$93.39' '$67.99'\n",
      " '$249.99' '$19.98' '$798.00' '$31.10' '$55.16' '$31.99' '$24.68'\n",
      " '$139.97' '$61.95' '$103.98' '$26.34' '$88.86' '$111.99' '$219.99'\n",
      " '$76.49' '$649.99' '$134.09' '$15.99' '$94.49' '$38.24' '$112.55'\n",
      " '$197.99' '$135.00' '$25.99' '$38.22' '$51.99' '$24.49' '$108.89'\n",
      " '$31.82' '$26.99' '$121.49' '$39.94' '$35.19' '$126.98' '$31.91' '$97.99'\n",
      " '$79.99' '$35.16' '$88.88' '$170.20' '$143.65' '$18.59' '$15.29' '$69.97'\n",
      " '$33.97' '$26.96' '$38.35' '$29.69' '$11.69' '$39.19' '$9.99' '$5.86'\n",
      " '$66.49' '$51.98' '$53.59' '$1,619.99' '$15.94' '$898.00' '$124.97'\n",
      " '$144.49' '$68.79' '$299.95' '$175.99' '$13.59' '$29.87' '$22.94'\n",
      " '$21.40' '$28.99' '$7.99' '$31.69' '$20.49' '$156.79' '$11.98' '$8.79'\n",
      " '$79.00' '$52.69' '$33.14' '$55.20' '$93.40' '$6.74' '$13.99' '$46.78'\n",
      " '$49.98' '$24.78' '$71.49' '$46.75' '$167.72' '$282.00' '$31.31'\n",
      " '$558.99' '$13.77' '$319.90' '$23.98' '$65.54' '$43.89' '$59.89'\n",
      " '$479.99' '$12.89' '$66.98' '$16.14' '$87.55' '$17.05' '$185.49' '$46.69'\n",
      " '$207.99' '$299.00' '$15.05' '$329.72' '$108.95' '$35.97' '$27.46'\n",
      " '$239.99' '$16.98' '$16.19' '$24.64' '$229.49' '$13.29' '$8.99' '$7.18'\n",
      " '$129.97' '$89.95' '$8.98' '$27.99' '$18.99' '$64.82' '$237.99' '$21.23'\n",
      " '$74.99' '$26.39' '$18.13' '$957.47' '$24.99' '$26.59' '$19.49' '$59.96'\n",
      " '$65.57' '$80.99' '$68.37' '$6.98' '$99.98' '$29.98' '$40.79' '$37.80'\n",
      " '$9.98' '$43.86' '$86.00' '$35.96' '$31.50' '$20.39' '$34.93' '$329.99'\n",
      " '$20.97' '$42.29' '$11.00' '$147.94' '$59.98' '$89.99' '$15.98' '$239.00'\n",
      " '$289.99' '$229.99' '$17.59' '$17.98' '$109.18' '$45.59' '$169.89'\n",
      " '$34.39' '$16.82' '$18.39' '$19.54' '$21.84' '$559.99' '$35.95' '$35.98'\n",
      " '$238.45' '$287.99' '$129.98' '$204.99' '$55.24' '$220.98' '$254.99'\n",
      " '$35.37' '$50.98' '$49.07' '$186.13' '$269.94' '$41.64' '$29.47'\n",
      " '$139.98' '$71.86' '$34.98' '$359.99' '$59.90' '$22.07' '$21.52' '$19.78'\n",
      " '$339.99' '$25.59' '$50.99' '$71.96' '$23.96' '$31.96' '$24.28' '$114.98'\n",
      " '$76.34' '$14.98' '$27.39' '$54.99' '$53.39' '$50.97' '$239.98' '$71.99'\n",
      " '$49.82' '$20.32' '$37.59' '$127.99' '$143.99' '$62.92' '$1,199.99'\n",
      " '$18.89' '$12.59' '$31.19' '$119.99' '$35.69' '$599.99' '$52.79'\n",
      " '$209.99' '$18.49' '$24.98' '$7.00' '$89.98' '$28.49' '$9.49' '$20.78'\n",
      " '$33.95' '$258.99' '$33.82' '$26.69' '$25.24' '$249.49' '$199.99'\n",
      " '$189.99' '$111.98' '$31.59' '$16.15' '$7.98' '$16.76' '$6.99' '$59.39'\n",
      " '$25.20' '$118.92' '$24.27' '$16.00' '$58.49' '$30.58' '$32.99' '$294.99'\n",
      " '$33.88' '$79.82' '$13.58' '$349.00' '$9.88' '$43.85' '$472.33' '$10.99'\n",
      " '$119.98' '$849.99' '$45.04' '$64.98' '$3,569.99' '$32.39' '$15.89'\n",
      " '$41.99' '$89.97' '$35.89' '$32.96' '$154.69' '$14.42' '$98.99' '$298.99'\n",
      " '$59.49' '$32.71' '$103.99' '$12.39' '$13.95' '$42.99' '$9.93' '$32.98'\n",
      " '$19.52' '$127.58' '$143.00' '$19.51' '$28.46' '$1,279.20' '$33.04'\n",
      " '$43.99' '$38.00' '$49.39' '$29.73' '$28.04' '$39.93' '$104.49' '$196.06'\n",
      " '$26.95' '$319.99' '$142.19' '$1,219.99' '$43.41' '$6.96' '$12.49'\n",
      " '$71.74' '$38.39' '$28.78' '$269.99' '$5.38' '$63.19' '$13.55' '$23.10'\n",
      " '$53.34' '$64.99' '$54.98' '$399.00' '$37.12' '$191.99' '$11.96' '$28.89'\n",
      " '$39.18' '$93.59' '$33.59' '$32.38' '$14.39' '$24.69' '$14.49' '$123.48'\n",
      " '$29.72' '$48.13' '$24.87' '$15.19' '$36.51' '$57.78' '$18.97' '$73.09'\n",
      " '$493.99' '$183.99' '$100.79' '$16.89' '$21.99' '$28.79' '$58.69'\n",
      " '$94.98' '$51.91' '$62.98' '$36.54' '$13.06' '$40.77' '$39.88' '$259.99'\n",
      " '$84.98' '$48.97' '$247.00' '$359.98' '$87.99' '$106.99' '$29.49'\n",
      " '$67.94' '$105.99' '$167.39' '$18.69' '$132.99' '$20.57' '$58.88'\n",
      " '$49.00' '$19.45' '$40.49' '$65.44' '$38.99' '$17.55' '$45.99' '$24.14'\n",
      " '$30.39' '$22.93' '$89.96' '$599.00' '$34.97' '$446.50' '$79.28'\n",
      " '$143.19' '$44.89' '$38.65' '$71.97' '$407.15' '$7.85' '$29.36' '$5.17'\n",
      " '$161.99' '$16.58' '$28.36' '$159.98' '$6.79' '$249.96' '$76.99']\n",
      "['4.8 out of 5' '4.5 out of 5' '4.6 out of 5' '4.4 out of 5'\n",
      " '4.7 out of 5' '4.3 out of 5' '4.2 out of 5' '4.1 out of 5' '5 out of 5'\n",
      " '4 out of 5' '4.9 out of 5']\n",
      "['70,954 global ratings' '349,108 global ratings' '93,186 global ratings'\n",
      " '21,077 global ratings' '79,532 global ratings' '93,072 global ratings'\n",
      " '6,775 global ratings' '56,870 global ratings' '567 global ratings'\n",
      " '85,371 global ratings' '9,344 global ratings' '23,905 global ratings'\n",
      " '70,578 global ratings' '35,784 global ratings' '6,255 global ratings'\n",
      " '24,822 global ratings' '23,792 global ratings' '14,069 global ratings'\n",
      " '3,934 global ratings' '62,932 global ratings' '15,863 global ratings'\n",
      " '80,504 global ratings' '2,150 global ratings' '39,214 global ratings'\n",
      " '1,107 global ratings' '57,904 global ratings' '9,347 global ratings'\n",
      " '6,777 global ratings' '56,876 global ratings' '26,665 global ratings'\n",
      " '65,265 global ratings' '12,705 global ratings' '35,785 global ratings'\n",
      " '11,970 global ratings' '13,667 global ratings' '5,245 global ratings'\n",
      " '36,162 global ratings' '67,500 global ratings' '113,255 global ratings'\n",
      " '90,887 global ratings' '109,925 global ratings' '1,017 global ratings'\n",
      " '1,934 global ratings' '1,317 global ratings' '3,528 global ratings'\n",
      " '1,664 global ratings' '10,572 global ratings' '74,780 global ratings'\n",
      " '2,495 global ratings' '17,036 global ratings' '3,651 global ratings'\n",
      " '13,272 global ratings' '19,335 global ratings' '2,778 global ratings'\n",
      " '13,115 global ratings' '54,644 global ratings' '5,073 global ratings'\n",
      " '43,426 global ratings' '44,535 global ratings' '5,537 global ratings'\n",
      " '20,853 global ratings' '21,278 global ratings' '1,128 global ratings'\n",
      " '62,935 global ratings' '18,464 global ratings' '2,310 global ratings'\n",
      " '3,869 global ratings' '6,172 global ratings' '35,070 global ratings'\n",
      " '1,250 global ratings' '9,745 global ratings' '6,183 global ratings'\n",
      " '267 global ratings' '23,944 global ratings' '6,778 global ratings'\n",
      " '9,956 global ratings' '50 global ratings' '5,375 global ratings'\n",
      " '6,213 global ratings' '1,507 global ratings' '6,955 global ratings'\n",
      " '963 global ratings' '1,216 global ratings' '5,945 global ratings'\n",
      " '57 global ratings' '38,212 global ratings' '2,163 global ratings'\n",
      " '3,349 global ratings' '7,059 global ratings' '63,363 global ratings'\n",
      " '53,162 global ratings' '102,539 global ratings' '311,023 global ratings'\n",
      " '39,635 global ratings' '1,727 global ratings' '52,222 global ratings'\n",
      " '41,365 global ratings' '22,385 global ratings' '17,353 global ratings'\n",
      " '14,936 global ratings' '20,183 global ratings' '1,172 global ratings'\n",
      " '35,440 global ratings' '1,372 global ratings' '19,850 global ratings'\n",
      " '190 global ratings' '22,603 global ratings' '1,676 global ratings'\n",
      " '36,253 global ratings' '5 global ratings' '19,534 global ratings'\n",
      " '3,113 global ratings' '9,408 global ratings' '1,529 global ratings'\n",
      " '72 global ratings' '29,300 global ratings' '24,567 global ratings'\n",
      " '38,282 global ratings' '491 global ratings' '79,541 global ratings'\n",
      " '22,226 global ratings' '13,520 global ratings' '30,666 global ratings'\n",
      " '2,843 global ratings' '668 global ratings' '2,943 global ratings'\n",
      " '14,451 global ratings' '76,532 global ratings' '90,888 global ratings'\n",
      " '776 global ratings' '928 global ratings' '420 global ratings'\n",
      " '349,158 global ratings' '101,549 global ratings' '798 global ratings'\n",
      " '30,012 global ratings' '67,501 global ratings' '1,413 global ratings'\n",
      " '9,362 global ratings' '46,107 global ratings' '13,116 global ratings'\n",
      " '11,097 global ratings' '12,613 global ratings' '212 global ratings'\n",
      " '1,921 global ratings' '1,795 global ratings' '110,982 global ratings'\n",
      " '106,689 global ratings' '160 global ratings' '828 global ratings'\n",
      " '769 global ratings' '1,801 global ratings' '12,335 global ratings'\n",
      " '2,623 global ratings' '13,459 global ratings' '601 global ratings'\n",
      " '27,217 global ratings' '60 global ratings' '85,595 global ratings'\n",
      " '31,883 global ratings' '14,193 global ratings' '4,057 global ratings'\n",
      " '27 global ratings' '29,301 global ratings' '918 global ratings'\n",
      " '3,958 global ratings' '115 global ratings' '4,663 global ratings'\n",
      " '1,470 global ratings' '9,993 global ratings' '24,924 global ratings'\n",
      " '20,152 global ratings' '484 global ratings' '8,409 global ratings'\n",
      " '2,836 global ratings' '17,392 global ratings' '102,464 global ratings'\n",
      " '341,571 global ratings' '101,552 global ratings' '56,877 global ratings'\n",
      " '94,749 global ratings' '15,864 global ratings' '54,645 global ratings'\n",
      " '165 global ratings' '62,937 global ratings' '11,419 global ratings'\n",
      " '23 global ratings' '13,644 global ratings' '16,196 global ratings'\n",
      " '85,387 global ratings' '2,237 global ratings' '1,446 global ratings'\n",
      " '429 global ratings' '3,616 global ratings' '56,297 global ratings'\n",
      " '5,957 global ratings' '25,449 global ratings' '845 global ratings'\n",
      " '39,879 global ratings' '73,104 global ratings' '7,619 global ratings'\n",
      " '116,996 global ratings' '1,673 global ratings' '1,306 global ratings'\n",
      " '46,240 global ratings' '76,705 global ratings' '318 global ratings'\n",
      " '341,572 global ratings' '777 global ratings' '56,879 global ratings'\n",
      " '196,929 global ratings' '2,780 global ratings' '6,256 global ratings'\n",
      " '24,824 global ratings' '2,164 global ratings' '1,146 global ratings'\n",
      " '9,747 global ratings' '35,786 global ratings' '19,337 global ratings'\n",
      " '93,192 global ratings' '854 global ratings' '72,136 global ratings'\n",
      " '4,187 global ratings' '36,254 global ratings' '85,372 global ratings'\n",
      " '33 global ratings' '57,903 global ratings' '10,091 global ratings'\n",
      " '6,406 global ratings' '139,675 global ratings' '36,581 global ratings'\n",
      " '5,147 global ratings' '9,409 global ratings' '1,121 global ratings'\n",
      " '10,684 global ratings' '829 global ratings' '10,257 global ratings'\n",
      " '4,251 global ratings' '311,025 global ratings' '1,569 global ratings'\n",
      " '4,333 global ratings' '19,364 global ratings' '3,531 global ratings'\n",
      " '13,625 global ratings' '3,537 global ratings' '5,505 global ratings'\n",
      " '13,140 global ratings' '2,592 global ratings' '88,479 global ratings'\n",
      " '1,991 global ratings' '196,226 global ratings' '319 global ratings'\n",
      " '24,605 global ratings' '839 global ratings' '14,226 global ratings'\n",
      " '24,721 global ratings' '5,939 global ratings' '5,900 global ratings'\n",
      " '11,484 global ratings' '27,661 global ratings' '2,012 global ratings'\n",
      " '60,419 global ratings' '17,749 global ratings' '691 global ratings'\n",
      " '44,232 global ratings' '12,990 global ratings' '125,527 global ratings'\n",
      " '2,239 global ratings' '3,304 global ratings' '70,973 global ratings'\n",
      " '167 global ratings' '196,990 global ratings' '101,079 global ratings'\n",
      " '13,468 global ratings' '3,208 global ratings' '1,327 global ratings'\n",
      " '873 global ratings' '4,708 global ratings' '1,714 global ratings'\n",
      " '5,443 global ratings' '2,399 global ratings' '168,612 global ratings'\n",
      " '10 global ratings' '23,654 global ratings' '3,798 global ratings'\n",
      " '6,682 global ratings' '1,088 global ratings' '62,756 global ratings'\n",
      " '30,771 global ratings' '1,468 global ratings' '126,055 global ratings'\n",
      " '135 global ratings' '8,923 global ratings' '21,294 global ratings'\n",
      " '16,282 global ratings' '17,404 global ratings' '60,400 global ratings'\n",
      " '43,878 global ratings' '10,806 global ratings' '19,085 global ratings'\n",
      " '229 global ratings' '7,364 global ratings' '1,247 global ratings'\n",
      " '59,162 global ratings' '26,952 global ratings' '2,033 global ratings'\n",
      " '32,569 global ratings' '31,601 global ratings' '375 global ratings'\n",
      " '108,979 global ratings' '48,843 global ratings' '74,805 global ratings'\n",
      " '4,901 global ratings' '6,671 global ratings' '11,483 global ratings'\n",
      " '76 global ratings' '24,420 global ratings' '17,531 global ratings'\n",
      " '35,813 global ratings' '126,056 global ratings' '196,227 global ratings'\n",
      " '63 global ratings' '10,807 global ratings' '1,443 global ratings'\n",
      " '5,148 global ratings' '19,645 global ratings' '8,573 global ratings'\n",
      " '1,007 global ratings' '22,025 global ratings' '3,953 global ratings'\n",
      " '7,154 global ratings' '1,035 global ratings' '28,937 global ratings'\n",
      " '48,842 global ratings' '23,492 global ratings' '625 global ratings'\n",
      " '7,858 global ratings' '13,523 global ratings' '2,265 global ratings'\n",
      " '58,315 global ratings' '18,688 global ratings' '22,788 global ratings'\n",
      " '131 global ratings' '1,354 global ratings' '8,207 global ratings'\n",
      " '6,942 global ratings' '15,155 global ratings' '58,748 global ratings'\n",
      " '33,360 global ratings' '70,982 global ratings' '20,324 global ratings'\n",
      " '17,773 global ratings' '32,152 global ratings' '24,755 global ratings'\n",
      " '13,001 global ratings' '34,390 global ratings' '245 global ratings'\n",
      " '3,215 global ratings' '5,994 global ratings' '168,628 global ratings'\n",
      " '3,339 global ratings' '256 global ratings' '5,943 global ratings'\n",
      " '936 global ratings' '196,267 global ratings' '8,940 global ratings'\n",
      " '850 global ratings' '25,755 global ratings' '2,337 global ratings'\n",
      " '202 global ratings' '44,259 global ratings' '168,629 global ratings'\n",
      " '126,072 global ratings' '832 global ratings' '22,047 global ratings'\n",
      " '23,677 global ratings' '474 global ratings' '621 global ratings'\n",
      " '9,488 global ratings' '791 global ratings' '7,368 global ratings'\n",
      " '149 global ratings' '85,887 global ratings' '25,247 global ratings'\n",
      " '44,668 global ratings' '1,148 global ratings' '11,367 global ratings'\n",
      " '2,378 global ratings' '698 global ratings' '1,068 global ratings'\n",
      " '2,140 global ratings' '48,769 global ratings' '5,422 global ratings'\n",
      " '2,765 global ratings' '3,331 global ratings' '10,700 global ratings'\n",
      " '2,540 global ratings' '11,383 global ratings' '5,530 global ratings'\n",
      " '10,423 global ratings' '12,798 global ratings' '79 global ratings'\n",
      " '13,003 global ratings' '15,600 global ratings' '31 global ratings'\n",
      " '159 global ratings' '2,404 global ratings' '22,819 global ratings'\n",
      " '24,422 global ratings' '35,842 global ratings' '12,034 global ratings'\n",
      " '5,271 global ratings' '168,627 global ratings' '1,002 global ratings'\n",
      " '16,243 global ratings' '186,041 global ratings' '7,366 global ratings'\n",
      " '196,269 global ratings' '30,784 global ratings' '35,856 global ratings'\n",
      " '7,294 global ratings' '2,488 global ratings' '10,508 global ratings'\n",
      " '59,284 global ratings' '117,037 global ratings' '465 global ratings'\n",
      " '107,010 global ratings' '1,948 global ratings' '25,498 global ratings'\n",
      " '983 global ratings' '17,370 global ratings' '3,221 global ratings'\n",
      " '48,844 global ratings' '186 global ratings' '17,777 global ratings'\n",
      " '98 global ratings' '59,285 global ratings' '58,756 global ratings'\n",
      " '5,313 global ratings' '20,576 global ratings' '25,499 global ratings'\n",
      " '13,699 global ratings' '47,377 global ratings' '16,319 global ratings'\n",
      " '19,651 global ratings' '243,078 global ratings' '6 global ratings'\n",
      " '170 global ratings' '220 global ratings' '121,721 global ratings'\n",
      " '114,283 global ratings' '2,406 global ratings' '2,031 global ratings'\n",
      " '11,526 global ratings' '1,662 global ratings' '18,953 global ratings'\n",
      " '30,054 global ratings' '176 global ratings' '1,249 global ratings'\n",
      " '2,400 global ratings' '15,325 global ratings' '628 global ratings'\n",
      " '16,287 global ratings' '21,070 global ratings' '168,656 global ratings'\n",
      " '1,020 global ratings' '93 global ratings' '29,111 global ratings'\n",
      " '125,035 global ratings' '2,544 global ratings' '5,616 global ratings'\n",
      " '9 global ratings' '18,940 global ratings' '2,490 global ratings'\n",
      " '3 global ratings' '11,368 global ratings' '6,742 global ratings'\n",
      " '16,256 global ratings' '88,742 global ratings' '6,427 global ratings'\n",
      " '44,678 global ratings' '5,697 global ratings' '15,819 global ratings'\n",
      " '58,760 global ratings' '1,623 global ratings' '29,552 global ratings'\n",
      " '59,295 global ratings' '3,670 global ratings' '19,429 global ratings'\n",
      " '20,585 global ratings' '25,946 global ratings' '7,373 global ratings'\n",
      " '767 global ratings' '31,682 global ratings' '11,382 global ratings'\n",
      " '8,279 global ratings' '1,924 global ratings' '5,672 global ratings'\n",
      " '2,304 global ratings' '4,318 global ratings' '2,278 global ratings'\n",
      " '17,732 global ratings' '3,268 global ratings' '686 global ratings'\n",
      " '3,731 global ratings' '4,400 global ratings' '1,004 global ratings'\n",
      " '2,568 global ratings' '21,467 global ratings' '1,818 global ratings'\n",
      " '197,136 global ratings' '25,795 global ratings' '29,107 global ratings'\n",
      " '2,407 global ratings' '13,013 global ratings' '54,799 global ratings'\n",
      " '44,285 global ratings' '10,733 global ratings' '10,820 global ratings'\n",
      " '48,776 global ratings' '2,094 global ratings' '11,453 global ratings'\n",
      " '59,296 global ratings' '3,943 global ratings' '1,630 global ratings'\n",
      " '4,240 global ratings' '5,322 global ratings' '7,978 global ratings'\n",
      " '5,617 global ratings' '15,005 global ratings' '3,780 global ratings'\n",
      " '5,139 global ratings' '1,776 global ratings' '1,342 global ratings'\n",
      " '20,588 global ratings' '25,511 global ratings' '434 global ratings'\n",
      " '56,907 global ratings' '783 global ratings' '4,062 global ratings'\n",
      " '836 global ratings' '4,745 global ratings' '168,660 global ratings'\n",
      " '2,401 global ratings' '67 global ratings' '428 global ratings'\n",
      " '3,690 global ratings' '9,376 global ratings' '35,893 global ratings'\n",
      " '8,984 global ratings' '40,767 global ratings' '76,564 global ratings'\n",
      " '140 global ratings' '177 global ratings' '196,371 global ratings'\n",
      " '9,290 global ratings' '7,552 global ratings' '4 global ratings'\n",
      " '971 global ratings' '1,456 global ratings' '19,666 global ratings'\n",
      " '276 global ratings' '5,328 global ratings' '1,256 global ratings'\n",
      " '116 global ratings' '18,183 global ratings' '632 global ratings'\n",
      " '1,047 global ratings' '133,924 global ratings' '5,320 global ratings'\n",
      " '15,362 global ratings' '25,521 global ratings' '59,307 global ratings'\n",
      " '13,692 global ratings' '6,430 global ratings' '6,727 global ratings'\n",
      " '37,821 global ratings' '270,511 global ratings' '7,768 global ratings'\n",
      " '82 global ratings' '448 global ratings' '6,969 global ratings'\n",
      " '29,564 global ratings' '18,946 global ratings' '1,239 global ratings'\n",
      " '721 global ratings' '38,715 global ratings' '540 global ratings'\n",
      " '1,713 global ratings' '1,602 global ratings' '168,710 global ratings'\n",
      " '1,262 global ratings' '1,740 global ratings' '9,276 global ratings'\n",
      " '1,684 global ratings' '67,600 global ratings' '2,803 global ratings'\n",
      " '3,148 global ratings' '609 global ratings' '7,438 global ratings'\n",
      " '7,404 global ratings' '106,300 global ratings' '101,255 global ratings'\n",
      " '15,963 global ratings' '4,397 global ratings' '2,342 global ratings'\n",
      " '1,242 global ratings' '85,416 global ratings' '1,059 global ratings'\n",
      " '638 global ratings' '2,189 global ratings' '39,814 global ratings'\n",
      " '18,194 global ratings' '24,874 global ratings' '1,070 global ratings'\n",
      " '1,339 global ratings' '26,052 global ratings' '20,597 global ratings'\n",
      " '1,878 global ratings' '9,826 global ratings' '33,584 global ratings'\n",
      " '5,974 global ratings' '1,319 global ratings' '106 global ratings'\n",
      " '19,605 global ratings' '3,064 global ratings' '48,482 global ratings'\n",
      " '3,027 global ratings' '19,659 global ratings' '1,391 global ratings'\n",
      " '455 global ratings' '5,430 global ratings' '2,893 global ratings'\n",
      " '123,436 global ratings' '31,245 global ratings' '4,138 global ratings'\n",
      " '2,497 global ratings' '85 global ratings' '4,792 global ratings'\n",
      " '2,262 global ratings' '944 global ratings' '148,403 global ratings'\n",
      " '11,557 global ratings' '12,681 global ratings' '39,439 global ratings'\n",
      " '7,387 global ratings' '7,930 global ratings' '3,515 global ratings'\n",
      " '24,670 global ratings' '101,254 global ratings' '66,886 global ratings'\n",
      " '3,054 global ratings' '26,773 global ratings' '18,489 global ratings'\n",
      " '17,755 global ratings' '56,897 global ratings' '5,413 global ratings'\n",
      " '26 global ratings' '607 global ratings' '7,986 global ratings'\n",
      " '39 global ratings' '3,340 global ratings' '11 global ratings'\n",
      " '2,320 global ratings' '1,493 global ratings' '9,897 global ratings'\n",
      " '54,814 global ratings' '1,753 global ratings' '3,806 global ratings'\n",
      " '718 global ratings' '27,810 global ratings' '175 global ratings'\n",
      " '5,704 global ratings' '1,435 global ratings' '10,429 global ratings'\n",
      " '4,090 global ratings' '18,803 global ratings' '2,475 global ratings'\n",
      " '717 global ratings' '9,918 global ratings' '9,618 global ratings'\n",
      " '328 global ratings' '15,811 global ratings' '26,053 global ratings'\n",
      " '14,861 global ratings' '2,738 global ratings' '906 global ratings'\n",
      " '11,911 global ratings' '28,025 global ratings' '619 global ratings'\n",
      " '11,593 global ratings' '5,965 global ratings' '19,566 global ratings'\n",
      " '36,511 global ratings' '18,096 global ratings' '204 global ratings'\n",
      " '3,076 global ratings' '459 global ratings' '496 global ratings'\n",
      " '14,523 global ratings' '155,828 global ratings' '18,705 global ratings'\n",
      " '1,302 global ratings' '45,807 global ratings' '795 global ratings'\n",
      " '2,040 global ratings' '565 global ratings' '197,340 global ratings'\n",
      " '341,747 global ratings' '10,277 global ratings' '44,374 global ratings'\n",
      " '79,724 global ratings' '31,833 global ratings' '22,158 global ratings'\n",
      " '30,168 global ratings' '15,379 global ratings' '62,830 global ratings'\n",
      " '620 global ratings' '7,187 global ratings' '52,954 global ratings'\n",
      " '7,444 global ratings' '4,393 global ratings' '581 global ratings'\n",
      " '20,766 global ratings' '7,429 global ratings' '84 global ratings'\n",
      " '3,883 global ratings' '197 global ratings' '283 global ratings'\n",
      " '647 global ratings' '115,098 global ratings' '1,969 global ratings'\n",
      " '8,196 global ratings' '17,598 global ratings' '131,671 global ratings'\n",
      " '15,878 global ratings' '7,174 global ratings' '23,706 global ratings'\n",
      " '298 global ratings' '2,157 global ratings' '35,961 global ratings'\n",
      " '8,729 global ratings' '347 global ratings' '293 global ratings'\n",
      " '26,062 global ratings' '18,957 global ratings' '20,605 global ratings'\n",
      " '48,796 global ratings' '1,203 global ratings' '19,615 global ratings'\n",
      " '2,333 global ratings' '5,520 global ratings' '1,437 global ratings'\n",
      " '2,450 global ratings' '4,932 global ratings' '1,816 global ratings'\n",
      " '14,528 global ratings' '1,101 global ratings' '6,506 global ratings'\n",
      " '34 global ratings' '12,906 global ratings' '2,887 global ratings'\n",
      " '199 global ratings' '20,215 global ratings' '10,560 global ratings'\n",
      " '14,498 global ratings' '8,055 global ratings' '4,016 global ratings'\n",
      " '16,890 global ratings' '6,086 global ratings' '54 global ratings'\n",
      " '64 global ratings' '2,039 global ratings' '3,323 global ratings'\n",
      " '1,420 global ratings' '456 global ratings' '10,621 global ratings'\n",
      " '10,739 global ratings' '131,672 global ratings' '11,916 global ratings'\n",
      " '4,095 global ratings' '8,726 global ratings' '2,760 global ratings'\n",
      " '1,947 global ratings' '387 global ratings' '8,015 global ratings'\n",
      " '351 global ratings' '161 global ratings' '3,044 global ratings'\n",
      " '1,452 global ratings' '1,846 global ratings' '6,067 global ratings'\n",
      " '5,033 global ratings' '59,533 global ratings' '12,141 global ratings'\n",
      " '11,844 global ratings' '3,566 global ratings' '37,808 global ratings'\n",
      " '58 global ratings' '2,854 global ratings' '51 global ratings'\n",
      " '33,327 global ratings' '197,342 global ratings' '2,434 global ratings'\n",
      " '3,727 global ratings' '168,736 global ratings' '26,389 global ratings'\n",
      " '1,755 global ratings' '785 global ratings' '5,345 global ratings'\n",
      " '20,606 global ratings' '372 global ratings' '8,427 global ratings'\n",
      " '9,039 global ratings' '602 global ratings' '26,063 global ratings'\n",
      " '7,937 global ratings' '19,432 global ratings' '3,549 global ratings'\n",
      " '14,868 global ratings' '18,973 global ratings' '44,727 global ratings'\n",
      " '23,735 global ratings' '4,096 global ratings' '1,119 global ratings'\n",
      " '1,379 global ratings' '3,008 global ratings' '7,327 global ratings'\n",
      " '858 global ratings' '3,074 global ratings' '23,537 global ratings'\n",
      " '4,023 global ratings' '2,072 global ratings' '19,504 global ratings'\n",
      " '117 global ratings' '1,929 global ratings' '1,334 global ratings'\n",
      " '435 global ratings' '6,153 global ratings' '20,977 global ratings'\n",
      " '6,593 global ratings' '1,860 global ratings' '13,666 global ratings'\n",
      " '530 global ratings' '35,971 global ratings' '406 global ratings'\n",
      " '1,414 global ratings' '24,621 global ratings' '17,356 global ratings'\n",
      " '63,117 global ratings' '7,002 global ratings' '473 global ratings'\n",
      " '124 global ratings' '16,376 global ratings' '1,918 global ratings'\n",
      " '1,012 global ratings' '779 global ratings' '1,008 global ratings'\n",
      " '449 global ratings' '4,966 global ratings' '12,688 global ratings'\n",
      " '9,184 global ratings' '1,045 global ratings' '438 global ratings'\n",
      " '3,314 global ratings' '23,971 global ratings' '618 global ratings'\n",
      " '11,579 global ratings' '4,519 global ratings']\n"
     ]
    }
   ],
   "source": [
    " # Checking the different unique values in Actual_Price, Discounted_Price, Rating and Rating_count \n",
    "print(df['Actual_Price'].unique()) \n",
    "print(df['Discounted_Price'].unique())\n",
    "print(df['Rating'].unique())\n",
    "print(df['Rating_Count'].unique()) "
   ]
  },
  {
   "cell_type": "markdown",
   "id": "4e6c318c",
   "metadata": {},
   "source": [
    "we can see that Actual_price contains unique values that contain texts Typical price , List price , comma , per  Count ,per Inch and dollar sign . While  Discounted Price contains $ and commas \n",
    "\n",
    "Rating_count contains the text global ratings and commas while ratings contain the text out of 5"
   ]
  },
  {
   "cell_type": "code",
   "execution_count": 11,
   "id": "afeaad65",
   "metadata": {},
   "outputs": [],
   "source": [
    " # Replacing the string values with empty string ''\n",
    "df['Actual_Price'] = df['Actual_Price'].str.replace('Typical price','')\n",
    "df['Actual_Price'] = df['Actual_Price'].str.replace('List Price','')\n",
    "df['Actual_Price'] = df['Actual_Price'].str.replace('per Count','')\n",
    "df['Actual_Price'] = df['Actual_Price'].str.replace('per count','')\n",
    "df['Actual_Price'] = df['Actual_Price'].str.replace('per Inch','')\n",
    "df['Actual_Price'] = df['Actual_Price'].str.replace('per Ounce','')\n",
    "df['Actual_Price'] = df['Actual_Price'].str.replace('per Foot','')\n",
    "df['Actual_Price'] = df['Actual_Price'].str.replace('per Sq Ft','')\n",
    "df['Actual_Price'] = df['Actual_Price'].str.replace('per Fl Oz','')\n",
    "df['Actual_Price'] = df['Actual_Price'].str.replace('per Feet','')\n",
    "df['Actual_Price'] = df['Actual_Price'].str.replace('per oz','')\n",
    "df['Actual_Price'] = df['Actual_Price'].str.replace(':','')\n",
    "df['Actual_Price'] = df['Actual_Price'].str.replace(' ','')\n",
    "df['Actual_Price'] = df['Actual_Price'].str.replace(',','')\n",
    "df['Actual_Price'] = df['Actual_Price'].str.replace('$','')\n",
    "\n",
    "\n",
    "df['Discounted_Price'] = df['Discounted_Price'].str.replace(',','')\n",
    "df['Discounted_Price'] = df['Discounted_Price'].str.replace('$','')\n",
    "df['Discounted_Price'] = df['Discounted_Price'].str.replace(' ','')\n",
    "\n",
    "df['Rating'] = df['Rating'].str.replace('out of 5','')\n",
    "df['Rating'] = df['Rating'].str.replace(' ','')\n",
    "\n",
    "df['Rating_Count'] = df['Rating_Count'].str.replace('global ratings','')\n",
    "df['Rating_Count'] = df['Rating_Count'].str.replace(',','')\n",
    "df['Rating_Count'] = df['Rating_Count'].str.replace(' ','')"
   ]
  },
  {
   "cell_type": "code",
   "execution_count": 12,
   "id": "7e689c4c",
   "metadata": {},
   "outputs": [
    {
     "name": "stdout",
     "output_type": "stream",
     "text": [
      "Product_ID           object\n",
      "Product_Name         object\n",
      "Category             object\n",
      "Product_Link         object\n",
      "Discounted_Price    float64\n",
      "Actual_Price        float64\n",
      "Rating              float64\n",
      "Rating_Count          int64\n",
      "Reviewers            object\n",
      "Reviews              object\n",
      "dtype: object\n"
     ]
    }
   ],
   "source": [
    " # Changing the Datatypes to float or integers \n",
    "df['Actual_Price'] = df['Actual_Price'].astype('float') \n",
    "df['Discounted_Price'] = df['Discounted_Price'].astype('float')\n",
    "\n",
    "df['Rating'] = df['Rating'].astype('float')\n",
    "df['Rating_Count'] = df['Rating_Count'].astype('int')\n",
    "\n",
    " # Printing the Datatypes\n",
    "print(df.dtypes) \n"
   ]
  },
  {
   "cell_type": "markdown",
   "id": "21e30a51",
   "metadata": {},
   "source": [
    "We now need to check for duplicated values if any and remove them "
   ]
  },
  {
   "cell_type": "code",
   "execution_count": 13,
   "id": "b7bb1186",
   "metadata": {},
   "outputs": [
    {
     "name": "stdout",
     "output_type": "stream",
     "text": [
      "0\n"
     ]
    }
   ],
   "source": [
    "print( df.duplicated().sum() )"
   ]
  },
  {
   "cell_type": "code",
   "execution_count": 14,
   "id": "d963ef04",
   "metadata": {},
   "outputs": [
    {
     "data": {
      "application/vnd.microsoft.datawrangler.viewer.v0+json": {
       "columns": [
        {
         "name": "index",
         "rawType": "int64",
         "type": "integer"
        },
        {
         "name": "Category",
         "rawType": "object",
         "type": "string"
        }
       ],
       "ref": "bbcce7dc-9415-43ba-b825-bc69db39ae96",
       "rows": [
        [
         "1",
         "Baby Products$Car Seats & Accessories"
        ],
        [
         "2",
         "Home & Kitchen$Bedding"
        ],
        [
         "3",
         "Health & Household$Health Care"
        ],
        [
         "4",
         "Baby Products$Pregnancy & Maternity"
        ],
        [
         "6",
         "Home & Kitchen$Bedding"
        ]
       ],
       "shape": {
        "columns": 1,
        "rows": 5
       }
      },
      "text/plain": [
       "1    Baby Products$Car Seats & Accessories\n",
       "2                   Home & Kitchen$Bedding\n",
       "3           Health & Household$Health Care\n",
       "4      Baby Products$Pregnancy & Maternity\n",
       "6                   Home & Kitchen$Bedding\n",
       "Name: Category, dtype: object"
      ]
     },
     "metadata": {},
     "output_type": "display_data"
    }
   ],
   "source": [
    " # Printing the categories column\n",
    "display( df['Category'].head() )"
   ]
  },
  {
   "cell_type": "markdown",
   "id": "62fa908c",
   "metadata": {},
   "source": [
    "Since there are no duplicated values there is no need to drop the duplicated values.\n",
    "\n",
    "Looking at the category column we can see that the categories are concatenated into a single string, separated by a dollar sign ($) therefore we need to split the string at the dollar sign then assign each split value to its respective columns."
   ]
  },
  {
   "cell_type": "code",
   "execution_count": 15,
   "id": "85cef86b",
   "metadata": {},
   "outputs": [
    {
     "data": {
      "application/vnd.microsoft.datawrangler.viewer.v0+json": {
       "columns": [
        {
         "name": "index",
         "rawType": "int64",
         "type": "integer"
        },
        {
         "name": "0",
         "rawType": "object",
         "type": "string"
        },
        {
         "name": "1",
         "rawType": "object",
         "type": "string"
        }
       ],
       "ref": "ff98af27-4e91-4536-a1ab-370a64637035",
       "rows": [
        [
         "1",
         "Baby Products",
         "Car Seats & Accessories"
        ],
        [
         "2",
         "Home & Kitchen",
         "Bedding"
        ],
        [
         "3",
         "Health & Household",
         "Health Care"
        ],
        [
         "4",
         "Baby Products",
         "Pregnancy & Maternity"
        ],
        [
         "6",
         "Home & Kitchen",
         "Bedding"
        ]
       ],
       "shape": {
        "columns": 2,
        "rows": 5
       }
      },
      "text/html": [
       "<div>\n",
       "<style scoped>\n",
       "    .dataframe tbody tr th:only-of-type {\n",
       "        vertical-align: middle;\n",
       "    }\n",
       "\n",
       "    .dataframe tbody tr th {\n",
       "        vertical-align: top;\n",
       "    }\n",
       "\n",
       "    .dataframe thead th {\n",
       "        text-align: right;\n",
       "    }\n",
       "</style>\n",
       "<table border=\"1\" class=\"dataframe\">\n",
       "  <thead>\n",
       "    <tr style=\"text-align: right;\">\n",
       "      <th></th>\n",
       "      <th>0</th>\n",
       "      <th>1</th>\n",
       "    </tr>\n",
       "  </thead>\n",
       "  <tbody>\n",
       "    <tr>\n",
       "      <th>1</th>\n",
       "      <td>Baby Products</td>\n",
       "      <td>Car Seats &amp; Accessories</td>\n",
       "    </tr>\n",
       "    <tr>\n",
       "      <th>2</th>\n",
       "      <td>Home &amp; Kitchen</td>\n",
       "      <td>Bedding</td>\n",
       "    </tr>\n",
       "    <tr>\n",
       "      <th>3</th>\n",
       "      <td>Health &amp; Household</td>\n",
       "      <td>Health Care</td>\n",
       "    </tr>\n",
       "    <tr>\n",
       "      <th>4</th>\n",
       "      <td>Baby Products</td>\n",
       "      <td>Pregnancy &amp; Maternity</td>\n",
       "    </tr>\n",
       "    <tr>\n",
       "      <th>6</th>\n",
       "      <td>Home &amp; Kitchen</td>\n",
       "      <td>Bedding</td>\n",
       "    </tr>\n",
       "  </tbody>\n",
       "</table>\n",
       "</div>"
      ],
      "text/plain": [
       "                    0                        1\n",
       "1       Baby Products  Car Seats & Accessories\n",
       "2      Home & Kitchen                  Bedding\n",
       "3  Health & Household              Health Care\n",
       "4       Baby Products    Pregnancy & Maternity\n",
       "6      Home & Kitchen                  Bedding"
      ]
     },
     "metadata": {},
     "output_type": "display_data"
    }
   ],
   "source": [
    " # Splitting the Categories and expanding the split categories into their separate columns \n",
    "category_split = df['Category'].str.split( '$' , expand = True )\n",
    "\n",
    "display( category_split.head() )"
   ]
  },
  {
   "cell_type": "markdown",
   "id": "ce880df3",
   "metadata": {},
   "source": [
    "we can see that the categories have been split into two columns now we need to rename the columns to category_1 , Category_2 "
   ]
  },
  {
   "cell_type": "code",
   "execution_count": 16,
   "id": "e4deb270",
   "metadata": {},
   "outputs": [
    {
     "data": {
      "application/vnd.microsoft.datawrangler.viewer.v0+json": {
       "columns": [
        {
         "name": "index",
         "rawType": "int64",
         "type": "integer"
        },
        {
         "name": "category_1",
         "rawType": "object",
         "type": "string"
        },
        {
         "name": "category_2",
         "rawType": "object",
         "type": "string"
        }
       ],
       "ref": "42c02144-ec00-4d1b-961b-f380049cf988",
       "rows": [
        [
         "1",
         "Baby Products",
         "Car Seats & Accessories"
        ],
        [
         "2",
         "Home & Kitchen",
         "Bedding"
        ],
        [
         "3",
         "Health & Household",
         "Health Care"
        ],
        [
         "4",
         "Baby Products",
         "Pregnancy & Maternity"
        ],
        [
         "6",
         "Home & Kitchen",
         "Bedding"
        ]
       ],
       "shape": {
        "columns": 2,
        "rows": 5
       }
      },
      "text/html": [
       "<div>\n",
       "<style scoped>\n",
       "    .dataframe tbody tr th:only-of-type {\n",
       "        vertical-align: middle;\n",
       "    }\n",
       "\n",
       "    .dataframe tbody tr th {\n",
       "        vertical-align: top;\n",
       "    }\n",
       "\n",
       "    .dataframe thead th {\n",
       "        text-align: right;\n",
       "    }\n",
       "</style>\n",
       "<table border=\"1\" class=\"dataframe\">\n",
       "  <thead>\n",
       "    <tr style=\"text-align: right;\">\n",
       "      <th></th>\n",
       "      <th>category_1</th>\n",
       "      <th>category_2</th>\n",
       "    </tr>\n",
       "  </thead>\n",
       "  <tbody>\n",
       "    <tr>\n",
       "      <th>1</th>\n",
       "      <td>Baby Products</td>\n",
       "      <td>Car Seats &amp; Accessories</td>\n",
       "    </tr>\n",
       "    <tr>\n",
       "      <th>2</th>\n",
       "      <td>Home &amp; Kitchen</td>\n",
       "      <td>Bedding</td>\n",
       "    </tr>\n",
       "    <tr>\n",
       "      <th>3</th>\n",
       "      <td>Health &amp; Household</td>\n",
       "      <td>Health Care</td>\n",
       "    </tr>\n",
       "    <tr>\n",
       "      <th>4</th>\n",
       "      <td>Baby Products</td>\n",
       "      <td>Pregnancy &amp; Maternity</td>\n",
       "    </tr>\n",
       "    <tr>\n",
       "      <th>6</th>\n",
       "      <td>Home &amp; Kitchen</td>\n",
       "      <td>Bedding</td>\n",
       "    </tr>\n",
       "  </tbody>\n",
       "</table>\n",
       "</div>"
      ],
      "text/plain": [
       "           category_1               category_2\n",
       "1       Baby Products  Car Seats & Accessories\n",
       "2      Home & Kitchen                  Bedding\n",
       "3  Health & Household              Health Care\n",
       "4       Baby Products    Pregnancy & Maternity\n",
       "6      Home & Kitchen                  Bedding"
      ]
     },
     "metadata": {},
     "output_type": "display_data"
    }
   ],
   "source": [
    " # Renaming the Categories \n",
    "category_split = category_split.rename( columns = { 0 : 'category_1' , 1 : 'category_2'} )\n",
    "\n",
    "display( category_split.head() )"
   ]
  },
  {
   "cell_type": "markdown",
   "id": "690f8408",
   "metadata": {},
   "source": [
    "We will now remove the original 'Category' column from the DataFrame and replace it with the newly created columns from splitting the category string."
   ]
  },
  {
   "cell_type": "code",
   "execution_count": 17,
   "id": "9e21ca32",
   "metadata": {},
   "outputs": [
    {
     "data": {
      "application/vnd.microsoft.datawrangler.viewer.v0+json": {
       "columns": [
        {
         "name": "index",
         "rawType": "int64",
         "type": "integer"
        },
        {
         "name": "Product_ID",
         "rawType": "object",
         "type": "string"
        },
        {
         "name": "Product_Name",
         "rawType": "object",
         "type": "string"
        },
        {
         "name": "Product_Link",
         "rawType": "object",
         "type": "string"
        },
        {
         "name": "Discounted_Price",
         "rawType": "float64",
         "type": "float"
        },
        {
         "name": "Actual_Price",
         "rawType": "float64",
         "type": "float"
        },
        {
         "name": "Rating",
         "rawType": "float64",
         "type": "float"
        },
        {
         "name": "Rating_Count",
         "rawType": "int64",
         "type": "integer"
        },
        {
         "name": "Reviewers",
         "rawType": "object",
         "type": "string"
        },
        {
         "name": "Reviews",
         "rawType": "object",
         "type": "string"
        },
        {
         "name": "category_1",
         "rawType": "object",
         "type": "string"
        },
        {
         "name": "category_2",
         "rawType": "object",
         "type": "string"
        }
       ],
       "ref": "66d5176d-9be5-412f-869f-dc717263702f",
       "rows": [
        [
         "1",
         "B019EGMGR0",
         "Graco Extend2Fit Convertible Baby Car Seat",
         "https://www.amazon.com/Graco-Extend2Fit-Convertible-Seat-Gotham/dp/B019EGMGR0?ref=dlx_deals_dg_dcl_B019EGMGR0_dt_sl14_a6",
         "149.99",
         "199.99",
         "4.8",
         "70954",
         "Amazon Customer|Amazon Customer|Chiara Flattery|Rebecca Hanshew|Alayna|Justin|Ashley|Marie|Marie|Mark|Barbara Dutra|Cliente de Amazon|Perla B.|Abhishek Behari|Abhishek Behari|AM Sharma",
         "Versatile and Comfortable – A Top Choice for Growing Families!|Safe and affordable|Absolutely love the installation latches !|Perfection! Safe! Great Product!|Excellent Car Seat – Safe, Comfortable, and a Great Deal!|My favorite car seat!|Seems decent but using the anchor straps is a must",
         "Baby Products",
         "Car Seats & Accessories"
        ],
        [
         "2",
         "B01LWMWAXV",
         "King Size 4 Piece Sheet Set - Comfy Breathable & Cooling Sheets - Hotel Luxury Bed Sheets for Women & Men - Deep Pockets",
         "https://www.amazon.com/King-Size-Sheet-Set-Breathable/dp/B01LWMWAXV?ref=dlx_deals_dg_dcl_B01LWMWAXV_dt_sl14_a6",
         "29.74",
         "34.99",
         "4.5",
         "349108",
         "Amazon Customer|Amazon Customer|John cromwell|Amanda|A Shopper|Lisa|Kehinda Pryor|J. L.|Anuj sharma|Brenda M.|Malak|Kamal A.|Felix Barongo",
         "Finally we BOTH can sleep comfy!|Luxurious Comfort and Quality!|Very Comfortable and Soft|The softest sheets!|Soft, Cool, and Luxuriously Comfortable!|Love these sheets!",
         "Home & Kitchen",
         "Bedding"
        ],
        [
         "3",
         "B07XFC3MF3",
         "MZOO Sleep Eye Mask for Men Women",
         "https://www.amazon.com/MZOO-Contoured-Sleeping-Blindfold-Concave/dp/B07XFC3MF3?ref=dlx_deals_dg_dcl_B07XFC3MF3_dt_sl14_a6",
         "16.99",
         "22.99",
         "4.6",
         "93186",
         "Amazon Customer|Amazon Customer|Nithin Kumar|Cam|Cam|djljejm7|Perrie Carrow|DBS|Margaret Justice|ChiChi16|Susy|Manuel Jesús Araujo Alamilla|Abdulelah|L D|Denise gh",
         "Product Design|**A Nighttime Revelation: The MZOO Sleep Eye Mask Transforms Sleep!**|Perfect in every way|Very comfortable and blocks light|Excellent!|Love this Sleep Mask|Voted 2024 best sleep mask!",
         "Health & Household",
         "Health Care"
        ],
        [
         "4",
         "B08YYVRXLM",
         "Momcozy Pregnancy Pillows for Sleeping",
         "https://www.amazon.com/Momcozy-Pregnancy-Maternity-Removable-Sleeping/dp/B08YYVRXLM?ref=dlx_deals_dg_dcl_B08YYVRXLM_dt_sl14_a6",
         "36.99",
         "54.99",
         "4.5",
         "21077",
         "Amazon Customer|Amazon Customer|Jammie|Nick|Kimmy|Lavender seeker|Kristen A.|Julia|Dhara|Yara|Ajay Shrivatsav V.P.|Nouf|Em|Em|Tamika|kyra iannone",
         "Comfortable!|Not just for pregnancy|It’s cool and comfortable.|Pregnancy pillow|Dense & Fluffy - so much better than I was expecting|Perfect fit|Too fluffy and uncomfortable to sleep with|Super comfortable!",
         "Baby Products",
         "Pregnancy & Maternity"
        ],
        [
         "6",
         "B07F946VMJ",
         "Extra Deep Queen Sheet Set - 6 Piece Breathable & Cooling Sheets - Hotel Luxury Bed Sheets Set - Easy & Secure Fit - Soft",
         "https://www.amazon.com/Piece-Fitted-Sheet-Set-Mattress/dp/B07F946VMJ?ref=dlx_deals_dg_dcl_B07F946VMJ_dt_sl14_a6",
         "34.92",
         "79.99",
         "4.4",
         "79532",
         "Amazon Customer|Amazon Customer|Hayley|J.|Judy L.|Gabby|Arleen|DEBORAH|Vic|MARIA EUGENIA GONZALEZ VELA|Martha perez|Irma",
         "You won’t be disappointed|Can't go wrong with these.|Get the best sleep ever - soft, stay cool, don't wrinkle or pill after washing, and stay on.|Wait till they go on sale!|So soft and satiny!",
         "Home & Kitchen",
         "Bedding"
        ]
       ],
       "shape": {
        "columns": 11,
        "rows": 5
       }
      },
      "text/html": [
       "<div>\n",
       "<style scoped>\n",
       "    .dataframe tbody tr th:only-of-type {\n",
       "        vertical-align: middle;\n",
       "    }\n",
       "\n",
       "    .dataframe tbody tr th {\n",
       "        vertical-align: top;\n",
       "    }\n",
       "\n",
       "    .dataframe thead th {\n",
       "        text-align: right;\n",
       "    }\n",
       "</style>\n",
       "<table border=\"1\" class=\"dataframe\">\n",
       "  <thead>\n",
       "    <tr style=\"text-align: right;\">\n",
       "      <th></th>\n",
       "      <th>Product_ID</th>\n",
       "      <th>Product_Name</th>\n",
       "      <th>Product_Link</th>\n",
       "      <th>Discounted_Price</th>\n",
       "      <th>Actual_Price</th>\n",
       "      <th>Rating</th>\n",
       "      <th>Rating_Count</th>\n",
       "      <th>Reviewers</th>\n",
       "      <th>Reviews</th>\n",
       "      <th>category_1</th>\n",
       "      <th>category_2</th>\n",
       "    </tr>\n",
       "  </thead>\n",
       "  <tbody>\n",
       "    <tr>\n",
       "      <th>1</th>\n",
       "      <td>B019EGMGR0</td>\n",
       "      <td>Graco Extend2Fit Convertible Baby Car Seat</td>\n",
       "      <td>https://www.amazon.com/Graco-Extend2Fit-Conver...</td>\n",
       "      <td>149.99</td>\n",
       "      <td>199.99</td>\n",
       "      <td>4.8</td>\n",
       "      <td>70954</td>\n",
       "      <td>Amazon Customer|Amazon Customer|Chiara Flatter...</td>\n",
       "      <td>Versatile and Comfortable – A Top Choice for G...</td>\n",
       "      <td>Baby Products</td>\n",
       "      <td>Car Seats &amp; Accessories</td>\n",
       "    </tr>\n",
       "    <tr>\n",
       "      <th>2</th>\n",
       "      <td>B01LWMWAXV</td>\n",
       "      <td>King Size 4 Piece Sheet Set - Comfy Breathable...</td>\n",
       "      <td>https://www.amazon.com/King-Size-Sheet-Set-Bre...</td>\n",
       "      <td>29.74</td>\n",
       "      <td>34.99</td>\n",
       "      <td>4.5</td>\n",
       "      <td>349108</td>\n",
       "      <td>Amazon Customer|Amazon Customer|John cromwell|...</td>\n",
       "      <td>Finally we BOTH can sleep comfy!|Luxurious Com...</td>\n",
       "      <td>Home &amp; Kitchen</td>\n",
       "      <td>Bedding</td>\n",
       "    </tr>\n",
       "    <tr>\n",
       "      <th>3</th>\n",
       "      <td>B07XFC3MF3</td>\n",
       "      <td>MZOO Sleep Eye Mask for Men Women</td>\n",
       "      <td>https://www.amazon.com/MZOO-Contoured-Sleeping...</td>\n",
       "      <td>16.99</td>\n",
       "      <td>22.99</td>\n",
       "      <td>4.6</td>\n",
       "      <td>93186</td>\n",
       "      <td>Amazon Customer|Amazon Customer|Nithin Kumar|C...</td>\n",
       "      <td>Product Design|**A Nighttime Revelation: The M...</td>\n",
       "      <td>Health &amp; Household</td>\n",
       "      <td>Health Care</td>\n",
       "    </tr>\n",
       "    <tr>\n",
       "      <th>4</th>\n",
       "      <td>B08YYVRXLM</td>\n",
       "      <td>Momcozy Pregnancy Pillows for Sleeping</td>\n",
       "      <td>https://www.amazon.com/Momcozy-Pregnancy-Mater...</td>\n",
       "      <td>36.99</td>\n",
       "      <td>54.99</td>\n",
       "      <td>4.5</td>\n",
       "      <td>21077</td>\n",
       "      <td>Amazon Customer|Amazon Customer|Jammie|Nick|Ki...</td>\n",
       "      <td>Comfortable!|Not just for pregnancy|It’s cool ...</td>\n",
       "      <td>Baby Products</td>\n",
       "      <td>Pregnancy &amp; Maternity</td>\n",
       "    </tr>\n",
       "    <tr>\n",
       "      <th>6</th>\n",
       "      <td>B07F946VMJ</td>\n",
       "      <td>Extra Deep Queen Sheet Set - 6 Piece Breathabl...</td>\n",
       "      <td>https://www.amazon.com/Piece-Fitted-Sheet-Set-...</td>\n",
       "      <td>34.92</td>\n",
       "      <td>79.99</td>\n",
       "      <td>4.4</td>\n",
       "      <td>79532</td>\n",
       "      <td>Amazon Customer|Amazon Customer|Hayley|J.|Judy...</td>\n",
       "      <td>You won’t be disappointed|Can't go wrong with ...</td>\n",
       "      <td>Home &amp; Kitchen</td>\n",
       "      <td>Bedding</td>\n",
       "    </tr>\n",
       "  </tbody>\n",
       "</table>\n",
       "</div>"
      ],
      "text/plain": [
       "   Product_ID                                       Product_Name  \\\n",
       "1  B019EGMGR0         Graco Extend2Fit Convertible Baby Car Seat   \n",
       "2  B01LWMWAXV  King Size 4 Piece Sheet Set - Comfy Breathable...   \n",
       "3  B07XFC3MF3                  MZOO Sleep Eye Mask for Men Women   \n",
       "4  B08YYVRXLM             Momcozy Pregnancy Pillows for Sleeping   \n",
       "6  B07F946VMJ  Extra Deep Queen Sheet Set - 6 Piece Breathabl...   \n",
       "\n",
       "                                        Product_Link  Discounted_Price  \\\n",
       "1  https://www.amazon.com/Graco-Extend2Fit-Conver...            149.99   \n",
       "2  https://www.amazon.com/King-Size-Sheet-Set-Bre...             29.74   \n",
       "3  https://www.amazon.com/MZOO-Contoured-Sleeping...             16.99   \n",
       "4  https://www.amazon.com/Momcozy-Pregnancy-Mater...             36.99   \n",
       "6  https://www.amazon.com/Piece-Fitted-Sheet-Set-...             34.92   \n",
       "\n",
       "   Actual_Price  Rating  Rating_Count  \\\n",
       "1        199.99     4.8         70954   \n",
       "2         34.99     4.5        349108   \n",
       "3         22.99     4.6         93186   \n",
       "4         54.99     4.5         21077   \n",
       "6         79.99     4.4         79532   \n",
       "\n",
       "                                           Reviewers  \\\n",
       "1  Amazon Customer|Amazon Customer|Chiara Flatter...   \n",
       "2  Amazon Customer|Amazon Customer|John cromwell|...   \n",
       "3  Amazon Customer|Amazon Customer|Nithin Kumar|C...   \n",
       "4  Amazon Customer|Amazon Customer|Jammie|Nick|Ki...   \n",
       "6  Amazon Customer|Amazon Customer|Hayley|J.|Judy...   \n",
       "\n",
       "                                             Reviews          category_1  \\\n",
       "1  Versatile and Comfortable – A Top Choice for G...       Baby Products   \n",
       "2  Finally we BOTH can sleep comfy!|Luxurious Com...      Home & Kitchen   \n",
       "3  Product Design|**A Nighttime Revelation: The M...  Health & Household   \n",
       "4  Comfortable!|Not just for pregnancy|It’s cool ...       Baby Products   \n",
       "6  You won’t be disappointed|Can't go wrong with ...      Home & Kitchen   \n",
       "\n",
       "                category_2  \n",
       "1  Car Seats & Accessories  \n",
       "2                  Bedding  \n",
       "3              Health Care  \n",
       "4    Pregnancy & Maternity  \n",
       "6                  Bedding  "
      ]
     },
     "metadata": {},
     "output_type": "display_data"
    }
   ],
   "source": [
    " # Dropping the category column\n",
    "df.drop( columns = 'Category' , inplace = True )\n",
    "\n",
    " # Replacing with the split categories \n",
    "df['category_1'] = category_split['category_1']\n",
    "df['category_2'] = category_split['category_2']\n",
    "\n",
    "display( df.head() )"
   ]
  },
  {
   "cell_type": "code",
   "execution_count": 18,
   "id": "f1be51a4",
   "metadata": {},
   "outputs": [
    {
     "name": "stdout",
     "output_type": "stream",
     "text": [
      "category_1\n",
      "Home & Kitchen                  451\n",
      "Electronics                     122\n",
      "Tools & Home Improvement         74\n",
      "Health & Household               70\n",
      "Cell Phones & Accessories        62\n",
      "Beauty & Personal Care           46\n",
      "Sports & Outdoors                39\n",
      "Baby Products                    35\n",
      "Pet Supplies                     32\n",
      "Patio, Lawn & Garden             30\n",
      "Industrial & Scientific          18\n",
      "Office Products                  18\n",
      "Automotive                       15\n",
      "Toys & Games                     13\n",
      "Clothing, Shoes & Jewelry         5\n",
      "Musical Instruments               5\n",
      "Appliances                        4\n",
      "Arts, Crafts & Sewing             3\n",
      "Video Games                       3\n",
      "Flash Player                      1\n",
      "Mobility & Daily Living Aids      1\n",
      "Grocery & Gourmet Food            1\n",
      "Kitchen & Dining                  1\n",
      "Name: count, dtype: int64\n",
      "category_2\n",
      "Bedding                           161\n",
      "Home Décor Products                99\n",
      "Computers & Accessories            62\n",
      "Kitchen & Dining                   50\n",
      "Heating, Cooling & Air Quality     37\n",
      "                                 ... \n",
      "Party Supplies                      1\n",
      "Interior Accessories                1\n",
      "Accessories & Supplies              1\n",
      "Drums & Percussion                  1\n",
      "Foot, Hand & Nail Care              1\n",
      "Name: count, Length: 95, dtype: int64\n"
     ]
    }
   ],
   "source": [
    " # checking how many different categories there are \n",
    "print( df['category_1'].value_counts() )\n",
    "print( df['category_2'].value_counts() )"
   ]
  },
  {
   "cell_type": "markdown",
   "id": "1071216b",
   "metadata": {},
   "source": [
    "From the output we can see the number of unique values in the categories columns where in category_1, Home & Kitchen have the highest number of products while in category_2, Beddings has the highest number of products.\n",
    "\n",
    "We will now add a new column that contains th rating_score of poor , Average , Above Average and Excellent."
   ]
  },
  {
   "cell_type": "code",
   "execution_count": 19,
   "id": "6f4b0363",
   "metadata": {},
   "outputs": [
    {
     "data": {
      "application/vnd.microsoft.datawrangler.viewer.v0+json": {
       "columns": [
        {
         "name": "index",
         "rawType": "int64",
         "type": "integer"
        },
        {
         "name": "Product_ID",
         "rawType": "object",
         "type": "string"
        },
        {
         "name": "Product_Name",
         "rawType": "object",
         "type": "string"
        },
        {
         "name": "Product_Link",
         "rawType": "object",
         "type": "string"
        },
        {
         "name": "Discounted_Price",
         "rawType": "float64",
         "type": "float"
        },
        {
         "name": "Actual_Price",
         "rawType": "float64",
         "type": "float"
        },
        {
         "name": "Rating",
         "rawType": "float64",
         "type": "float"
        },
        {
         "name": "Rating_Count",
         "rawType": "int64",
         "type": "integer"
        },
        {
         "name": "Reviewers",
         "rawType": "object",
         "type": "string"
        },
        {
         "name": "Reviews",
         "rawType": "object",
         "type": "string"
        },
        {
         "name": "category_1",
         "rawType": "object",
         "type": "string"
        },
        {
         "name": "category_2",
         "rawType": "object",
         "type": "string"
        },
        {
         "name": "Rating_Score",
         "rawType": "object",
         "type": "string"
        }
       ],
       "ref": "33177f4f-9f83-4b0c-b7dd-7fc157fcbb06",
       "rows": [
        [
         "1",
         "B019EGMGR0",
         "Graco Extend2Fit Convertible Baby Car Seat",
         "https://www.amazon.com/Graco-Extend2Fit-Convertible-Seat-Gotham/dp/B019EGMGR0?ref=dlx_deals_dg_dcl_B019EGMGR0_dt_sl14_a6",
         "149.99",
         "199.99",
         "4.8",
         "70954",
         "Amazon Customer|Amazon Customer|Chiara Flattery|Rebecca Hanshew|Alayna|Justin|Ashley|Marie|Marie|Mark|Barbara Dutra|Cliente de Amazon|Perla B.|Abhishek Behari|Abhishek Behari|AM Sharma",
         "Versatile and Comfortable – A Top Choice for Growing Families!|Safe and affordable|Absolutely love the installation latches !|Perfection! Safe! Great Product!|Excellent Car Seat – Safe, Comfortable, and a Great Deal!|My favorite car seat!|Seems decent but using the anchor straps is a must",
         "Baby Products",
         "Car Seats & Accessories",
         "Above Average"
        ],
        [
         "2",
         "B01LWMWAXV",
         "King Size 4 Piece Sheet Set - Comfy Breathable & Cooling Sheets - Hotel Luxury Bed Sheets for Women & Men - Deep Pockets",
         "https://www.amazon.com/King-Size-Sheet-Set-Breathable/dp/B01LWMWAXV?ref=dlx_deals_dg_dcl_B01LWMWAXV_dt_sl14_a6",
         "29.74",
         "34.99",
         "4.5",
         "349108",
         "Amazon Customer|Amazon Customer|John cromwell|Amanda|A Shopper|Lisa|Kehinda Pryor|J. L.|Anuj sharma|Brenda M.|Malak|Kamal A.|Felix Barongo",
         "Finally we BOTH can sleep comfy!|Luxurious Comfort and Quality!|Very Comfortable and Soft|The softest sheets!|Soft, Cool, and Luxuriously Comfortable!|Love these sheets!",
         "Home & Kitchen",
         "Bedding",
         "Above Average"
        ],
        [
         "3",
         "B07XFC3MF3",
         "MZOO Sleep Eye Mask for Men Women",
         "https://www.amazon.com/MZOO-Contoured-Sleeping-Blindfold-Concave/dp/B07XFC3MF3?ref=dlx_deals_dg_dcl_B07XFC3MF3_dt_sl14_a6",
         "16.99",
         "22.99",
         "4.6",
         "93186",
         "Amazon Customer|Amazon Customer|Nithin Kumar|Cam|Cam|djljejm7|Perrie Carrow|DBS|Margaret Justice|ChiChi16|Susy|Manuel Jesús Araujo Alamilla|Abdulelah|L D|Denise gh",
         "Product Design|**A Nighttime Revelation: The MZOO Sleep Eye Mask Transforms Sleep!**|Perfect in every way|Very comfortable and blocks light|Excellent!|Love this Sleep Mask|Voted 2024 best sleep mask!",
         "Health & Household",
         "Health Care",
         "Above Average"
        ],
        [
         "4",
         "B08YYVRXLM",
         "Momcozy Pregnancy Pillows for Sleeping",
         "https://www.amazon.com/Momcozy-Pregnancy-Maternity-Removable-Sleeping/dp/B08YYVRXLM?ref=dlx_deals_dg_dcl_B08YYVRXLM_dt_sl14_a6",
         "36.99",
         "54.99",
         "4.5",
         "21077",
         "Amazon Customer|Amazon Customer|Jammie|Nick|Kimmy|Lavender seeker|Kristen A.|Julia|Dhara|Yara|Ajay Shrivatsav V.P.|Nouf|Em|Em|Tamika|kyra iannone",
         "Comfortable!|Not just for pregnancy|It’s cool and comfortable.|Pregnancy pillow|Dense & Fluffy - so much better than I was expecting|Perfect fit|Too fluffy and uncomfortable to sleep with|Super comfortable!",
         "Baby Products",
         "Pregnancy & Maternity",
         "Above Average"
        ],
        [
         "6",
         "B07F946VMJ",
         "Extra Deep Queen Sheet Set - 6 Piece Breathable & Cooling Sheets - Hotel Luxury Bed Sheets Set - Easy & Secure Fit - Soft",
         "https://www.amazon.com/Piece-Fitted-Sheet-Set-Mattress/dp/B07F946VMJ?ref=dlx_deals_dg_dcl_B07F946VMJ_dt_sl14_a6",
         "34.92",
         "79.99",
         "4.4",
         "79532",
         "Amazon Customer|Amazon Customer|Hayley|J.|Judy L.|Gabby|Arleen|DEBORAH|Vic|MARIA EUGENIA GONZALEZ VELA|Martha perez|Irma",
         "You won’t be disappointed|Can't go wrong with these.|Get the best sleep ever - soft, stay cool, don't wrinkle or pill after washing, and stay on.|Wait till they go on sale!|So soft and satiny!",
         "Home & Kitchen",
         "Bedding",
         "Above Average"
        ]
       ],
       "shape": {
        "columns": 12,
        "rows": 5
       }
      },
      "text/html": [
       "<div>\n",
       "<style scoped>\n",
       "    .dataframe tbody tr th:only-of-type {\n",
       "        vertical-align: middle;\n",
       "    }\n",
       "\n",
       "    .dataframe tbody tr th {\n",
       "        vertical-align: top;\n",
       "    }\n",
       "\n",
       "    .dataframe thead th {\n",
       "        text-align: right;\n",
       "    }\n",
       "</style>\n",
       "<table border=\"1\" class=\"dataframe\">\n",
       "  <thead>\n",
       "    <tr style=\"text-align: right;\">\n",
       "      <th></th>\n",
       "      <th>Product_ID</th>\n",
       "      <th>Product_Name</th>\n",
       "      <th>Product_Link</th>\n",
       "      <th>Discounted_Price</th>\n",
       "      <th>Actual_Price</th>\n",
       "      <th>Rating</th>\n",
       "      <th>Rating_Count</th>\n",
       "      <th>Reviewers</th>\n",
       "      <th>Reviews</th>\n",
       "      <th>category_1</th>\n",
       "      <th>category_2</th>\n",
       "      <th>Rating_Score</th>\n",
       "    </tr>\n",
       "  </thead>\n",
       "  <tbody>\n",
       "    <tr>\n",
       "      <th>1</th>\n",
       "      <td>B019EGMGR0</td>\n",
       "      <td>Graco Extend2Fit Convertible Baby Car Seat</td>\n",
       "      <td>https://www.amazon.com/Graco-Extend2Fit-Conver...</td>\n",
       "      <td>149.99</td>\n",
       "      <td>199.99</td>\n",
       "      <td>4.8</td>\n",
       "      <td>70954</td>\n",
       "      <td>Amazon Customer|Amazon Customer|Chiara Flatter...</td>\n",
       "      <td>Versatile and Comfortable – A Top Choice for G...</td>\n",
       "      <td>Baby Products</td>\n",
       "      <td>Car Seats &amp; Accessories</td>\n",
       "      <td>Above Average</td>\n",
       "    </tr>\n",
       "    <tr>\n",
       "      <th>2</th>\n",
       "      <td>B01LWMWAXV</td>\n",
       "      <td>King Size 4 Piece Sheet Set - Comfy Breathable...</td>\n",
       "      <td>https://www.amazon.com/King-Size-Sheet-Set-Bre...</td>\n",
       "      <td>29.74</td>\n",
       "      <td>34.99</td>\n",
       "      <td>4.5</td>\n",
       "      <td>349108</td>\n",
       "      <td>Amazon Customer|Amazon Customer|John cromwell|...</td>\n",
       "      <td>Finally we BOTH can sleep comfy!|Luxurious Com...</td>\n",
       "      <td>Home &amp; Kitchen</td>\n",
       "      <td>Bedding</td>\n",
       "      <td>Above Average</td>\n",
       "    </tr>\n",
       "    <tr>\n",
       "      <th>3</th>\n",
       "      <td>B07XFC3MF3</td>\n",
       "      <td>MZOO Sleep Eye Mask for Men Women</td>\n",
       "      <td>https://www.amazon.com/MZOO-Contoured-Sleeping...</td>\n",
       "      <td>16.99</td>\n",
       "      <td>22.99</td>\n",
       "      <td>4.6</td>\n",
       "      <td>93186</td>\n",
       "      <td>Amazon Customer|Amazon Customer|Nithin Kumar|C...</td>\n",
       "      <td>Product Design|**A Nighttime Revelation: The M...</td>\n",
       "      <td>Health &amp; Household</td>\n",
       "      <td>Health Care</td>\n",
       "      <td>Above Average</td>\n",
       "    </tr>\n",
       "    <tr>\n",
       "      <th>4</th>\n",
       "      <td>B08YYVRXLM</td>\n",
       "      <td>Momcozy Pregnancy Pillows for Sleeping</td>\n",
       "      <td>https://www.amazon.com/Momcozy-Pregnancy-Mater...</td>\n",
       "      <td>36.99</td>\n",
       "      <td>54.99</td>\n",
       "      <td>4.5</td>\n",
       "      <td>21077</td>\n",
       "      <td>Amazon Customer|Amazon Customer|Jammie|Nick|Ki...</td>\n",
       "      <td>Comfortable!|Not just for pregnancy|It’s cool ...</td>\n",
       "      <td>Baby Products</td>\n",
       "      <td>Pregnancy &amp; Maternity</td>\n",
       "      <td>Above Average</td>\n",
       "    </tr>\n",
       "    <tr>\n",
       "      <th>6</th>\n",
       "      <td>B07F946VMJ</td>\n",
       "      <td>Extra Deep Queen Sheet Set - 6 Piece Breathabl...</td>\n",
       "      <td>https://www.amazon.com/Piece-Fitted-Sheet-Set-...</td>\n",
       "      <td>34.92</td>\n",
       "      <td>79.99</td>\n",
       "      <td>4.4</td>\n",
       "      <td>79532</td>\n",
       "      <td>Amazon Customer|Amazon Customer|Hayley|J.|Judy...</td>\n",
       "      <td>You won’t be disappointed|Can't go wrong with ...</td>\n",
       "      <td>Home &amp; Kitchen</td>\n",
       "      <td>Bedding</td>\n",
       "      <td>Above Average</td>\n",
       "    </tr>\n",
       "  </tbody>\n",
       "</table>\n",
       "</div>"
      ],
      "text/plain": [
       "   Product_ID                                       Product_Name  \\\n",
       "1  B019EGMGR0         Graco Extend2Fit Convertible Baby Car Seat   \n",
       "2  B01LWMWAXV  King Size 4 Piece Sheet Set - Comfy Breathable...   \n",
       "3  B07XFC3MF3                  MZOO Sleep Eye Mask for Men Women   \n",
       "4  B08YYVRXLM             Momcozy Pregnancy Pillows for Sleeping   \n",
       "6  B07F946VMJ  Extra Deep Queen Sheet Set - 6 Piece Breathabl...   \n",
       "\n",
       "                                        Product_Link  Discounted_Price  \\\n",
       "1  https://www.amazon.com/Graco-Extend2Fit-Conver...            149.99   \n",
       "2  https://www.amazon.com/King-Size-Sheet-Set-Bre...             29.74   \n",
       "3  https://www.amazon.com/MZOO-Contoured-Sleeping...             16.99   \n",
       "4  https://www.amazon.com/Momcozy-Pregnancy-Mater...             36.99   \n",
       "6  https://www.amazon.com/Piece-Fitted-Sheet-Set-...             34.92   \n",
       "\n",
       "   Actual_Price  Rating  Rating_Count  \\\n",
       "1        199.99     4.8         70954   \n",
       "2         34.99     4.5        349108   \n",
       "3         22.99     4.6         93186   \n",
       "4         54.99     4.5         21077   \n",
       "6         79.99     4.4         79532   \n",
       "\n",
       "                                           Reviewers  \\\n",
       "1  Amazon Customer|Amazon Customer|Chiara Flatter...   \n",
       "2  Amazon Customer|Amazon Customer|John cromwell|...   \n",
       "3  Amazon Customer|Amazon Customer|Nithin Kumar|C...   \n",
       "4  Amazon Customer|Amazon Customer|Jammie|Nick|Ki...   \n",
       "6  Amazon Customer|Amazon Customer|Hayley|J.|Judy...   \n",
       "\n",
       "                                             Reviews          category_1  \\\n",
       "1  Versatile and Comfortable – A Top Choice for G...       Baby Products   \n",
       "2  Finally we BOTH can sleep comfy!|Luxurious Com...      Home & Kitchen   \n",
       "3  Product Design|**A Nighttime Revelation: The M...  Health & Household   \n",
       "4  Comfortable!|Not just for pregnancy|It’s cool ...       Baby Products   \n",
       "6  You won’t be disappointed|Can't go wrong with ...      Home & Kitchen   \n",
       "\n",
       "                category_2   Rating_Score  \n",
       "1  Car Seats & Accessories  Above Average  \n",
       "2                  Bedding  Above Average  \n",
       "3              Health Care  Above Average  \n",
       "4    Pregnancy & Maternity  Above Average  \n",
       "6                  Bedding  Above Average  "
      ]
     },
     "metadata": {},
     "output_type": "display_data"
    }
   ],
   "source": [
    " # Creating an empty list\n",
    "Rating_score = []\n",
    "\n",
    " # Looping through the rating column \n",
    "for score in df['Rating']:\n",
    "    if score < 2.0:\n",
    "        Rating_score.append('Poor')\n",
    "    elif score < 3.0:\n",
    "        Rating_score.append('Below Average')\n",
    "    elif score < 4.0:\n",
    "        Rating_score.append('Average')\n",
    "    elif score < 5.0:\n",
    "        Rating_score.append('Above Average')\n",
    "    elif score == 5.0:\n",
    "        Rating_score.append('Excellent')\n",
    "\n",
    " # Adding the rating score to the dataframe\n",
    "df['Rating_Score'] = Rating_score\n",
    "\n",
    "display(df.head())"
   ]
  },
  {
   "cell_type": "markdown",
   "id": "1f8658cb",
   "metadata": {},
   "source": [
    "We will now check the number of different rating score "
   ]
  },
  {
   "cell_type": "code",
   "execution_count": 20,
   "id": "ca4157d6",
   "metadata": {},
   "outputs": [
    {
     "name": "stdout",
     "output_type": "stream",
     "text": [
      "Rating_Score\n",
      "Above Average    1039\n",
      "Excellent          10\n",
      "Name: count, dtype: int64\n"
     ]
    }
   ],
   "source": [
    " # Printing the number of unique values in the rating score columns\n",
    "print(df['Rating_Score'].value_counts())"
   ]
  },
  {
   "cell_type": "markdown",
   "id": "6d1995a4",
   "metadata": {},
   "source": [
    "From the dataset we can see that most products have a rating of Above average while 10 products have a rating of Excellent and no product has a rating below Above Average  \n",
    "\n",
    "We will now change the datatype of the Rating_Score to category and reorder the categories "
   ]
  },
  {
   "cell_type": "code",
   "execution_count": 21,
   "id": "a43e85b0",
   "metadata": {},
   "outputs": [],
   "source": [
    "df['Rating_Score'] = df['Rating_Score'].astype('category')\n",
    "df['Rating_Score'] = df['Rating_Score'].cat.reorder_categories(['Above Average','Excellent'] , ordered = True )"
   ]
  },
  {
   "cell_type": "markdown",
   "id": "23d765ac",
   "metadata": {},
   "source": [
    "We will generate a new column, 'price_difference', which will represent the difference between the actual price and the discounted price. Additionally, we will create another column to capture the discount percentage."
   ]
  },
  {
   "cell_type": "code",
   "execution_count": 22,
   "id": "e2859b0d",
   "metadata": {},
   "outputs": [
    {
     "data": {
      "application/vnd.microsoft.datawrangler.viewer.v0+json": {
       "columns": [
        {
         "name": "index",
         "rawType": "int64",
         "type": "integer"
        },
        {
         "name": "Product_ID",
         "rawType": "object",
         "type": "string"
        },
        {
         "name": "Product_Name",
         "rawType": "object",
         "type": "string"
        },
        {
         "name": "Product_Link",
         "rawType": "object",
         "type": "string"
        },
        {
         "name": "Discounted_Price",
         "rawType": "float64",
         "type": "float"
        },
        {
         "name": "Actual_Price",
         "rawType": "float64",
         "type": "float"
        },
        {
         "name": "Rating",
         "rawType": "float64",
         "type": "float"
        },
        {
         "name": "Rating_Count",
         "rawType": "int64",
         "type": "integer"
        },
        {
         "name": "Reviewers",
         "rawType": "object",
         "type": "string"
        },
        {
         "name": "Reviews",
         "rawType": "object",
         "type": "string"
        },
        {
         "name": "category_1",
         "rawType": "object",
         "type": "string"
        },
        {
         "name": "category_2",
         "rawType": "object",
         "type": "string"
        },
        {
         "name": "Rating_Score",
         "rawType": "category",
         "type": "unknown"
        },
        {
         "name": "Price_difference",
         "rawType": "float64",
         "type": "float"
        },
        {
         "name": "Discount_Percentage",
         "rawType": "float64",
         "type": "float"
        }
       ],
       "ref": "6066d7b9-ec59-4827-a444-8371449e8cc0",
       "rows": [
        [
         "1",
         "B019EGMGR0",
         "Graco Extend2Fit Convertible Baby Car Seat",
         "https://www.amazon.com/Graco-Extend2Fit-Convertible-Seat-Gotham/dp/B019EGMGR0?ref=dlx_deals_dg_dcl_B019EGMGR0_dt_sl14_a6",
         "149.99",
         "199.99",
         "4.8",
         "70954",
         "Amazon Customer|Amazon Customer|Chiara Flattery|Rebecca Hanshew|Alayna|Justin|Ashley|Marie|Marie|Mark|Barbara Dutra|Cliente de Amazon|Perla B.|Abhishek Behari|Abhishek Behari|AM Sharma",
         "Versatile and Comfortable – A Top Choice for Growing Families!|Safe and affordable|Absolutely love the installation latches !|Perfection! Safe! Great Product!|Excellent Car Seat – Safe, Comfortable, and a Great Deal!|My favorite car seat!|Seems decent but using the anchor straps is a must",
         "Baby Products",
         "Car Seats & Accessories",
         "Above Average",
         "50.0",
         "25.0"
        ],
        [
         "2",
         "B01LWMWAXV",
         "King Size 4 Piece Sheet Set - Comfy Breathable & Cooling Sheets - Hotel Luxury Bed Sheets for Women & Men - Deep Pockets",
         "https://www.amazon.com/King-Size-Sheet-Set-Breathable/dp/B01LWMWAXV?ref=dlx_deals_dg_dcl_B01LWMWAXV_dt_sl14_a6",
         "29.74",
         "34.99",
         "4.5",
         "349108",
         "Amazon Customer|Amazon Customer|John cromwell|Amanda|A Shopper|Lisa|Kehinda Pryor|J. L.|Anuj sharma|Brenda M.|Malak|Kamal A.|Felix Barongo",
         "Finally we BOTH can sleep comfy!|Luxurious Comfort and Quality!|Very Comfortable and Soft|The softest sheets!|Soft, Cool, and Luxuriously Comfortable!|Love these sheets!",
         "Home & Kitchen",
         "Bedding",
         "Above Average",
         "5.2500000000000036",
         "15.0"
        ],
        [
         "3",
         "B07XFC3MF3",
         "MZOO Sleep Eye Mask for Men Women",
         "https://www.amazon.com/MZOO-Contoured-Sleeping-Blindfold-Concave/dp/B07XFC3MF3?ref=dlx_deals_dg_dcl_B07XFC3MF3_dt_sl14_a6",
         "16.99",
         "22.99",
         "4.6",
         "93186",
         "Amazon Customer|Amazon Customer|Nithin Kumar|Cam|Cam|djljejm7|Perrie Carrow|DBS|Margaret Justice|ChiChi16|Susy|Manuel Jesús Araujo Alamilla|Abdulelah|L D|Denise gh",
         "Product Design|**A Nighttime Revelation: The MZOO Sleep Eye Mask Transforms Sleep!**|Perfect in every way|Very comfortable and blocks light|Excellent!|Love this Sleep Mask|Voted 2024 best sleep mask!",
         "Health & Household",
         "Health Care",
         "Above Average",
         "6.0",
         "26.0"
        ],
        [
         "4",
         "B08YYVRXLM",
         "Momcozy Pregnancy Pillows for Sleeping",
         "https://www.amazon.com/Momcozy-Pregnancy-Maternity-Removable-Sleeping/dp/B08YYVRXLM?ref=dlx_deals_dg_dcl_B08YYVRXLM_dt_sl14_a6",
         "36.99",
         "54.99",
         "4.5",
         "21077",
         "Amazon Customer|Amazon Customer|Jammie|Nick|Kimmy|Lavender seeker|Kristen A.|Julia|Dhara|Yara|Ajay Shrivatsav V.P.|Nouf|Em|Em|Tamika|kyra iannone",
         "Comfortable!|Not just for pregnancy|It’s cool and comfortable.|Pregnancy pillow|Dense & Fluffy - so much better than I was expecting|Perfect fit|Too fluffy and uncomfortable to sleep with|Super comfortable!",
         "Baby Products",
         "Pregnancy & Maternity",
         "Above Average",
         "18.0",
         "32.0"
        ],
        [
         "6",
         "B07F946VMJ",
         "Extra Deep Queen Sheet Set - 6 Piece Breathable & Cooling Sheets - Hotel Luxury Bed Sheets Set - Easy & Secure Fit - Soft",
         "https://www.amazon.com/Piece-Fitted-Sheet-Set-Mattress/dp/B07F946VMJ?ref=dlx_deals_dg_dcl_B07F946VMJ_dt_sl14_a6",
         "34.92",
         "79.99",
         "4.4",
         "79532",
         "Amazon Customer|Amazon Customer|Hayley|J.|Judy L.|Gabby|Arleen|DEBORAH|Vic|MARIA EUGENIA GONZALEZ VELA|Martha perez|Irma",
         "You won’t be disappointed|Can't go wrong with these.|Get the best sleep ever - soft, stay cool, don't wrinkle or pill after washing, and stay on.|Wait till they go on sale!|So soft and satiny!",
         "Home & Kitchen",
         "Bedding",
         "Above Average",
         "45.06999999999999",
         "56.0"
        ]
       ],
       "shape": {
        "columns": 14,
        "rows": 5
       }
      },
      "text/html": [
       "<div>\n",
       "<style scoped>\n",
       "    .dataframe tbody tr th:only-of-type {\n",
       "        vertical-align: middle;\n",
       "    }\n",
       "\n",
       "    .dataframe tbody tr th {\n",
       "        vertical-align: top;\n",
       "    }\n",
       "\n",
       "    .dataframe thead th {\n",
       "        text-align: right;\n",
       "    }\n",
       "</style>\n",
       "<table border=\"1\" class=\"dataframe\">\n",
       "  <thead>\n",
       "    <tr style=\"text-align: right;\">\n",
       "      <th></th>\n",
       "      <th>Product_ID</th>\n",
       "      <th>Product_Name</th>\n",
       "      <th>Product_Link</th>\n",
       "      <th>Discounted_Price</th>\n",
       "      <th>Actual_Price</th>\n",
       "      <th>Rating</th>\n",
       "      <th>Rating_Count</th>\n",
       "      <th>Reviewers</th>\n",
       "      <th>Reviews</th>\n",
       "      <th>category_1</th>\n",
       "      <th>category_2</th>\n",
       "      <th>Rating_Score</th>\n",
       "      <th>Price_difference</th>\n",
       "      <th>Discount_Percentage</th>\n",
       "    </tr>\n",
       "  </thead>\n",
       "  <tbody>\n",
       "    <tr>\n",
       "      <th>1</th>\n",
       "      <td>B019EGMGR0</td>\n",
       "      <td>Graco Extend2Fit Convertible Baby Car Seat</td>\n",
       "      <td>https://www.amazon.com/Graco-Extend2Fit-Conver...</td>\n",
       "      <td>149.99</td>\n",
       "      <td>199.99</td>\n",
       "      <td>4.8</td>\n",
       "      <td>70954</td>\n",
       "      <td>Amazon Customer|Amazon Customer|Chiara Flatter...</td>\n",
       "      <td>Versatile and Comfortable – A Top Choice for G...</td>\n",
       "      <td>Baby Products</td>\n",
       "      <td>Car Seats &amp; Accessories</td>\n",
       "      <td>Above Average</td>\n",
       "      <td>50.00</td>\n",
       "      <td>25.0</td>\n",
       "    </tr>\n",
       "    <tr>\n",
       "      <th>2</th>\n",
       "      <td>B01LWMWAXV</td>\n",
       "      <td>King Size 4 Piece Sheet Set - Comfy Breathable...</td>\n",
       "      <td>https://www.amazon.com/King-Size-Sheet-Set-Bre...</td>\n",
       "      <td>29.74</td>\n",
       "      <td>34.99</td>\n",
       "      <td>4.5</td>\n",
       "      <td>349108</td>\n",
       "      <td>Amazon Customer|Amazon Customer|John cromwell|...</td>\n",
       "      <td>Finally we BOTH can sleep comfy!|Luxurious Com...</td>\n",
       "      <td>Home &amp; Kitchen</td>\n",
       "      <td>Bedding</td>\n",
       "      <td>Above Average</td>\n",
       "      <td>5.25</td>\n",
       "      <td>15.0</td>\n",
       "    </tr>\n",
       "    <tr>\n",
       "      <th>3</th>\n",
       "      <td>B07XFC3MF3</td>\n",
       "      <td>MZOO Sleep Eye Mask for Men Women</td>\n",
       "      <td>https://www.amazon.com/MZOO-Contoured-Sleeping...</td>\n",
       "      <td>16.99</td>\n",
       "      <td>22.99</td>\n",
       "      <td>4.6</td>\n",
       "      <td>93186</td>\n",
       "      <td>Amazon Customer|Amazon Customer|Nithin Kumar|C...</td>\n",
       "      <td>Product Design|**A Nighttime Revelation: The M...</td>\n",
       "      <td>Health &amp; Household</td>\n",
       "      <td>Health Care</td>\n",
       "      <td>Above Average</td>\n",
       "      <td>6.00</td>\n",
       "      <td>26.0</td>\n",
       "    </tr>\n",
       "    <tr>\n",
       "      <th>4</th>\n",
       "      <td>B08YYVRXLM</td>\n",
       "      <td>Momcozy Pregnancy Pillows for Sleeping</td>\n",
       "      <td>https://www.amazon.com/Momcozy-Pregnancy-Mater...</td>\n",
       "      <td>36.99</td>\n",
       "      <td>54.99</td>\n",
       "      <td>4.5</td>\n",
       "      <td>21077</td>\n",
       "      <td>Amazon Customer|Amazon Customer|Jammie|Nick|Ki...</td>\n",
       "      <td>Comfortable!|Not just for pregnancy|It’s cool ...</td>\n",
       "      <td>Baby Products</td>\n",
       "      <td>Pregnancy &amp; Maternity</td>\n",
       "      <td>Above Average</td>\n",
       "      <td>18.00</td>\n",
       "      <td>32.0</td>\n",
       "    </tr>\n",
       "    <tr>\n",
       "      <th>6</th>\n",
       "      <td>B07F946VMJ</td>\n",
       "      <td>Extra Deep Queen Sheet Set - 6 Piece Breathabl...</td>\n",
       "      <td>https://www.amazon.com/Piece-Fitted-Sheet-Set-...</td>\n",
       "      <td>34.92</td>\n",
       "      <td>79.99</td>\n",
       "      <td>4.4</td>\n",
       "      <td>79532</td>\n",
       "      <td>Amazon Customer|Amazon Customer|Hayley|J.|Judy...</td>\n",
       "      <td>You won’t be disappointed|Can't go wrong with ...</td>\n",
       "      <td>Home &amp; Kitchen</td>\n",
       "      <td>Bedding</td>\n",
       "      <td>Above Average</td>\n",
       "      <td>45.07</td>\n",
       "      <td>56.0</td>\n",
       "    </tr>\n",
       "  </tbody>\n",
       "</table>\n",
       "</div>"
      ],
      "text/plain": [
       "   Product_ID                                       Product_Name  \\\n",
       "1  B019EGMGR0         Graco Extend2Fit Convertible Baby Car Seat   \n",
       "2  B01LWMWAXV  King Size 4 Piece Sheet Set - Comfy Breathable...   \n",
       "3  B07XFC3MF3                  MZOO Sleep Eye Mask for Men Women   \n",
       "4  B08YYVRXLM             Momcozy Pregnancy Pillows for Sleeping   \n",
       "6  B07F946VMJ  Extra Deep Queen Sheet Set - 6 Piece Breathabl...   \n",
       "\n",
       "                                        Product_Link  Discounted_Price  \\\n",
       "1  https://www.amazon.com/Graco-Extend2Fit-Conver...            149.99   \n",
       "2  https://www.amazon.com/King-Size-Sheet-Set-Bre...             29.74   \n",
       "3  https://www.amazon.com/MZOO-Contoured-Sleeping...             16.99   \n",
       "4  https://www.amazon.com/Momcozy-Pregnancy-Mater...             36.99   \n",
       "6  https://www.amazon.com/Piece-Fitted-Sheet-Set-...             34.92   \n",
       "\n",
       "   Actual_Price  Rating  Rating_Count  \\\n",
       "1        199.99     4.8         70954   \n",
       "2         34.99     4.5        349108   \n",
       "3         22.99     4.6         93186   \n",
       "4         54.99     4.5         21077   \n",
       "6         79.99     4.4         79532   \n",
       "\n",
       "                                           Reviewers  \\\n",
       "1  Amazon Customer|Amazon Customer|Chiara Flatter...   \n",
       "2  Amazon Customer|Amazon Customer|John cromwell|...   \n",
       "3  Amazon Customer|Amazon Customer|Nithin Kumar|C...   \n",
       "4  Amazon Customer|Amazon Customer|Jammie|Nick|Ki...   \n",
       "6  Amazon Customer|Amazon Customer|Hayley|J.|Judy...   \n",
       "\n",
       "                                             Reviews          category_1  \\\n",
       "1  Versatile and Comfortable – A Top Choice for G...       Baby Products   \n",
       "2  Finally we BOTH can sleep comfy!|Luxurious Com...      Home & Kitchen   \n",
       "3  Product Design|**A Nighttime Revelation: The M...  Health & Household   \n",
       "4  Comfortable!|Not just for pregnancy|It’s cool ...       Baby Products   \n",
       "6  You won’t be disappointed|Can't go wrong with ...      Home & Kitchen   \n",
       "\n",
       "                category_2   Rating_Score  Price_difference  \\\n",
       "1  Car Seats & Accessories  Above Average             50.00   \n",
       "2                  Bedding  Above Average              5.25   \n",
       "3              Health Care  Above Average              6.00   \n",
       "4    Pregnancy & Maternity  Above Average             18.00   \n",
       "6                  Bedding  Above Average             45.07   \n",
       "\n",
       "   Discount_Percentage  \n",
       "1                 25.0  \n",
       "2                 15.0  \n",
       "3                 26.0  \n",
       "4                 32.0  \n",
       "6                 56.0  "
      ]
     },
     "metadata": {},
     "output_type": "display_data"
    }
   ],
   "source": [
    " # Price Difference \n",
    "df['Price_difference'] = df['Actual_Price'] - df['Discounted_Price']\n",
    "\n",
    " # Discount percentage\n",
    "df['Discount_Percentage'] = np.trunc((df['Price_difference'] / df['Actual_Price']) * 100)\n",
    "\n",
    "display(df.head())"
   ]
  },
  {
   "cell_type": "markdown",
   "id": "1289219e",
   "metadata": {},
   "source": [
    "From the output we can see that some price differences are negative meaning that the actual price is less than the discounted price which is undesirable\n",
    "\n",
    "This is due to the fact that some products were sold by per inch , per count or per foot we will therefore need to drop any product that has a negative price difference."
   ]
  },
  {
   "cell_type": "code",
   "execution_count": 23,
   "id": "3ea33bfc",
   "metadata": {},
   "outputs": [
    {
     "name": "stdout",
     "output_type": "stream",
     "text": [
      "40\n"
     ]
    }
   ],
   "source": [
    " # Getting the index where the price difference is -\n",
    "indexes = df.index[ df['Price_difference'] < 0 ].tolist()\n",
    "\n",
    " # Getting the length of indexes \n",
    "print( len(indexes) )"
   ]
  },
  {
   "cell_type": "markdown",
   "id": "cd04f157",
   "metadata": {},
   "source": [
    "There are 40 products that have a price difference that is less than 0 therefore these 40 products need to be dropped "
   ]
  },
  {
   "cell_type": "code",
   "execution_count": 24,
   "id": "daea1d58",
   "metadata": {},
   "outputs": [
    {
     "name": "stdout",
     "output_type": "stream",
     "text": [
      "(1009, 15)\n"
     ]
    }
   ],
   "source": [
    " # dropping the indexes \n",
    "for i in indexes:\n",
    "    df.drop( i , inplace = True )\n",
    " # Reseting the indexes \n",
    "df.reset_index( inplace = True )\n",
    "\n",
    "print( df.shape )"
   ]
  },
  {
   "cell_type": "markdown",
   "id": "2848a931",
   "metadata": {},
   "source": [
    "We can see that the number of rows has dropped to 1009\n",
    "\n",
    "We will now split the data set into two dataframes "
   ]
  },
  {
   "cell_type": "code",
   "execution_count": 25,
   "id": "d23c06dc",
   "metadata": {},
   "outputs": [],
   "source": [
    "df1 = df[['Product_ID','Product_Name', 'category_1','Product_Link', 'category_2', 'Discounted_Price', 'Actual_Price','Price_difference','Discount_Percentage', 'Rating', 'Rating_Count', 'Rating_Score','Reviews']]\n",
    "\n",
    "df2 = df[['Reviewers']]"
   ]
  },
  {
   "cell_type": "code",
   "execution_count": 26,
   "id": "0b949c89",
   "metadata": {},
   "outputs": [
    {
     "data": {
      "application/vnd.microsoft.datawrangler.viewer.v0+json": {
       "columns": [
        {
         "name": "index",
         "rawType": "int64",
         "type": "integer"
        },
        {
         "name": "Reviewers",
         "rawType": "object",
         "type": "string"
        }
       ],
       "ref": "f10d46f6-a5db-40d3-80e0-cc85da7811f7",
       "rows": [
        [
         "0",
         "Amazon Customer|Amazon Customer|Chiara Flattery|Rebecca Hanshew|Alayna|Justin|Ashley|Marie|Marie|Mark|Barbara Dutra|Cliente de Amazon|Perla B.|Abhishek Behari|Abhishek Behari|AM Sharma"
        ],
        [
         "1",
         "Amazon Customer|Amazon Customer|John cromwell|Amanda|A Shopper|Lisa|Kehinda Pryor|J. L.|Anuj sharma|Brenda M.|Malak|Kamal A.|Felix Barongo"
        ],
        [
         "2",
         "Amazon Customer|Amazon Customer|Nithin Kumar|Cam|Cam|djljejm7|Perrie Carrow|DBS|Margaret Justice|ChiChi16|Susy|Manuel Jesús Araujo Alamilla|Abdulelah|L D|Denise gh"
        ]
       ],
       "shape": {
        "columns": 1,
        "rows": 3
       }
      },
      "text/html": [
       "<div>\n",
       "<style scoped>\n",
       "    .dataframe tbody tr th:only-of-type {\n",
       "        vertical-align: middle;\n",
       "    }\n",
       "\n",
       "    .dataframe tbody tr th {\n",
       "        vertical-align: top;\n",
       "    }\n",
       "\n",
       "    .dataframe thead th {\n",
       "        text-align: right;\n",
       "    }\n",
       "</style>\n",
       "<table border=\"1\" class=\"dataframe\">\n",
       "  <thead>\n",
       "    <tr style=\"text-align: right;\">\n",
       "      <th></th>\n",
       "      <th>Reviewers</th>\n",
       "    </tr>\n",
       "  </thead>\n",
       "  <tbody>\n",
       "    <tr>\n",
       "      <th>0</th>\n",
       "      <td>Amazon Customer|Amazon Customer|Chiara Flatter...</td>\n",
       "    </tr>\n",
       "    <tr>\n",
       "      <th>1</th>\n",
       "      <td>Amazon Customer|Amazon Customer|John cromwell|...</td>\n",
       "    </tr>\n",
       "    <tr>\n",
       "      <th>2</th>\n",
       "      <td>Amazon Customer|Amazon Customer|Nithin Kumar|C...</td>\n",
       "    </tr>\n",
       "  </tbody>\n",
       "</table>\n",
       "</div>"
      ],
      "text/plain": [
       "                                           Reviewers\n",
       "0  Amazon Customer|Amazon Customer|Chiara Flatter...\n",
       "1  Amazon Customer|Amazon Customer|John cromwell|...\n",
       "2  Amazon Customer|Amazon Customer|Nithin Kumar|C..."
      ]
     },
     "metadata": {},
     "output_type": "display_data"
    }
   ],
   "source": [
    "display( df2.head(3) ) "
   ]
  },
  {
   "cell_type": "markdown",
   "id": "cca0e65a",
   "metadata": {},
   "source": [
    "From the ouput we can see that  the reviewers  of a product are concatenated into a single  string that is separated by a | representing the next person a. We will therefore need to split the  reviewers where there is a |"
   ]
  },
  {
   "cell_type": "code",
   "execution_count": 27,
   "id": "24c19179",
   "metadata": {},
   "outputs": [
    {
     "name": "stdout",
     "output_type": "stream",
     "text": [
      "(14806, 1)\n"
     ]
    }
   ],
   "source": [
    "reviewers = df2['Reviewers']\n",
    "\n",
    " # Splitting the reviewers  \n",
    "reviewers_split = reviewers.str.split( '|' , expand = False )\n",
    "\n",
    " # Making it show onw reviewer and review per row\n",
    "reviewers_exp = reviewers_split.explode()\n",
    "\n",
    " # Reseting the Index\n",
    "reviewers = reviewers_exp.reset_index( drop = True )\n",
    "\n",
    " # Changing the Series into dataframes \n",
    "df2 = pd.DataFrame( reviewers )\n",
    "\n",
    "print( df2.shape )\n"
   ]
  },
  {
   "cell_type": "markdown",
   "id": "385c94e0",
   "metadata": {},
   "source": [
    "After splitting the data we can see that the reviewers dataframe(df2) has 14,806 rows "
   ]
  },
  {
   "cell_type": "code",
   "execution_count": 28,
   "id": "1812663a",
   "metadata": {},
   "outputs": [],
   "source": [
    " # saving the Dataframe as csv \n",
    "df1.to_csv('CLEANED_DATA.csv', index=False)\n",
    "df2.to_csv('REVIEWERS_DATA.csv', index=False)"
   ]
  }
 ],
 "metadata": {
  "kernelspec": {
   "display_name": "Python 3",
   "language": "python",
   "name": "python3"
  },
  "language_info": {
   "codemirror_mode": {
    "name": "ipython",
    "version": 3
   },
   "file_extension": ".py",
   "mimetype": "text/x-python",
   "name": "python",
   "nbconvert_exporter": "python",
   "pygments_lexer": "ipython3",
   "version": "3.12.10"
  }
 },
 "nbformat": 4,
 "nbformat_minor": 5
}
