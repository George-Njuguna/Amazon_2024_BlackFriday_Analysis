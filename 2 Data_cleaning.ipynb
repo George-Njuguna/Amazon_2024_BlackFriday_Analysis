{
 "cells": [
  {
   "cell_type": "code",
   "execution_count": 4,
   "id": "f3a7a504",
   "metadata": {},
   "outputs": [],
   "source": [
    " # importing necessary libraries\n",
    "import pandas as pd\n",
    "import numpy as np \n",
    "import matplotlib.pyplot as plt\n",
    "import seaborn as sns \n",
    "import statsmodels.api as sm\n",
    "from sklearn.model_selection import train_test_split\n",
    "from sklearn.linear_model import LinearRegression\n",
    "from sklearn.metrics import r2_score\n",
    "from sklearn.model_selection import cross_val_score,KFold\n",
    "from sklearn.linear_model import Lasso\n",
    "from sklearn.linear_model import Ridge\n",
    "from sklearn.preprocessing import StandardScaler\n",
    "from statsmodels.formula.api import ols\n",
    "import nltk\n",
    "from nltk.sentiment import SentimentIntensityAnalyzer\n",
    "from tqdm.notebook import tqdm\n"
   ]
  },
  {
   "cell_type": "code",
   "execution_count": 5,
   "id": "8f93853f",
   "metadata": {},
   "outputs": [],
   "source": [
    " # Reading the Csv File \n",
    "df = pd.read_csv( 'AMAZON_DATA.csv' )"
   ]
  },
  {
   "cell_type": "markdown",
   "id": "7360700d",
   "metadata": {},
   "source": [
    "### **DATA CLEANING**"
   ]
  },
  {
   "cell_type": "code",
   "execution_count": 6,
   "id": "58f208f6",
   "metadata": {},
   "outputs": [
    {
     "data": {
      "application/vnd.microsoft.datawrangler.viewer.v0+json": {
       "columns": [
        {
         "name": "index",
         "rawType": "int64",
         "type": "integer"
        },
        {
         "name": "Product_ID",
         "rawType": "object",
         "type": "unknown"
        },
        {
         "name": "Product_Name",
         "rawType": "object",
         "type": "string"
        },
        {
         "name": "Category",
         "rawType": "object",
         "type": "string"
        },
        {
         "name": "Product_Link",
         "rawType": "object",
         "type": "string"
        },
        {
         "name": "Discounted_Price",
         "rawType": "object",
         "type": "string"
        },
        {
         "name": "Actual_Price",
         "rawType": "object",
         "type": "string"
        },
        {
         "name": "Rating",
         "rawType": "object",
         "type": "string"
        },
        {
         "name": "Rating_Count",
         "rawType": "object",
         "type": "string"
        },
        {
         "name": "Reviewers",
         "rawType": "object",
         "type": "string"
        },
        {
         "name": "Reviews",
         "rawType": "object",
         "type": "string"
        }
       ],
       "ref": "d8217059-e1a1-4b05-a394-02fe2c3a5214",
       "rows": [
        [
         "0",
         null,
         "Graco Extend2Fit Convertible Baby Car Seat",
         "Baby Products$Car Seats & Accessories",
         "https://www.amazon.com/Graco-Extend2Fit-Convertible-Seat-Gotham/dp/B019EGMGR0?ref=dlx_deals_dg_dcl_B019EGMGR0_dt_sl14_a6",
         "$149.99",
         "List Price: $199.99",
         "4.8 out of 5",
         "70,954 global ratings",
         "Amazon Customer|Amazon Customer|Chiara Flattery|Rebecca Hanshew|Alayna|Justin|Ashley|Marie|Marie|Mark|Barbara Dutra|Cliente de Amazon|Perla B.|Abhishek Behari|Abhishek Behari|AM Sharma",
         "Versatile and Comfortable – A Top Choice for Growing Families!|Safe and affordable|Absolutely love the installation latches !|Perfection! Safe! Great Product!|Excellent Car Seat – Safe, Comfortable, and a Great Deal!|My favorite car seat!|Seems decent but using the anchor straps is a must"
        ],
        [
         "1",
         "B019EGMGR0",
         "Graco Extend2Fit Convertible Baby Car Seat",
         "Baby Products$Car Seats & Accessories",
         "https://www.amazon.com/Graco-Extend2Fit-Convertible-Seat-Gotham/dp/B019EGMGR0?ref=dlx_deals_dg_dcl_B019EGMGR0_dt_sl14_a6",
         "$149.99",
         "List Price: $199.99",
         "4.8 out of 5",
         "70,954 global ratings",
         "Amazon Customer|Amazon Customer|Chiara Flattery|Rebecca Hanshew|Alayna|Justin|Ashley|Marie|Marie|Mark|Barbara Dutra|Cliente de Amazon|Perla B.|Abhishek Behari|Abhishek Behari|AM Sharma",
         "Versatile and Comfortable – A Top Choice for Growing Families!|Safe and affordable|Absolutely love the installation latches !|Perfection! Safe! Great Product!|Excellent Car Seat – Safe, Comfortable, and a Great Deal!|My favorite car seat!|Seems decent but using the anchor straps is a must"
        ],
        [
         "2",
         "B01LWMWAXV",
         "King Size 4 Piece Sheet Set - Comfy Breathable & Cooling Sheets - Hotel Luxury Bed Sheets for Women & Men - Deep Pockets",
         "Home & Kitchen$Bedding",
         "https://www.amazon.com/King-Size-Sheet-Set-Breathable/dp/B01LWMWAXV?ref=dlx_deals_dg_dcl_B01LWMWAXV_dt_sl14_a6",
         "$29.74",
         "Typical price: $34.99",
         "4.5 out of 5",
         "349,108 global ratings",
         "Amazon Customer|Amazon Customer|John cromwell|Amanda|A Shopper|Lisa|Kehinda Pryor|J. L.|Anuj sharma|Brenda M.|Malak|Kamal A.|Felix Barongo",
         "Finally we BOTH can sleep comfy!|Luxurious Comfort and Quality!|Very Comfortable and Soft|The softest sheets!|Soft, Cool, and Luxuriously Comfortable!|Love these sheets!"
        ],
        [
         "3",
         "B07XFC3MF3",
         "MZOO Sleep Eye Mask for Men Women",
         "Health & Household$Health Care",
         "https://www.amazon.com/MZOO-Contoured-Sleeping-Blindfold-Concave/dp/B07XFC3MF3?ref=dlx_deals_dg_dcl_B07XFC3MF3_dt_sl14_a6",
         "$16.99",
         "Typical price: $22.99",
         "4.6 out of 5",
         "93,186 global ratings",
         "Amazon Customer|Amazon Customer|Nithin Kumar|Cam|Cam|djljejm7|Perrie Carrow|DBS|Margaret Justice|ChiChi16|Susy|Manuel Jesús Araujo Alamilla|Abdulelah|L D|Denise gh",
         "Product Design|**A Nighttime Revelation: The MZOO Sleep Eye Mask Transforms Sleep!**|Perfect in every way|Very comfortable and blocks light|Excellent!|Love this Sleep Mask|Voted 2024 best sleep mask!"
        ],
        [
         "4",
         "B08YYVRXLM",
         "Momcozy Pregnancy Pillows for Sleeping",
         "Baby Products$Pregnancy & Maternity",
         "https://www.amazon.com/Momcozy-Pregnancy-Maternity-Removable-Sleeping/dp/B08YYVRXLM?ref=dlx_deals_dg_dcl_B08YYVRXLM_dt_sl14_a6",
         "$36.99",
         "List Price: $54.99",
         "4.5 out of 5",
         "21,077 global ratings",
         "Amazon Customer|Amazon Customer|Jammie|Nick|Kimmy|Lavender seeker|Kristen A.|Julia|Dhara|Yara|Ajay Shrivatsav V.P.|Nouf|Em|Em|Tamika|kyra iannone",
         "Comfortable!|Not just for pregnancy|It’s cool and comfortable.|Pregnancy pillow|Dense & Fluffy - so much better than I was expecting|Perfect fit|Too fluffy and uncomfortable to sleep with|Super comfortable!"
        ]
       ],
       "shape": {
        "columns": 10,
        "rows": 5
       }
      },
      "text/html": [
       "<div>\n",
       "<style scoped>\n",
       "    .dataframe tbody tr th:only-of-type {\n",
       "        vertical-align: middle;\n",
       "    }\n",
       "\n",
       "    .dataframe tbody tr th {\n",
       "        vertical-align: top;\n",
       "    }\n",
       "\n",
       "    .dataframe thead th {\n",
       "        text-align: right;\n",
       "    }\n",
       "</style>\n",
       "<table border=\"1\" class=\"dataframe\">\n",
       "  <thead>\n",
       "    <tr style=\"text-align: right;\">\n",
       "      <th></th>\n",
       "      <th>Product_ID</th>\n",
       "      <th>Product_Name</th>\n",
       "      <th>Category</th>\n",
       "      <th>Product_Link</th>\n",
       "      <th>Discounted_Price</th>\n",
       "      <th>Actual_Price</th>\n",
       "      <th>Rating</th>\n",
       "      <th>Rating_Count</th>\n",
       "      <th>Reviewers</th>\n",
       "      <th>Reviews</th>\n",
       "    </tr>\n",
       "  </thead>\n",
       "  <tbody>\n",
       "    <tr>\n",
       "      <th>0</th>\n",
       "      <td>NaN</td>\n",
       "      <td>Graco Extend2Fit Convertible Baby Car Seat</td>\n",
       "      <td>Baby Products$Car Seats &amp; Accessories</td>\n",
       "      <td>https://www.amazon.com/Graco-Extend2Fit-Conver...</td>\n",
       "      <td>$149.99</td>\n",
       "      <td>List Price: $199.99</td>\n",
       "      <td>4.8 out of 5</td>\n",
       "      <td>70,954 global ratings</td>\n",
       "      <td>Amazon Customer|Amazon Customer|Chiara Flatter...</td>\n",
       "      <td>Versatile and Comfortable – A Top Choice for G...</td>\n",
       "    </tr>\n",
       "    <tr>\n",
       "      <th>1</th>\n",
       "      <td>B019EGMGR0</td>\n",
       "      <td>Graco Extend2Fit Convertible Baby Car Seat</td>\n",
       "      <td>Baby Products$Car Seats &amp; Accessories</td>\n",
       "      <td>https://www.amazon.com/Graco-Extend2Fit-Conver...</td>\n",
       "      <td>$149.99</td>\n",
       "      <td>List Price: $199.99</td>\n",
       "      <td>4.8 out of 5</td>\n",
       "      <td>70,954 global ratings</td>\n",
       "      <td>Amazon Customer|Amazon Customer|Chiara Flatter...</td>\n",
       "      <td>Versatile and Comfortable – A Top Choice for G...</td>\n",
       "    </tr>\n",
       "    <tr>\n",
       "      <th>2</th>\n",
       "      <td>B01LWMWAXV</td>\n",
       "      <td>King Size 4 Piece Sheet Set - Comfy Breathable...</td>\n",
       "      <td>Home &amp; Kitchen$Bedding</td>\n",
       "      <td>https://www.amazon.com/King-Size-Sheet-Set-Bre...</td>\n",
       "      <td>$29.74</td>\n",
       "      <td>Typical price: $34.99</td>\n",
       "      <td>4.5 out of 5</td>\n",
       "      <td>349,108 global ratings</td>\n",
       "      <td>Amazon Customer|Amazon Customer|John cromwell|...</td>\n",
       "      <td>Finally we BOTH can sleep comfy!|Luxurious Com...</td>\n",
       "    </tr>\n",
       "    <tr>\n",
       "      <th>3</th>\n",
       "      <td>B07XFC3MF3</td>\n",
       "      <td>MZOO Sleep Eye Mask for Men Women</td>\n",
       "      <td>Health &amp; Household$Health Care</td>\n",
       "      <td>https://www.amazon.com/MZOO-Contoured-Sleeping...</td>\n",
       "      <td>$16.99</td>\n",
       "      <td>Typical price: $22.99</td>\n",
       "      <td>4.6 out of 5</td>\n",
       "      <td>93,186 global ratings</td>\n",
       "      <td>Amazon Customer|Amazon Customer|Nithin Kumar|C...</td>\n",
       "      <td>Product Design|**A Nighttime Revelation: The M...</td>\n",
       "    </tr>\n",
       "    <tr>\n",
       "      <th>4</th>\n",
       "      <td>B08YYVRXLM</td>\n",
       "      <td>Momcozy Pregnancy Pillows for Sleeping</td>\n",
       "      <td>Baby Products$Pregnancy &amp; Maternity</td>\n",
       "      <td>https://www.amazon.com/Momcozy-Pregnancy-Mater...</td>\n",
       "      <td>$36.99</td>\n",
       "      <td>List Price: $54.99</td>\n",
       "      <td>4.5 out of 5</td>\n",
       "      <td>21,077 global ratings</td>\n",
       "      <td>Amazon Customer|Amazon Customer|Jammie|Nick|Ki...</td>\n",
       "      <td>Comfortable!|Not just for pregnancy|It’s cool ...</td>\n",
       "    </tr>\n",
       "  </tbody>\n",
       "</table>\n",
       "</div>"
      ],
      "text/plain": [
       "   Product_ID                                       Product_Name  \\\n",
       "0         NaN         Graco Extend2Fit Convertible Baby Car Seat   \n",
       "1  B019EGMGR0         Graco Extend2Fit Convertible Baby Car Seat   \n",
       "2  B01LWMWAXV  King Size 4 Piece Sheet Set - Comfy Breathable...   \n",
       "3  B07XFC3MF3                  MZOO Sleep Eye Mask for Men Women   \n",
       "4  B08YYVRXLM             Momcozy Pregnancy Pillows for Sleeping   \n",
       "\n",
       "                                Category  \\\n",
       "0  Baby Products$Car Seats & Accessories   \n",
       "1  Baby Products$Car Seats & Accessories   \n",
       "2                 Home & Kitchen$Bedding   \n",
       "3         Health & Household$Health Care   \n",
       "4    Baby Products$Pregnancy & Maternity   \n",
       "\n",
       "                                        Product_Link Discounted_Price  \\\n",
       "0  https://www.amazon.com/Graco-Extend2Fit-Conver...          $149.99   \n",
       "1  https://www.amazon.com/Graco-Extend2Fit-Conver...          $149.99   \n",
       "2  https://www.amazon.com/King-Size-Sheet-Set-Bre...           $29.74   \n",
       "3  https://www.amazon.com/MZOO-Contoured-Sleeping...           $16.99   \n",
       "4  https://www.amazon.com/Momcozy-Pregnancy-Mater...           $36.99   \n",
       "\n",
       "            Actual_Price        Rating            Rating_Count  \\\n",
       "0    List Price: $199.99  4.8 out of 5   70,954 global ratings   \n",
       "1    List Price: $199.99  4.8 out of 5   70,954 global ratings   \n",
       "2  Typical price: $34.99  4.5 out of 5  349,108 global ratings   \n",
       "3  Typical price: $22.99  4.6 out of 5   93,186 global ratings   \n",
       "4     List Price: $54.99  4.5 out of 5   21,077 global ratings   \n",
       "\n",
       "                                           Reviewers  \\\n",
       "0  Amazon Customer|Amazon Customer|Chiara Flatter...   \n",
       "1  Amazon Customer|Amazon Customer|Chiara Flatter...   \n",
       "2  Amazon Customer|Amazon Customer|John cromwell|...   \n",
       "3  Amazon Customer|Amazon Customer|Nithin Kumar|C...   \n",
       "4  Amazon Customer|Amazon Customer|Jammie|Nick|Ki...   \n",
       "\n",
       "                                             Reviews  \n",
       "0  Versatile and Comfortable – A Top Choice for G...  \n",
       "1  Versatile and Comfortable – A Top Choice for G...  \n",
       "2  Finally we BOTH can sleep comfy!|Luxurious Com...  \n",
       "3  Product Design|**A Nighttime Revelation: The M...  \n",
       "4  Comfortable!|Not just for pregnancy|It’s cool ...  "
      ]
     },
     "metadata": {},
     "output_type": "display_data"
    },
    {
     "data": {
      "application/vnd.microsoft.datawrangler.viewer.v0+json": {
       "columns": [
        {
         "name": "index",
         "rawType": "int64",
         "type": "integer"
        },
        {
         "name": "Product_ID",
         "rawType": "object",
         "type": "string"
        },
        {
         "name": "Product_Name",
         "rawType": "object",
         "type": "unknown"
        },
        {
         "name": "Category",
         "rawType": "object",
         "type": "unknown"
        },
        {
         "name": "Product_Link",
         "rawType": "object",
         "type": "string"
        },
        {
         "name": "Discounted_Price",
         "rawType": "object",
         "type": "unknown"
        },
        {
         "name": "Actual_Price",
         "rawType": "object",
         "type": "unknown"
        },
        {
         "name": "Rating",
         "rawType": "object",
         "type": "unknown"
        },
        {
         "name": "Rating_Count",
         "rawType": "object",
         "type": "unknown"
        },
        {
         "name": "Reviewers",
         "rawType": "object",
         "type": "unknown"
        },
        {
         "name": "Reviews",
         "rawType": "object",
         "type": "unknown"
        }
       ],
       "ref": "bb501aa8-a57a-4ec9-adf1-6377bfc91e67",
       "rows": [
        [
         "2002",
         "B09XM74VQL",
         "maamgic 2 in 1 Mens Swim Trunks 7 Inch Swim Shorts Swim Suits Board Shorts",
         "Clothing, Shoes & Jewelry$Men",
         "https://www.amazon.com/TP-Link-EAP610-Ultra-Slim-Wireless-Business/dp/B09XM74VQL?ref=dlx_deals_dg_dcl_B09XM74VQL_dt_sl14_0b",
         null,
         null,
         "4.7 out of 5",
         "1,416 global ratings",
         "Amazon Customer|Amazon Customer|Nikki|Kyle Jones|Addi|freethinker|Maribeth Milkowski|Melissa Hogg|Brittany|Steve Reed",
         "Boyfriend's Favorite Shorts|Very Comfy & Dries Quickly|Great quality|Good looking but too tight fitting - it's going back|Cool swimsuit|Mens swim trunks|Perfect for Hawaii|Great Swim Suit! No netting, briefs are better"
        ],
        [
         "2003",
         "B0B3T5BD2K",
         "PINSPARK Womens Tennis Skirt Pleated Athletic Skirts with Pockets Shorts High Waisted Golf Skort for Workout Pickleball",
         "Clothing, Shoes & Jewelry$Women",
         "https://www.amazon.com/Portable-Professional-Rechargeable-Electric-Polishing/dp/B0B3T5BD2K?ref=dlx_deals_dg_dcl_B0B3T5BD2K_dt_sl14_0b",
         null,
         null,
         "4.6 out of 5",
         "703 global ratings",
         "Amazon Customer|Amazon Customer|SY|Rachel|Gricelda Rivas|Gricelda Rivas|Starr armstrong|NJbuyer|Amazon Customer|Robert|Race loving|Meg Watts|Brenda|Sass|Sass|Jacquie Fuentes|mwill",
         "Cute & Comfortable|So cute, great fit, flattering length|Super cute and nice material!|Love it|Loveeeee!!|Exactly as Described and True to Size|Extremely comfortable|flattering"
        ],
        [
         "2004",
         "B08CX78LHL",
         null,
         null,
         "https://www.amazon.com/Bedsure-Waterproof-Blankets-Extra-Large/dp/B08CX78LHL?ref=dlx_deals_dg_dcl_B08CX78LHL_dt_sl14_0b",
         null,
         null,
         null,
         null,
         null,
         null
        ],
        [
         "2005",
         "B0BY8CGS1X",
         null,
         null,
         "https://www.amazon.com/maamgic-Trunks-Shorts-Suits-American/dp/B0BY8CGS1X?ref=dlx_deals_dg_dcl_B0BY8CGS1X_dt_sl14_0b",
         null,
         null,
         null,
         null,
         null,
         null
        ],
        [
         "2006",
         "B0CTSDF2KR",
         null,
         null,
         "https://www.amazon.com/PINSPARK-Waisted-Pockets-Pleated-Athletic/dp/B0CTSDF2KR?ref=dlx_deals_dg_dcl_B0CTSDF2KR_dt_sl14_0b",
         null,
         null,
         null,
         null,
         null,
         null
        ]
       ],
       "shape": {
        "columns": 10,
        "rows": 5
       }
      },
      "text/html": [
       "<div>\n",
       "<style scoped>\n",
       "    .dataframe tbody tr th:only-of-type {\n",
       "        vertical-align: middle;\n",
       "    }\n",
       "\n",
       "    .dataframe tbody tr th {\n",
       "        vertical-align: top;\n",
       "    }\n",
       "\n",
       "    .dataframe thead th {\n",
       "        text-align: right;\n",
       "    }\n",
       "</style>\n",
       "<table border=\"1\" class=\"dataframe\">\n",
       "  <thead>\n",
       "    <tr style=\"text-align: right;\">\n",
       "      <th></th>\n",
       "      <th>Product_ID</th>\n",
       "      <th>Product_Name</th>\n",
       "      <th>Category</th>\n",
       "      <th>Product_Link</th>\n",
       "      <th>Discounted_Price</th>\n",
       "      <th>Actual_Price</th>\n",
       "      <th>Rating</th>\n",
       "      <th>Rating_Count</th>\n",
       "      <th>Reviewers</th>\n",
       "      <th>Reviews</th>\n",
       "    </tr>\n",
       "  </thead>\n",
       "  <tbody>\n",
       "    <tr>\n",
       "      <th>2002</th>\n",
       "      <td>B09XM74VQL</td>\n",
       "      <td>maamgic 2 in 1 Mens Swim Trunks 7 Inch Swim Sh...</td>\n",
       "      <td>Clothing, Shoes &amp; Jewelry$Men</td>\n",
       "      <td>https://www.amazon.com/TP-Link-EAP610-Ultra-Sl...</td>\n",
       "      <td>NaN</td>\n",
       "      <td>NaN</td>\n",
       "      <td>4.7 out of 5</td>\n",
       "      <td>1,416 global ratings</td>\n",
       "      <td>Amazon Customer|Amazon Customer|Nikki|Kyle Jon...</td>\n",
       "      <td>Boyfriend's Favorite Shorts|Very Comfy &amp; Dries...</td>\n",
       "    </tr>\n",
       "    <tr>\n",
       "      <th>2003</th>\n",
       "      <td>B0B3T5BD2K</td>\n",
       "      <td>PINSPARK Womens Tennis Skirt Pleated Athletic ...</td>\n",
       "      <td>Clothing, Shoes &amp; Jewelry$Women</td>\n",
       "      <td>https://www.amazon.com/Portable-Professional-R...</td>\n",
       "      <td>NaN</td>\n",
       "      <td>NaN</td>\n",
       "      <td>4.6 out of 5</td>\n",
       "      <td>703 global ratings</td>\n",
       "      <td>Amazon Customer|Amazon Customer|SY|Rachel|Gric...</td>\n",
       "      <td>Cute &amp; Comfortable|So cute, great fit, flatter...</td>\n",
       "    </tr>\n",
       "    <tr>\n",
       "      <th>2004</th>\n",
       "      <td>B08CX78LHL</td>\n",
       "      <td>NaN</td>\n",
       "      <td>NaN</td>\n",
       "      <td>https://www.amazon.com/Bedsure-Waterproof-Blan...</td>\n",
       "      <td>NaN</td>\n",
       "      <td>NaN</td>\n",
       "      <td>NaN</td>\n",
       "      <td>NaN</td>\n",
       "      <td>NaN</td>\n",
       "      <td>NaN</td>\n",
       "    </tr>\n",
       "    <tr>\n",
       "      <th>2005</th>\n",
       "      <td>B0BY8CGS1X</td>\n",
       "      <td>NaN</td>\n",
       "      <td>NaN</td>\n",
       "      <td>https://www.amazon.com/maamgic-Trunks-Shorts-S...</td>\n",
       "      <td>NaN</td>\n",
       "      <td>NaN</td>\n",
       "      <td>NaN</td>\n",
       "      <td>NaN</td>\n",
       "      <td>NaN</td>\n",
       "      <td>NaN</td>\n",
       "    </tr>\n",
       "    <tr>\n",
       "      <th>2006</th>\n",
       "      <td>B0CTSDF2KR</td>\n",
       "      <td>NaN</td>\n",
       "      <td>NaN</td>\n",
       "      <td>https://www.amazon.com/PINSPARK-Waisted-Pocket...</td>\n",
       "      <td>NaN</td>\n",
       "      <td>NaN</td>\n",
       "      <td>NaN</td>\n",
       "      <td>NaN</td>\n",
       "      <td>NaN</td>\n",
       "      <td>NaN</td>\n",
       "    </tr>\n",
       "  </tbody>\n",
       "</table>\n",
       "</div>"
      ],
      "text/plain": [
       "      Product_ID                                       Product_Name  \\\n",
       "2002  B09XM74VQL  maamgic 2 in 1 Mens Swim Trunks 7 Inch Swim Sh...   \n",
       "2003  B0B3T5BD2K  PINSPARK Womens Tennis Skirt Pleated Athletic ...   \n",
       "2004  B08CX78LHL                                                NaN   \n",
       "2005  B0BY8CGS1X                                                NaN   \n",
       "2006  B0CTSDF2KR                                                NaN   \n",
       "\n",
       "                             Category  \\\n",
       "2002    Clothing, Shoes & Jewelry$Men   \n",
       "2003  Clothing, Shoes & Jewelry$Women   \n",
       "2004                              NaN   \n",
       "2005                              NaN   \n",
       "2006                              NaN   \n",
       "\n",
       "                                           Product_Link Discounted_Price  \\\n",
       "2002  https://www.amazon.com/TP-Link-EAP610-Ultra-Sl...              NaN   \n",
       "2003  https://www.amazon.com/Portable-Professional-R...              NaN   \n",
       "2004  https://www.amazon.com/Bedsure-Waterproof-Blan...              NaN   \n",
       "2005  https://www.amazon.com/maamgic-Trunks-Shorts-S...              NaN   \n",
       "2006  https://www.amazon.com/PINSPARK-Waisted-Pocket...              NaN   \n",
       "\n",
       "     Actual_Price        Rating          Rating_Count  \\\n",
       "2002          NaN  4.7 out of 5  1,416 global ratings   \n",
       "2003          NaN  4.6 out of 5    703 global ratings   \n",
       "2004          NaN           NaN                   NaN   \n",
       "2005          NaN           NaN                   NaN   \n",
       "2006          NaN           NaN                   NaN   \n",
       "\n",
       "                                              Reviewers  \\\n",
       "2002  Amazon Customer|Amazon Customer|Nikki|Kyle Jon...   \n",
       "2003  Amazon Customer|Amazon Customer|SY|Rachel|Gric...   \n",
       "2004                                                NaN   \n",
       "2005                                                NaN   \n",
       "2006                                                NaN   \n",
       "\n",
       "                                                Reviews  \n",
       "2002  Boyfriend's Favorite Shorts|Very Comfy & Dries...  \n",
       "2003  Cute & Comfortable|So cute, great fit, flatter...  \n",
       "2004                                                NaN  \n",
       "2005                                                NaN  \n",
       "2006                                                NaN  "
      ]
     },
     "metadata": {},
     "output_type": "display_data"
    },
    {
     "name": "stdout",
     "output_type": "stream",
     "text": [
      "(2007, 10)\n",
      "['Product_ID', 'Product_Name', 'Category', 'Product_Link', 'Discounted_Price', 'Actual_Price', 'Rating', 'Rating_Count', 'Reviewers', 'Reviews']\n"
     ]
    }
   ],
   "source": [
    " # getting the first and last 5 rows of the data set \n",
    "display(df.head())\n",
    "display(df.tail())\n",
    "\n",
    " # Getting the number of columns and rows \n",
    "print(df.shape)\n",
    "\n",
    " # Getting the column names \n",
    "print(df.columns.tolist())"
   ]
  },
  {
   "cell_type": "markdown",
   "id": "53289ce6",
   "metadata": {},
   "source": [
    "From the output we can see that the dataset contains 2,007 rows and 10 columns where the column names are 'Product_ID','Product_Name', 'Category', 'Product_Link', 'Discounted_Price', 'Actual_Price', 'Rating', 'Rating_Count', 'Reviewers' and'Reviews'.\n",
    "\n",
    "Additionally, we identified the presence of null values within the dataset. These missing values will require appropriate handling, either by removing the affected entries or replacing them."
   ]
  },
  {
   "cell_type": "code",
   "execution_count": 7,
   "id": "ad664d85",
   "metadata": {},
   "outputs": [
    {
     "name": "stdout",
     "output_type": "stream",
     "text": [
      "Product_ID            1\n",
      "Product_Name          3\n",
      "Category              3\n",
      "Product_Link          0\n",
      "Discounted_Price    940\n",
      "Actual_Price        931\n",
      "Rating                9\n",
      "Rating_Count          9\n",
      "Reviewers             4\n",
      "Reviews              17\n",
      "dtype: int64\n"
     ]
    }
   ],
   "source": [
    " # Checking for Null values \n",
    "print(df.isnull().sum())"
   ]
  },
  {
   "cell_type": "code",
   "execution_count": 8,
   "id": "7da3dea6",
   "metadata": {},
   "outputs": [
    {
     "name": "stdout",
     "output_type": "stream",
     "text": [
      "(1049, 10)\n"
     ]
    }
   ],
   "source": [
    "df.dropna( inplace = True )\n",
    "\n",
    " # Checking how many data is left \n",
    "print(df.shape)"
   ]
  },
  {
   "cell_type": "markdown",
   "id": "56459deb",
   "metadata": {},
   "source": [
    "After dropping the null value we can see that the dataset has remained 1049 rows "
   ]
  },
  {
   "cell_type": "code",
   "execution_count": 9,
   "id": "a6b7feac",
   "metadata": {},
   "outputs": [
    {
     "name": "stdout",
     "output_type": "stream",
     "text": [
      "Product_ID          object\n",
      "Product_Name        object\n",
      "Category            object\n",
      "Product_Link        object\n",
      "Discounted_Price    object\n",
      "Actual_Price        object\n",
      "Rating              object\n",
      "Rating_Count        object\n",
      "Reviewers           object\n",
      "Reviews             object\n",
      "dtype: object\n"
     ]
    }
   ],
   "source": [
    " # Getting the data types of each columns \n",
    "print(df.dtypes) "
   ]
  },
  {
   "cell_type": "markdown",
   "id": "f7e8ba4a",
   "metadata": {},
   "source": [
    "We can see that the columns have datatypes object and we therefore  need to convert specific columns, such as prices, ratings, and rating counts, into numeric formats. However before converting, it is important to replace any non-numeric characters such as commas, text, and whitespaces that may prevent a successful conversion to float or integer.\n",
    "\n",
    "We will first review the unique values in the columns that require numeric conversion."
   ]
  },
  {
   "cell_type": "code",
   "execution_count": null,
   "id": "dae7ac83",
   "metadata": {},
   "outputs": [],
   "source": [
    " # Checking the different unique values in Actual_Price, Discounted_Price, Rating and Rating_count \n",
    "print(df['Actual_Price'].unique()) \n",
    "print(df['Discounted_Price'].unique())\n",
    "print(df['Rating'].unique())\n",
    "print(df['Rating_Count'].unique()) "
   ]
  },
  {
   "cell_type": "markdown",
   "id": "4e6c318c",
   "metadata": {},
   "source": [
    "we can see that Actual_price contains unique values that contain texts Typical price , List price , comma , per  Count ,per Inch and dollar sign . While  Discounted Price contains $ and commas \n",
    "\n",
    "Rating_count contains the text global ratings and commas while ratings contain the text out of 5"
   ]
  },
  {
   "cell_type": "code",
   "execution_count": 11,
   "id": "afeaad65",
   "metadata": {},
   "outputs": [],
   "source": [
    " # Replacing the string values with empty string ''\n",
    "df['Actual_Price'] = df['Actual_Price'].str.replace('Typical price','')\n",
    "df['Actual_Price'] = df['Actual_Price'].str.replace('List Price','')\n",
    "df['Actual_Price'] = df['Actual_Price'].str.replace('per Count','')\n",
    "df['Actual_Price'] = df['Actual_Price'].str.replace('per count','')\n",
    "df['Actual_Price'] = df['Actual_Price'].str.replace('per Inch','')\n",
    "df['Actual_Price'] = df['Actual_Price'].str.replace('per Ounce','')\n",
    "df['Actual_Price'] = df['Actual_Price'].str.replace('per Foot','')\n",
    "df['Actual_Price'] = df['Actual_Price'].str.replace('per Sq Ft','')\n",
    "df['Actual_Price'] = df['Actual_Price'].str.replace('per Fl Oz','')\n",
    "df['Actual_Price'] = df['Actual_Price'].str.replace('per Feet','')\n",
    "df['Actual_Price'] = df['Actual_Price'].str.replace('per oz','')\n",
    "df['Actual_Price'] = df['Actual_Price'].str.replace(':','')\n",
    "df['Actual_Price'] = df['Actual_Price'].str.replace(' ','')\n",
    "df['Actual_Price'] = df['Actual_Price'].str.replace(',','')\n",
    "df['Actual_Price'] = df['Actual_Price'].str.replace('$','')\n",
    "\n",
    "\n",
    "df['Discounted_Price'] = df['Discounted_Price'].str.replace(',','')\n",
    "df['Discounted_Price'] = df['Discounted_Price'].str.replace('$','')\n",
    "df['Discounted_Price'] = df['Discounted_Price'].str.replace(' ','')\n",
    "\n",
    "df['Rating'] = df['Rating'].str.replace('out of 5','')\n",
    "df['Rating'] = df['Rating'].str.replace(' ','')\n",
    "\n",
    "df['Rating_Count'] = df['Rating_Count'].str.replace('global ratings','')\n",
    "df['Rating_Count'] = df['Rating_Count'].str.replace(',','')\n",
    "df['Rating_Count'] = df['Rating_Count'].str.replace(' ','')"
   ]
  },
  {
   "cell_type": "code",
   "execution_count": 12,
   "id": "7e689c4c",
   "metadata": {},
   "outputs": [
    {
     "name": "stdout",
     "output_type": "stream",
     "text": [
      "Product_ID           object\n",
      "Product_Name         object\n",
      "Category             object\n",
      "Product_Link         object\n",
      "Discounted_Price    float64\n",
      "Actual_Price        float64\n",
      "Rating              float64\n",
      "Rating_Count          int64\n",
      "Reviewers            object\n",
      "Reviews              object\n",
      "dtype: object\n"
     ]
    }
   ],
   "source": [
    " # Changing the Datatypes to float or integers \n",
    "df['Actual_Price'] = df['Actual_Price'].astype('float') \n",
    "df['Discounted_Price'] = df['Discounted_Price'].astype('float')\n",
    "\n",
    "df['Rating'] = df['Rating'].astype('float')\n",
    "df['Rating_Count'] = df['Rating_Count'].astype('int')\n",
    "\n",
    " # Printing the Datatypes\n",
    "print(df.dtypes) \n"
   ]
  },
  {
   "cell_type": "markdown",
   "id": "21e30a51",
   "metadata": {},
   "source": [
    "We now need to check for duplicated values if any and remove them "
   ]
  },
  {
   "cell_type": "code",
   "execution_count": 13,
   "id": "b7bb1186",
   "metadata": {},
   "outputs": [
    {
     "name": "stdout",
     "output_type": "stream",
     "text": [
      "0\n"
     ]
    }
   ],
   "source": [
    "print( df.duplicated().sum() )"
   ]
  },
  {
   "cell_type": "code",
   "execution_count": 14,
   "id": "d963ef04",
   "metadata": {},
   "outputs": [
    {
     "data": {
      "application/vnd.microsoft.datawrangler.viewer.v0+json": {
       "columns": [
        {
         "name": "index",
         "rawType": "int64",
         "type": "integer"
        },
        {
         "name": "Category",
         "rawType": "object",
         "type": "string"
        }
       ],
       "ref": "bbcce7dc-9415-43ba-b825-bc69db39ae96",
       "rows": [
        [
         "1",
         "Baby Products$Car Seats & Accessories"
        ],
        [
         "2",
         "Home & Kitchen$Bedding"
        ],
        [
         "3",
         "Health & Household$Health Care"
        ],
        [
         "4",
         "Baby Products$Pregnancy & Maternity"
        ],
        [
         "6",
         "Home & Kitchen$Bedding"
        ]
       ],
       "shape": {
        "columns": 1,
        "rows": 5
       }
      },
      "text/plain": [
       "1    Baby Products$Car Seats & Accessories\n",
       "2                   Home & Kitchen$Bedding\n",
       "3           Health & Household$Health Care\n",
       "4      Baby Products$Pregnancy & Maternity\n",
       "6                   Home & Kitchen$Bedding\n",
       "Name: Category, dtype: object"
      ]
     },
     "metadata": {},
     "output_type": "display_data"
    }
   ],
   "source": [
    " # Printing the categories column\n",
    "display( df['Category'].head() )"
   ]
  },
  {
   "cell_type": "markdown",
   "id": "62fa908c",
   "metadata": {},
   "source": [
    "Since there are no duplicated values there is no need to drop the duplicated values.\n",
    "\n",
    "Looking at the category column we can see that the categories are concatenated into a single string, separated by a dollar sign ($) therefore we need to split the string at the dollar sign then assign each split value to its respective columns."
   ]
  },
  {
   "cell_type": "code",
   "execution_count": 15,
   "id": "85cef86b",
   "metadata": {},
   "outputs": [
    {
     "data": {
      "application/vnd.microsoft.datawrangler.viewer.v0+json": {
       "columns": [
        {
         "name": "index",
         "rawType": "int64",
         "type": "integer"
        },
        {
         "name": "0",
         "rawType": "object",
         "type": "string"
        },
        {
         "name": "1",
         "rawType": "object",
         "type": "string"
        }
       ],
       "ref": "ff98af27-4e91-4536-a1ab-370a64637035",
       "rows": [
        [
         "1",
         "Baby Products",
         "Car Seats & Accessories"
        ],
        [
         "2",
         "Home & Kitchen",
         "Bedding"
        ],
        [
         "3",
         "Health & Household",
         "Health Care"
        ],
        [
         "4",
         "Baby Products",
         "Pregnancy & Maternity"
        ],
        [
         "6",
         "Home & Kitchen",
         "Bedding"
        ]
       ],
       "shape": {
        "columns": 2,
        "rows": 5
       }
      },
      "text/html": [
       "<div>\n",
       "<style scoped>\n",
       "    .dataframe tbody tr th:only-of-type {\n",
       "        vertical-align: middle;\n",
       "    }\n",
       "\n",
       "    .dataframe tbody tr th {\n",
       "        vertical-align: top;\n",
       "    }\n",
       "\n",
       "    .dataframe thead th {\n",
       "        text-align: right;\n",
       "    }\n",
       "</style>\n",
       "<table border=\"1\" class=\"dataframe\">\n",
       "  <thead>\n",
       "    <tr style=\"text-align: right;\">\n",
       "      <th></th>\n",
       "      <th>0</th>\n",
       "      <th>1</th>\n",
       "    </tr>\n",
       "  </thead>\n",
       "  <tbody>\n",
       "    <tr>\n",
       "      <th>1</th>\n",
       "      <td>Baby Products</td>\n",
       "      <td>Car Seats &amp; Accessories</td>\n",
       "    </tr>\n",
       "    <tr>\n",
       "      <th>2</th>\n",
       "      <td>Home &amp; Kitchen</td>\n",
       "      <td>Bedding</td>\n",
       "    </tr>\n",
       "    <tr>\n",
       "      <th>3</th>\n",
       "      <td>Health &amp; Household</td>\n",
       "      <td>Health Care</td>\n",
       "    </tr>\n",
       "    <tr>\n",
       "      <th>4</th>\n",
       "      <td>Baby Products</td>\n",
       "      <td>Pregnancy &amp; Maternity</td>\n",
       "    </tr>\n",
       "    <tr>\n",
       "      <th>6</th>\n",
       "      <td>Home &amp; Kitchen</td>\n",
       "      <td>Bedding</td>\n",
       "    </tr>\n",
       "  </tbody>\n",
       "</table>\n",
       "</div>"
      ],
      "text/plain": [
       "                    0                        1\n",
       "1       Baby Products  Car Seats & Accessories\n",
       "2      Home & Kitchen                  Bedding\n",
       "3  Health & Household              Health Care\n",
       "4       Baby Products    Pregnancy & Maternity\n",
       "6      Home & Kitchen                  Bedding"
      ]
     },
     "metadata": {},
     "output_type": "display_data"
    }
   ],
   "source": [
    " # Splitting the Categories and expanding the split categories into their separate columns \n",
    "category_split = df['Category'].str.split( '$' , expand = True )\n",
    "\n",
    "display( category_split.head() )"
   ]
  },
  {
   "cell_type": "markdown",
   "id": "ce880df3",
   "metadata": {},
   "source": [
    "we can see that the categories have been split into two columns now we need to rename the columns to category_1 , Category_2 "
   ]
  },
  {
   "cell_type": "code",
   "execution_count": 16,
   "id": "e4deb270",
   "metadata": {},
   "outputs": [
    {
     "data": {
      "application/vnd.microsoft.datawrangler.viewer.v0+json": {
       "columns": [
        {
         "name": "index",
         "rawType": "int64",
         "type": "integer"
        },
        {
         "name": "category_1",
         "rawType": "object",
         "type": "string"
        },
        {
         "name": "category_2",
         "rawType": "object",
         "type": "string"
        }
       ],
       "ref": "42c02144-ec00-4d1b-961b-f380049cf988",
       "rows": [
        [
         "1",
         "Baby Products",
         "Car Seats & Accessories"
        ],
        [
         "2",
         "Home & Kitchen",
         "Bedding"
        ],
        [
         "3",
         "Health & Household",
         "Health Care"
        ],
        [
         "4",
         "Baby Products",
         "Pregnancy & Maternity"
        ],
        [
         "6",
         "Home & Kitchen",
         "Bedding"
        ]
       ],
       "shape": {
        "columns": 2,
        "rows": 5
       }
      },
      "text/html": [
       "<div>\n",
       "<style scoped>\n",
       "    .dataframe tbody tr th:only-of-type {\n",
       "        vertical-align: middle;\n",
       "    }\n",
       "\n",
       "    .dataframe tbody tr th {\n",
       "        vertical-align: top;\n",
       "    }\n",
       "\n",
       "    .dataframe thead th {\n",
       "        text-align: right;\n",
       "    }\n",
       "</style>\n",
       "<table border=\"1\" class=\"dataframe\">\n",
       "  <thead>\n",
       "    <tr style=\"text-align: right;\">\n",
       "      <th></th>\n",
       "      <th>category_1</th>\n",
       "      <th>category_2</th>\n",
       "    </tr>\n",
       "  </thead>\n",
       "  <tbody>\n",
       "    <tr>\n",
       "      <th>1</th>\n",
       "      <td>Baby Products</td>\n",
       "      <td>Car Seats &amp; Accessories</td>\n",
       "    </tr>\n",
       "    <tr>\n",
       "      <th>2</th>\n",
       "      <td>Home &amp; Kitchen</td>\n",
       "      <td>Bedding</td>\n",
       "    </tr>\n",
       "    <tr>\n",
       "      <th>3</th>\n",
       "      <td>Health &amp; Household</td>\n",
       "      <td>Health Care</td>\n",
       "    </tr>\n",
       "    <tr>\n",
       "      <th>4</th>\n",
       "      <td>Baby Products</td>\n",
       "      <td>Pregnancy &amp; Maternity</td>\n",
       "    </tr>\n",
       "    <tr>\n",
       "      <th>6</th>\n",
       "      <td>Home &amp; Kitchen</td>\n",
       "      <td>Bedding</td>\n",
       "    </tr>\n",
       "  </tbody>\n",
       "</table>\n",
       "</div>"
      ],
      "text/plain": [
       "           category_1               category_2\n",
       "1       Baby Products  Car Seats & Accessories\n",
       "2      Home & Kitchen                  Bedding\n",
       "3  Health & Household              Health Care\n",
       "4       Baby Products    Pregnancy & Maternity\n",
       "6      Home & Kitchen                  Bedding"
      ]
     },
     "metadata": {},
     "output_type": "display_data"
    }
   ],
   "source": [
    " # Renaming the Categories \n",
    "category_split = category_split.rename( columns = { 0 : 'category_1' , 1 : 'category_2'} )\n",
    "\n",
    "display( category_split.head() )"
   ]
  },
  {
   "cell_type": "markdown",
   "id": "690f8408",
   "metadata": {},
   "source": [
    "We will now remove the original 'Category' column from the DataFrame and replace it with the newly created columns from splitting the category string."
   ]
  },
  {
   "cell_type": "code",
   "execution_count": 17,
   "id": "9e21ca32",
   "metadata": {},
   "outputs": [
    {
     "data": {
      "application/vnd.microsoft.datawrangler.viewer.v0+json": {
       "columns": [
        {
         "name": "index",
         "rawType": "int64",
         "type": "integer"
        },
        {
         "name": "Product_ID",
         "rawType": "object",
         "type": "string"
        },
        {
         "name": "Product_Name",
         "rawType": "object",
         "type": "string"
        },
        {
         "name": "Product_Link",
         "rawType": "object",
         "type": "string"
        },
        {
         "name": "Discounted_Price",
         "rawType": "float64",
         "type": "float"
        },
        {
         "name": "Actual_Price",
         "rawType": "float64",
         "type": "float"
        },
        {
         "name": "Rating",
         "rawType": "float64",
         "type": "float"
        },
        {
         "name": "Rating_Count",
         "rawType": "int64",
         "type": "integer"
        },
        {
         "name": "Reviewers",
         "rawType": "object",
         "type": "string"
        },
        {
         "name": "Reviews",
         "rawType": "object",
         "type": "string"
        },
        {
         "name": "category_1",
         "rawType": "object",
         "type": "string"
        },
        {
         "name": "category_2",
         "rawType": "object",
         "type": "string"
        }
       ],
       "ref": "66d5176d-9be5-412f-869f-dc717263702f",
       "rows": [
        [
         "1",
         "B019EGMGR0",
         "Graco Extend2Fit Convertible Baby Car Seat",
         "https://www.amazon.com/Graco-Extend2Fit-Convertible-Seat-Gotham/dp/B019EGMGR0?ref=dlx_deals_dg_dcl_B019EGMGR0_dt_sl14_a6",
         "149.99",
         "199.99",
         "4.8",
         "70954",
         "Amazon Customer|Amazon Customer|Chiara Flattery|Rebecca Hanshew|Alayna|Justin|Ashley|Marie|Marie|Mark|Barbara Dutra|Cliente de Amazon|Perla B.|Abhishek Behari|Abhishek Behari|AM Sharma",
         "Versatile and Comfortable – A Top Choice for Growing Families!|Safe and affordable|Absolutely love the installation latches !|Perfection! Safe! Great Product!|Excellent Car Seat – Safe, Comfortable, and a Great Deal!|My favorite car seat!|Seems decent but using the anchor straps is a must",
         "Baby Products",
         "Car Seats & Accessories"
        ],
        [
         "2",
         "B01LWMWAXV",
         "King Size 4 Piece Sheet Set - Comfy Breathable & Cooling Sheets - Hotel Luxury Bed Sheets for Women & Men - Deep Pockets",
         "https://www.amazon.com/King-Size-Sheet-Set-Breathable/dp/B01LWMWAXV?ref=dlx_deals_dg_dcl_B01LWMWAXV_dt_sl14_a6",
         "29.74",
         "34.99",
         "4.5",
         "349108",
         "Amazon Customer|Amazon Customer|John cromwell|Amanda|A Shopper|Lisa|Kehinda Pryor|J. L.|Anuj sharma|Brenda M.|Malak|Kamal A.|Felix Barongo",
         "Finally we BOTH can sleep comfy!|Luxurious Comfort and Quality!|Very Comfortable and Soft|The softest sheets!|Soft, Cool, and Luxuriously Comfortable!|Love these sheets!",
         "Home & Kitchen",
         "Bedding"
        ],
        [
         "3",
         "B07XFC3MF3",
         "MZOO Sleep Eye Mask for Men Women",
         "https://www.amazon.com/MZOO-Contoured-Sleeping-Blindfold-Concave/dp/B07XFC3MF3?ref=dlx_deals_dg_dcl_B07XFC3MF3_dt_sl14_a6",
         "16.99",
         "22.99",
         "4.6",
         "93186",
         "Amazon Customer|Amazon Customer|Nithin Kumar|Cam|Cam|djljejm7|Perrie Carrow|DBS|Margaret Justice|ChiChi16|Susy|Manuel Jesús Araujo Alamilla|Abdulelah|L D|Denise gh",
         "Product Design|**A Nighttime Revelation: The MZOO Sleep Eye Mask Transforms Sleep!**|Perfect in every way|Very comfortable and blocks light|Excellent!|Love this Sleep Mask|Voted 2024 best sleep mask!",
         "Health & Household",
         "Health Care"
        ],
        [
         "4",
         "B08YYVRXLM",
         "Momcozy Pregnancy Pillows for Sleeping",
         "https://www.amazon.com/Momcozy-Pregnancy-Maternity-Removable-Sleeping/dp/B08YYVRXLM?ref=dlx_deals_dg_dcl_B08YYVRXLM_dt_sl14_a6",
         "36.99",
         "54.99",
         "4.5",
         "21077",
         "Amazon Customer|Amazon Customer|Jammie|Nick|Kimmy|Lavender seeker|Kristen A.|Julia|Dhara|Yara|Ajay Shrivatsav V.P.|Nouf|Em|Em|Tamika|kyra iannone",
         "Comfortable!|Not just for pregnancy|It’s cool and comfortable.|Pregnancy pillow|Dense & Fluffy - so much better than I was expecting|Perfect fit|Too fluffy and uncomfortable to sleep with|Super comfortable!",
         "Baby Products",
         "Pregnancy & Maternity"
        ],
        [
         "6",
         "B07F946VMJ",
         "Extra Deep Queen Sheet Set - 6 Piece Breathable & Cooling Sheets - Hotel Luxury Bed Sheets Set - Easy & Secure Fit - Soft",
         "https://www.amazon.com/Piece-Fitted-Sheet-Set-Mattress/dp/B07F946VMJ?ref=dlx_deals_dg_dcl_B07F946VMJ_dt_sl14_a6",
         "34.92",
         "79.99",
         "4.4",
         "79532",
         "Amazon Customer|Amazon Customer|Hayley|J.|Judy L.|Gabby|Arleen|DEBORAH|Vic|MARIA EUGENIA GONZALEZ VELA|Martha perez|Irma",
         "You won’t be disappointed|Can't go wrong with these.|Get the best sleep ever - soft, stay cool, don't wrinkle or pill after washing, and stay on.|Wait till they go on sale!|So soft and satiny!",
         "Home & Kitchen",
         "Bedding"
        ]
       ],
       "shape": {
        "columns": 11,
        "rows": 5
       }
      },
      "text/html": [
       "<div>\n",
       "<style scoped>\n",
       "    .dataframe tbody tr th:only-of-type {\n",
       "        vertical-align: middle;\n",
       "    }\n",
       "\n",
       "    .dataframe tbody tr th {\n",
       "        vertical-align: top;\n",
       "    }\n",
       "\n",
       "    .dataframe thead th {\n",
       "        text-align: right;\n",
       "    }\n",
       "</style>\n",
       "<table border=\"1\" class=\"dataframe\">\n",
       "  <thead>\n",
       "    <tr style=\"text-align: right;\">\n",
       "      <th></th>\n",
       "      <th>Product_ID</th>\n",
       "      <th>Product_Name</th>\n",
       "      <th>Product_Link</th>\n",
       "      <th>Discounted_Price</th>\n",
       "      <th>Actual_Price</th>\n",
       "      <th>Rating</th>\n",
       "      <th>Rating_Count</th>\n",
       "      <th>Reviewers</th>\n",
       "      <th>Reviews</th>\n",
       "      <th>category_1</th>\n",
       "      <th>category_2</th>\n",
       "    </tr>\n",
       "  </thead>\n",
       "  <tbody>\n",
       "    <tr>\n",
       "      <th>1</th>\n",
       "      <td>B019EGMGR0</td>\n",
       "      <td>Graco Extend2Fit Convertible Baby Car Seat</td>\n",
       "      <td>https://www.amazon.com/Graco-Extend2Fit-Conver...</td>\n",
       "      <td>149.99</td>\n",
       "      <td>199.99</td>\n",
       "      <td>4.8</td>\n",
       "      <td>70954</td>\n",
       "      <td>Amazon Customer|Amazon Customer|Chiara Flatter...</td>\n",
       "      <td>Versatile and Comfortable – A Top Choice for G...</td>\n",
       "      <td>Baby Products</td>\n",
       "      <td>Car Seats &amp; Accessories</td>\n",
       "    </tr>\n",
       "    <tr>\n",
       "      <th>2</th>\n",
       "      <td>B01LWMWAXV</td>\n",
       "      <td>King Size 4 Piece Sheet Set - Comfy Breathable...</td>\n",
       "      <td>https://www.amazon.com/King-Size-Sheet-Set-Bre...</td>\n",
       "      <td>29.74</td>\n",
       "      <td>34.99</td>\n",
       "      <td>4.5</td>\n",
       "      <td>349108</td>\n",
       "      <td>Amazon Customer|Amazon Customer|John cromwell|...</td>\n",
       "      <td>Finally we BOTH can sleep comfy!|Luxurious Com...</td>\n",
       "      <td>Home &amp; Kitchen</td>\n",
       "      <td>Bedding</td>\n",
       "    </tr>\n",
       "    <tr>\n",
       "      <th>3</th>\n",
       "      <td>B07XFC3MF3</td>\n",
       "      <td>MZOO Sleep Eye Mask for Men Women</td>\n",
       "      <td>https://www.amazon.com/MZOO-Contoured-Sleeping...</td>\n",
       "      <td>16.99</td>\n",
       "      <td>22.99</td>\n",
       "      <td>4.6</td>\n",
       "      <td>93186</td>\n",
       "      <td>Amazon Customer|Amazon Customer|Nithin Kumar|C...</td>\n",
       "      <td>Product Design|**A Nighttime Revelation: The M...</td>\n",
       "      <td>Health &amp; Household</td>\n",
       "      <td>Health Care</td>\n",
       "    </tr>\n",
       "    <tr>\n",
       "      <th>4</th>\n",
       "      <td>B08YYVRXLM</td>\n",
       "      <td>Momcozy Pregnancy Pillows for Sleeping</td>\n",
       "      <td>https://www.amazon.com/Momcozy-Pregnancy-Mater...</td>\n",
       "      <td>36.99</td>\n",
       "      <td>54.99</td>\n",
       "      <td>4.5</td>\n",
       "      <td>21077</td>\n",
       "      <td>Amazon Customer|Amazon Customer|Jammie|Nick|Ki...</td>\n",
       "      <td>Comfortable!|Not just for pregnancy|It’s cool ...</td>\n",
       "      <td>Baby Products</td>\n",
       "      <td>Pregnancy &amp; Maternity</td>\n",
       "    </tr>\n",
       "    <tr>\n",
       "      <th>6</th>\n",
       "      <td>B07F946VMJ</td>\n",
       "      <td>Extra Deep Queen Sheet Set - 6 Piece Breathabl...</td>\n",
       "      <td>https://www.amazon.com/Piece-Fitted-Sheet-Set-...</td>\n",
       "      <td>34.92</td>\n",
       "      <td>79.99</td>\n",
       "      <td>4.4</td>\n",
       "      <td>79532</td>\n",
       "      <td>Amazon Customer|Amazon Customer|Hayley|J.|Judy...</td>\n",
       "      <td>You won’t be disappointed|Can't go wrong with ...</td>\n",
       "      <td>Home &amp; Kitchen</td>\n",
       "      <td>Bedding</td>\n",
       "    </tr>\n",
       "  </tbody>\n",
       "</table>\n",
       "</div>"
      ],
      "text/plain": [
       "   Product_ID                                       Product_Name  \\\n",
       "1  B019EGMGR0         Graco Extend2Fit Convertible Baby Car Seat   \n",
       "2  B01LWMWAXV  King Size 4 Piece Sheet Set - Comfy Breathable...   \n",
       "3  B07XFC3MF3                  MZOO Sleep Eye Mask for Men Women   \n",
       "4  B08YYVRXLM             Momcozy Pregnancy Pillows for Sleeping   \n",
       "6  B07F946VMJ  Extra Deep Queen Sheet Set - 6 Piece Breathabl...   \n",
       "\n",
       "                                        Product_Link  Discounted_Price  \\\n",
       "1  https://www.amazon.com/Graco-Extend2Fit-Conver...            149.99   \n",
       "2  https://www.amazon.com/King-Size-Sheet-Set-Bre...             29.74   \n",
       "3  https://www.amazon.com/MZOO-Contoured-Sleeping...             16.99   \n",
       "4  https://www.amazon.com/Momcozy-Pregnancy-Mater...             36.99   \n",
       "6  https://www.amazon.com/Piece-Fitted-Sheet-Set-...             34.92   \n",
       "\n",
       "   Actual_Price  Rating  Rating_Count  \\\n",
       "1        199.99     4.8         70954   \n",
       "2         34.99     4.5        349108   \n",
       "3         22.99     4.6         93186   \n",
       "4         54.99     4.5         21077   \n",
       "6         79.99     4.4         79532   \n",
       "\n",
       "                                           Reviewers  \\\n",
       "1  Amazon Customer|Amazon Customer|Chiara Flatter...   \n",
       "2  Amazon Customer|Amazon Customer|John cromwell|...   \n",
       "3  Amazon Customer|Amazon Customer|Nithin Kumar|C...   \n",
       "4  Amazon Customer|Amazon Customer|Jammie|Nick|Ki...   \n",
       "6  Amazon Customer|Amazon Customer|Hayley|J.|Judy...   \n",
       "\n",
       "                                             Reviews          category_1  \\\n",
       "1  Versatile and Comfortable – A Top Choice for G...       Baby Products   \n",
       "2  Finally we BOTH can sleep comfy!|Luxurious Com...      Home & Kitchen   \n",
       "3  Product Design|**A Nighttime Revelation: The M...  Health & Household   \n",
       "4  Comfortable!|Not just for pregnancy|It’s cool ...       Baby Products   \n",
       "6  You won’t be disappointed|Can't go wrong with ...      Home & Kitchen   \n",
       "\n",
       "                category_2  \n",
       "1  Car Seats & Accessories  \n",
       "2                  Bedding  \n",
       "3              Health Care  \n",
       "4    Pregnancy & Maternity  \n",
       "6                  Bedding  "
      ]
     },
     "metadata": {},
     "output_type": "display_data"
    }
   ],
   "source": [
    " # Dropping the category column\n",
    "df.drop( columns = 'Category' , inplace = True )\n",
    "\n",
    " # Replacing with the split categories \n",
    "df['category_1'] = category_split['category_1']\n",
    "df['category_2'] = category_split['category_2']\n",
    "\n",
    "display( df.head() )"
   ]
  },
  {
   "cell_type": "code",
   "execution_count": 18,
   "id": "f1be51a4",
   "metadata": {},
   "outputs": [
    {
     "name": "stdout",
     "output_type": "stream",
     "text": [
      "category_1\n",
      "Home & Kitchen                  451\n",
      "Electronics                     122\n",
      "Tools & Home Improvement         74\n",
      "Health & Household               70\n",
      "Cell Phones & Accessories        62\n",
      "Beauty & Personal Care           46\n",
      "Sports & Outdoors                39\n",
      "Baby Products                    35\n",
      "Pet Supplies                     32\n",
      "Patio, Lawn & Garden             30\n",
      "Industrial & Scientific          18\n",
      "Office Products                  18\n",
      "Automotive                       15\n",
      "Toys & Games                     13\n",
      "Clothing, Shoes & Jewelry         5\n",
      "Musical Instruments               5\n",
      "Appliances                        4\n",
      "Arts, Crafts & Sewing             3\n",
      "Video Games                       3\n",
      "Flash Player                      1\n",
      "Mobility & Daily Living Aids      1\n",
      "Grocery & Gourmet Food            1\n",
      "Kitchen & Dining                  1\n",
      "Name: count, dtype: int64\n",
      "category_2\n",
      "Bedding                           161\n",
      "Home Décor Products                99\n",
      "Computers & Accessories            62\n",
      "Kitchen & Dining                   50\n",
      "Heating, Cooling & Air Quality     37\n",
      "                                 ... \n",
      "Party Supplies                      1\n",
      "Interior Accessories                1\n",
      "Accessories & Supplies              1\n",
      "Drums & Percussion                  1\n",
      "Foot, Hand & Nail Care              1\n",
      "Name: count, Length: 95, dtype: int64\n"
     ]
    }
   ],
   "source": [
    " # checking how many different categories there are \n",
    "print( df['category_1'].value_counts() )\n",
    "print( df['category_2'].value_counts() )"
   ]
  },
  {
   "cell_type": "markdown",
   "id": "1071216b",
   "metadata": {},
   "source": [
    "From the output we can see the number of unique values in the categories columns where in category_1, Home & Kitchen have the highest number of products while in category_2, Beddings has the highest number of products.\n",
    "\n",
    "We will now add a new column that contains th rating_score of poor , Average , Above Average and Excellent."
   ]
  },
  {
   "cell_type": "code",
   "execution_count": 19,
   "id": "6f4b0363",
   "metadata": {},
   "outputs": [
    {
     "data": {
      "application/vnd.microsoft.datawrangler.viewer.v0+json": {
       "columns": [
        {
         "name": "index",
         "rawType": "int64",
         "type": "integer"
        },
        {
         "name": "Product_ID",
         "rawType": "object",
         "type": "string"
        },
        {
         "name": "Product_Name",
         "rawType": "object",
         "type": "string"
        },
        {
         "name": "Product_Link",
         "rawType": "object",
         "type": "string"
        },
        {
         "name": "Discounted_Price",
         "rawType": "float64",
         "type": "float"
        },
        {
         "name": "Actual_Price",
         "rawType": "float64",
         "type": "float"
        },
        {
         "name": "Rating",
         "rawType": "float64",
         "type": "float"
        },
        {
         "name": "Rating_Count",
         "rawType": "int64",
         "type": "integer"
        },
        {
         "name": "Reviewers",
         "rawType": "object",
         "type": "string"
        },
        {
         "name": "Reviews",
         "rawType": "object",
         "type": "string"
        },
        {
         "name": "category_1",
         "rawType": "object",
         "type": "string"
        },
        {
         "name": "category_2",
         "rawType": "object",
         "type": "string"
        },
        {
         "name": "Rating_Score",
         "rawType": "object",
         "type": "string"
        }
       ],
       "ref": "33177f4f-9f83-4b0c-b7dd-7fc157fcbb06",
       "rows": [
        [
         "1",
         "B019EGMGR0",
         "Graco Extend2Fit Convertible Baby Car Seat",
         "https://www.amazon.com/Graco-Extend2Fit-Convertible-Seat-Gotham/dp/B019EGMGR0?ref=dlx_deals_dg_dcl_B019EGMGR0_dt_sl14_a6",
         "149.99",
         "199.99",
         "4.8",
         "70954",
         "Amazon Customer|Amazon Customer|Chiara Flattery|Rebecca Hanshew|Alayna|Justin|Ashley|Marie|Marie|Mark|Barbara Dutra|Cliente de Amazon|Perla B.|Abhishek Behari|Abhishek Behari|AM Sharma",
         "Versatile and Comfortable – A Top Choice for Growing Families!|Safe and affordable|Absolutely love the installation latches !|Perfection! Safe! Great Product!|Excellent Car Seat – Safe, Comfortable, and a Great Deal!|My favorite car seat!|Seems decent but using the anchor straps is a must",
         "Baby Products",
         "Car Seats & Accessories",
         "Above Average"
        ],
        [
         "2",
         "B01LWMWAXV",
         "King Size 4 Piece Sheet Set - Comfy Breathable & Cooling Sheets - Hotel Luxury Bed Sheets for Women & Men - Deep Pockets",
         "https://www.amazon.com/King-Size-Sheet-Set-Breathable/dp/B01LWMWAXV?ref=dlx_deals_dg_dcl_B01LWMWAXV_dt_sl14_a6",
         "29.74",
         "34.99",
         "4.5",
         "349108",
         "Amazon Customer|Amazon Customer|John cromwell|Amanda|A Shopper|Lisa|Kehinda Pryor|J. L.|Anuj sharma|Brenda M.|Malak|Kamal A.|Felix Barongo",
         "Finally we BOTH can sleep comfy!|Luxurious Comfort and Quality!|Very Comfortable and Soft|The softest sheets!|Soft, Cool, and Luxuriously Comfortable!|Love these sheets!",
         "Home & Kitchen",
         "Bedding",
         "Above Average"
        ],
        [
         "3",
         "B07XFC3MF3",
         "MZOO Sleep Eye Mask for Men Women",
         "https://www.amazon.com/MZOO-Contoured-Sleeping-Blindfold-Concave/dp/B07XFC3MF3?ref=dlx_deals_dg_dcl_B07XFC3MF3_dt_sl14_a6",
         "16.99",
         "22.99",
         "4.6",
         "93186",
         "Amazon Customer|Amazon Customer|Nithin Kumar|Cam|Cam|djljejm7|Perrie Carrow|DBS|Margaret Justice|ChiChi16|Susy|Manuel Jesús Araujo Alamilla|Abdulelah|L D|Denise gh",
         "Product Design|**A Nighttime Revelation: The MZOO Sleep Eye Mask Transforms Sleep!**|Perfect in every way|Very comfortable and blocks light|Excellent!|Love this Sleep Mask|Voted 2024 best sleep mask!",
         "Health & Household",
         "Health Care",
         "Above Average"
        ],
        [
         "4",
         "B08YYVRXLM",
         "Momcozy Pregnancy Pillows for Sleeping",
         "https://www.amazon.com/Momcozy-Pregnancy-Maternity-Removable-Sleeping/dp/B08YYVRXLM?ref=dlx_deals_dg_dcl_B08YYVRXLM_dt_sl14_a6",
         "36.99",
         "54.99",
         "4.5",
         "21077",
         "Amazon Customer|Amazon Customer|Jammie|Nick|Kimmy|Lavender seeker|Kristen A.|Julia|Dhara|Yara|Ajay Shrivatsav V.P.|Nouf|Em|Em|Tamika|kyra iannone",
         "Comfortable!|Not just for pregnancy|It’s cool and comfortable.|Pregnancy pillow|Dense & Fluffy - so much better than I was expecting|Perfect fit|Too fluffy and uncomfortable to sleep with|Super comfortable!",
         "Baby Products",
         "Pregnancy & Maternity",
         "Above Average"
        ],
        [
         "6",
         "B07F946VMJ",
         "Extra Deep Queen Sheet Set - 6 Piece Breathable & Cooling Sheets - Hotel Luxury Bed Sheets Set - Easy & Secure Fit - Soft",
         "https://www.amazon.com/Piece-Fitted-Sheet-Set-Mattress/dp/B07F946VMJ?ref=dlx_deals_dg_dcl_B07F946VMJ_dt_sl14_a6",
         "34.92",
         "79.99",
         "4.4",
         "79532",
         "Amazon Customer|Amazon Customer|Hayley|J.|Judy L.|Gabby|Arleen|DEBORAH|Vic|MARIA EUGENIA GONZALEZ VELA|Martha perez|Irma",
         "You won’t be disappointed|Can't go wrong with these.|Get the best sleep ever - soft, stay cool, don't wrinkle or pill after washing, and stay on.|Wait till they go on sale!|So soft and satiny!",
         "Home & Kitchen",
         "Bedding",
         "Above Average"
        ]
       ],
       "shape": {
        "columns": 12,
        "rows": 5
       }
      },
      "text/html": [
       "<div>\n",
       "<style scoped>\n",
       "    .dataframe tbody tr th:only-of-type {\n",
       "        vertical-align: middle;\n",
       "    }\n",
       "\n",
       "    .dataframe tbody tr th {\n",
       "        vertical-align: top;\n",
       "    }\n",
       "\n",
       "    .dataframe thead th {\n",
       "        text-align: right;\n",
       "    }\n",
       "</style>\n",
       "<table border=\"1\" class=\"dataframe\">\n",
       "  <thead>\n",
       "    <tr style=\"text-align: right;\">\n",
       "      <th></th>\n",
       "      <th>Product_ID</th>\n",
       "      <th>Product_Name</th>\n",
       "      <th>Product_Link</th>\n",
       "      <th>Discounted_Price</th>\n",
       "      <th>Actual_Price</th>\n",
       "      <th>Rating</th>\n",
       "      <th>Rating_Count</th>\n",
       "      <th>Reviewers</th>\n",
       "      <th>Reviews</th>\n",
       "      <th>category_1</th>\n",
       "      <th>category_2</th>\n",
       "      <th>Rating_Score</th>\n",
       "    </tr>\n",
       "  </thead>\n",
       "  <tbody>\n",
       "    <tr>\n",
       "      <th>1</th>\n",
       "      <td>B019EGMGR0</td>\n",
       "      <td>Graco Extend2Fit Convertible Baby Car Seat</td>\n",
       "      <td>https://www.amazon.com/Graco-Extend2Fit-Conver...</td>\n",
       "      <td>149.99</td>\n",
       "      <td>199.99</td>\n",
       "      <td>4.8</td>\n",
       "      <td>70954</td>\n",
       "      <td>Amazon Customer|Amazon Customer|Chiara Flatter...</td>\n",
       "      <td>Versatile and Comfortable – A Top Choice for G...</td>\n",
       "      <td>Baby Products</td>\n",
       "      <td>Car Seats &amp; Accessories</td>\n",
       "      <td>Above Average</td>\n",
       "    </tr>\n",
       "    <tr>\n",
       "      <th>2</th>\n",
       "      <td>B01LWMWAXV</td>\n",
       "      <td>King Size 4 Piece Sheet Set - Comfy Breathable...</td>\n",
       "      <td>https://www.amazon.com/King-Size-Sheet-Set-Bre...</td>\n",
       "      <td>29.74</td>\n",
       "      <td>34.99</td>\n",
       "      <td>4.5</td>\n",
       "      <td>349108</td>\n",
       "      <td>Amazon Customer|Amazon Customer|John cromwell|...</td>\n",
       "      <td>Finally we BOTH can sleep comfy!|Luxurious Com...</td>\n",
       "      <td>Home &amp; Kitchen</td>\n",
       "      <td>Bedding</td>\n",
       "      <td>Above Average</td>\n",
       "    </tr>\n",
       "    <tr>\n",
       "      <th>3</th>\n",
       "      <td>B07XFC3MF3</td>\n",
       "      <td>MZOO Sleep Eye Mask for Men Women</td>\n",
       "      <td>https://www.amazon.com/MZOO-Contoured-Sleeping...</td>\n",
       "      <td>16.99</td>\n",
       "      <td>22.99</td>\n",
       "      <td>4.6</td>\n",
       "      <td>93186</td>\n",
       "      <td>Amazon Customer|Amazon Customer|Nithin Kumar|C...</td>\n",
       "      <td>Product Design|**A Nighttime Revelation: The M...</td>\n",
       "      <td>Health &amp; Household</td>\n",
       "      <td>Health Care</td>\n",
       "      <td>Above Average</td>\n",
       "    </tr>\n",
       "    <tr>\n",
       "      <th>4</th>\n",
       "      <td>B08YYVRXLM</td>\n",
       "      <td>Momcozy Pregnancy Pillows for Sleeping</td>\n",
       "      <td>https://www.amazon.com/Momcozy-Pregnancy-Mater...</td>\n",
       "      <td>36.99</td>\n",
       "      <td>54.99</td>\n",
       "      <td>4.5</td>\n",
       "      <td>21077</td>\n",
       "      <td>Amazon Customer|Amazon Customer|Jammie|Nick|Ki...</td>\n",
       "      <td>Comfortable!|Not just for pregnancy|It’s cool ...</td>\n",
       "      <td>Baby Products</td>\n",
       "      <td>Pregnancy &amp; Maternity</td>\n",
       "      <td>Above Average</td>\n",
       "    </tr>\n",
       "    <tr>\n",
       "      <th>6</th>\n",
       "      <td>B07F946VMJ</td>\n",
       "      <td>Extra Deep Queen Sheet Set - 6 Piece Breathabl...</td>\n",
       "      <td>https://www.amazon.com/Piece-Fitted-Sheet-Set-...</td>\n",
       "      <td>34.92</td>\n",
       "      <td>79.99</td>\n",
       "      <td>4.4</td>\n",
       "      <td>79532</td>\n",
       "      <td>Amazon Customer|Amazon Customer|Hayley|J.|Judy...</td>\n",
       "      <td>You won’t be disappointed|Can't go wrong with ...</td>\n",
       "      <td>Home &amp; Kitchen</td>\n",
       "      <td>Bedding</td>\n",
       "      <td>Above Average</td>\n",
       "    </tr>\n",
       "  </tbody>\n",
       "</table>\n",
       "</div>"
      ],
      "text/plain": [
       "   Product_ID                                       Product_Name  \\\n",
       "1  B019EGMGR0         Graco Extend2Fit Convertible Baby Car Seat   \n",
       "2  B01LWMWAXV  King Size 4 Piece Sheet Set - Comfy Breathable...   \n",
       "3  B07XFC3MF3                  MZOO Sleep Eye Mask for Men Women   \n",
       "4  B08YYVRXLM             Momcozy Pregnancy Pillows for Sleeping   \n",
       "6  B07F946VMJ  Extra Deep Queen Sheet Set - 6 Piece Breathabl...   \n",
       "\n",
       "                                        Product_Link  Discounted_Price  \\\n",
       "1  https://www.amazon.com/Graco-Extend2Fit-Conver...            149.99   \n",
       "2  https://www.amazon.com/King-Size-Sheet-Set-Bre...             29.74   \n",
       "3  https://www.amazon.com/MZOO-Contoured-Sleeping...             16.99   \n",
       "4  https://www.amazon.com/Momcozy-Pregnancy-Mater...             36.99   \n",
       "6  https://www.amazon.com/Piece-Fitted-Sheet-Set-...             34.92   \n",
       "\n",
       "   Actual_Price  Rating  Rating_Count  \\\n",
       "1        199.99     4.8         70954   \n",
       "2         34.99     4.5        349108   \n",
       "3         22.99     4.6         93186   \n",
       "4         54.99     4.5         21077   \n",
       "6         79.99     4.4         79532   \n",
       "\n",
       "                                           Reviewers  \\\n",
       "1  Amazon Customer|Amazon Customer|Chiara Flatter...   \n",
       "2  Amazon Customer|Amazon Customer|John cromwell|...   \n",
       "3  Amazon Customer|Amazon Customer|Nithin Kumar|C...   \n",
       "4  Amazon Customer|Amazon Customer|Jammie|Nick|Ki...   \n",
       "6  Amazon Customer|Amazon Customer|Hayley|J.|Judy...   \n",
       "\n",
       "                                             Reviews          category_1  \\\n",
       "1  Versatile and Comfortable – A Top Choice for G...       Baby Products   \n",
       "2  Finally we BOTH can sleep comfy!|Luxurious Com...      Home & Kitchen   \n",
       "3  Product Design|**A Nighttime Revelation: The M...  Health & Household   \n",
       "4  Comfortable!|Not just for pregnancy|It’s cool ...       Baby Products   \n",
       "6  You won’t be disappointed|Can't go wrong with ...      Home & Kitchen   \n",
       "\n",
       "                category_2   Rating_Score  \n",
       "1  Car Seats & Accessories  Above Average  \n",
       "2                  Bedding  Above Average  \n",
       "3              Health Care  Above Average  \n",
       "4    Pregnancy & Maternity  Above Average  \n",
       "6                  Bedding  Above Average  "
      ]
     },
     "metadata": {},
     "output_type": "display_data"
    }
   ],
   "source": [
    " # Creating an empty list\n",
    "Rating_score = []\n",
    "\n",
    " # Looping through the rating column \n",
    "for score in df['Rating']:\n",
    "    if score < 2.0:\n",
    "        Rating_score.append('Poor')\n",
    "    elif score < 3.0:\n",
    "        Rating_score.append('Below Average')\n",
    "    elif score < 4.0:\n",
    "        Rating_score.append('Average')\n",
    "    elif score < 5.0:\n",
    "        Rating_score.append('Above Average')\n",
    "    elif score == 5.0:\n",
    "        Rating_score.append('Excellent')\n",
    "\n",
    " # Adding the rating score to the dataframe\n",
    "df['Rating_Score'] = Rating_score\n",
    "\n",
    "display(df.head())"
   ]
  },
  {
   "cell_type": "markdown",
   "id": "1f8658cb",
   "metadata": {},
   "source": [
    "We will now check the number of different rating score "
   ]
  },
  {
   "cell_type": "code",
   "execution_count": 20,
   "id": "ca4157d6",
   "metadata": {},
   "outputs": [
    {
     "name": "stdout",
     "output_type": "stream",
     "text": [
      "Rating_Score\n",
      "Above Average    1039\n",
      "Excellent          10\n",
      "Name: count, dtype: int64\n"
     ]
    }
   ],
   "source": [
    " # Printing the number of unique values in the rating score columns\n",
    "print(df['Rating_Score'].value_counts())"
   ]
  },
  {
   "cell_type": "markdown",
   "id": "6d1995a4",
   "metadata": {},
   "source": [
    "From the dataset we can see that most products have a rating of Above average while 10 products have a rating of Excellent and no product has a rating below Above Average  \n",
    "\n",
    "We will now change the datatype of the Rating_Score to category and reorder the categories "
   ]
  },
  {
   "cell_type": "code",
   "execution_count": 21,
   "id": "a43e85b0",
   "metadata": {},
   "outputs": [],
   "source": [
    "df['Rating_Score'] = df['Rating_Score'].astype('category')\n",
    "df['Rating_Score'] = df['Rating_Score'].cat.reorder_categories(['Above Average','Excellent'] , ordered = True )"
   ]
  },
  {
   "cell_type": "markdown",
   "id": "23d765ac",
   "metadata": {},
   "source": [
    "We will generate a new column, 'price_difference', which will represent the difference between the actual price and the discounted price. Additionally, we will create another column to capture the discount percentage."
   ]
  },
  {
   "cell_type": "code",
   "execution_count": 22,
   "id": "e2859b0d",
   "metadata": {},
   "outputs": [
    {
     "data": {
      "application/vnd.microsoft.datawrangler.viewer.v0+json": {
       "columns": [
        {
         "name": "index",
         "rawType": "int64",
         "type": "integer"
        },
        {
         "name": "Product_ID",
         "rawType": "object",
         "type": "string"
        },
        {
         "name": "Product_Name",
         "rawType": "object",
         "type": "string"
        },
        {
         "name": "Product_Link",
         "rawType": "object",
         "type": "string"
        },
        {
         "name": "Discounted_Price",
         "rawType": "float64",
         "type": "float"
        },
        {
         "name": "Actual_Price",
         "rawType": "float64",
         "type": "float"
        },
        {
         "name": "Rating",
         "rawType": "float64",
         "type": "float"
        },
        {
         "name": "Rating_Count",
         "rawType": "int64",
         "type": "integer"
        },
        {
         "name": "Reviewers",
         "rawType": "object",
         "type": "string"
        },
        {
         "name": "Reviews",
         "rawType": "object",
         "type": "string"
        },
        {
         "name": "category_1",
         "rawType": "object",
         "type": "string"
        },
        {
         "name": "category_2",
         "rawType": "object",
         "type": "string"
        },
        {
         "name": "Rating_Score",
         "rawType": "category",
         "type": "unknown"
        },
        {
         "name": "Price_difference",
         "rawType": "float64",
         "type": "float"
        },
        {
         "name": "Discount_Percentage",
         "rawType": "float64",
         "type": "float"
        }
       ],
       "ref": "6066d7b9-ec59-4827-a444-8371449e8cc0",
       "rows": [
        [
         "1",
         "B019EGMGR0",
         "Graco Extend2Fit Convertible Baby Car Seat",
         "https://www.amazon.com/Graco-Extend2Fit-Convertible-Seat-Gotham/dp/B019EGMGR0?ref=dlx_deals_dg_dcl_B019EGMGR0_dt_sl14_a6",
         "149.99",
         "199.99",
         "4.8",
         "70954",
         "Amazon Customer|Amazon Customer|Chiara Flattery|Rebecca Hanshew|Alayna|Justin|Ashley|Marie|Marie|Mark|Barbara Dutra|Cliente de Amazon|Perla B.|Abhishek Behari|Abhishek Behari|AM Sharma",
         "Versatile and Comfortable – A Top Choice for Growing Families!|Safe and affordable|Absolutely love the installation latches !|Perfection! Safe! Great Product!|Excellent Car Seat – Safe, Comfortable, and a Great Deal!|My favorite car seat!|Seems decent but using the anchor straps is a must",
         "Baby Products",
         "Car Seats & Accessories",
         "Above Average",
         "50.0",
         "25.0"
        ],
        [
         "2",
         "B01LWMWAXV",
         "King Size 4 Piece Sheet Set - Comfy Breathable & Cooling Sheets - Hotel Luxury Bed Sheets for Women & Men - Deep Pockets",
         "https://www.amazon.com/King-Size-Sheet-Set-Breathable/dp/B01LWMWAXV?ref=dlx_deals_dg_dcl_B01LWMWAXV_dt_sl14_a6",
         "29.74",
         "34.99",
         "4.5",
         "349108",
         "Amazon Customer|Amazon Customer|John cromwell|Amanda|A Shopper|Lisa|Kehinda Pryor|J. L.|Anuj sharma|Brenda M.|Malak|Kamal A.|Felix Barongo",
         "Finally we BOTH can sleep comfy!|Luxurious Comfort and Quality!|Very Comfortable and Soft|The softest sheets!|Soft, Cool, and Luxuriously Comfortable!|Love these sheets!",
         "Home & Kitchen",
         "Bedding",
         "Above Average",
         "5.2500000000000036",
         "15.0"
        ],
        [
         "3",
         "B07XFC3MF3",
         "MZOO Sleep Eye Mask for Men Women",
         "https://www.amazon.com/MZOO-Contoured-Sleeping-Blindfold-Concave/dp/B07XFC3MF3?ref=dlx_deals_dg_dcl_B07XFC3MF3_dt_sl14_a6",
         "16.99",
         "22.99",
         "4.6",
         "93186",
         "Amazon Customer|Amazon Customer|Nithin Kumar|Cam|Cam|djljejm7|Perrie Carrow|DBS|Margaret Justice|ChiChi16|Susy|Manuel Jesús Araujo Alamilla|Abdulelah|L D|Denise gh",
         "Product Design|**A Nighttime Revelation: The MZOO Sleep Eye Mask Transforms Sleep!**|Perfect in every way|Very comfortable and blocks light|Excellent!|Love this Sleep Mask|Voted 2024 best sleep mask!",
         "Health & Household",
         "Health Care",
         "Above Average",
         "6.0",
         "26.0"
        ],
        [
         "4",
         "B08YYVRXLM",
         "Momcozy Pregnancy Pillows for Sleeping",
         "https://www.amazon.com/Momcozy-Pregnancy-Maternity-Removable-Sleeping/dp/B08YYVRXLM?ref=dlx_deals_dg_dcl_B08YYVRXLM_dt_sl14_a6",
         "36.99",
         "54.99",
         "4.5",
         "21077",
         "Amazon Customer|Amazon Customer|Jammie|Nick|Kimmy|Lavender seeker|Kristen A.|Julia|Dhara|Yara|Ajay Shrivatsav V.P.|Nouf|Em|Em|Tamika|kyra iannone",
         "Comfortable!|Not just for pregnancy|It’s cool and comfortable.|Pregnancy pillow|Dense & Fluffy - so much better than I was expecting|Perfect fit|Too fluffy and uncomfortable to sleep with|Super comfortable!",
         "Baby Products",
         "Pregnancy & Maternity",
         "Above Average",
         "18.0",
         "32.0"
        ],
        [
         "6",
         "B07F946VMJ",
         "Extra Deep Queen Sheet Set - 6 Piece Breathable & Cooling Sheets - Hotel Luxury Bed Sheets Set - Easy & Secure Fit - Soft",
         "https://www.amazon.com/Piece-Fitted-Sheet-Set-Mattress/dp/B07F946VMJ?ref=dlx_deals_dg_dcl_B07F946VMJ_dt_sl14_a6",
         "34.92",
         "79.99",
         "4.4",
         "79532",
         "Amazon Customer|Amazon Customer|Hayley|J.|Judy L.|Gabby|Arleen|DEBORAH|Vic|MARIA EUGENIA GONZALEZ VELA|Martha perez|Irma",
         "You won’t be disappointed|Can't go wrong with these.|Get the best sleep ever - soft, stay cool, don't wrinkle or pill after washing, and stay on.|Wait till they go on sale!|So soft and satiny!",
         "Home & Kitchen",
         "Bedding",
         "Above Average",
         "45.06999999999999",
         "56.0"
        ]
       ],
       "shape": {
        "columns": 14,
        "rows": 5
       }
      },
      "text/html": [
       "<div>\n",
       "<style scoped>\n",
       "    .dataframe tbody tr th:only-of-type {\n",
       "        vertical-align: middle;\n",
       "    }\n",
       "\n",
       "    .dataframe tbody tr th {\n",
       "        vertical-align: top;\n",
       "    }\n",
       "\n",
       "    .dataframe thead th {\n",
       "        text-align: right;\n",
       "    }\n",
       "</style>\n",
       "<table border=\"1\" class=\"dataframe\">\n",
       "  <thead>\n",
       "    <tr style=\"text-align: right;\">\n",
       "      <th></th>\n",
       "      <th>Product_ID</th>\n",
       "      <th>Product_Name</th>\n",
       "      <th>Product_Link</th>\n",
       "      <th>Discounted_Price</th>\n",
       "      <th>Actual_Price</th>\n",
       "      <th>Rating</th>\n",
       "      <th>Rating_Count</th>\n",
       "      <th>Reviewers</th>\n",
       "      <th>Reviews</th>\n",
       "      <th>category_1</th>\n",
       "      <th>category_2</th>\n",
       "      <th>Rating_Score</th>\n",
       "      <th>Price_difference</th>\n",
       "      <th>Discount_Percentage</th>\n",
       "    </tr>\n",
       "  </thead>\n",
       "  <tbody>\n",
       "    <tr>\n",
       "      <th>1</th>\n",
       "      <td>B019EGMGR0</td>\n",
       "      <td>Graco Extend2Fit Convertible Baby Car Seat</td>\n",
       "      <td>https://www.amazon.com/Graco-Extend2Fit-Conver...</td>\n",
       "      <td>149.99</td>\n",
       "      <td>199.99</td>\n",
       "      <td>4.8</td>\n",
       "      <td>70954</td>\n",
       "      <td>Amazon Customer|Amazon Customer|Chiara Flatter...</td>\n",
       "      <td>Versatile and Comfortable – A Top Choice for G...</td>\n",
       "      <td>Baby Products</td>\n",
       "      <td>Car Seats &amp; Accessories</td>\n",
       "      <td>Above Average</td>\n",
       "      <td>50.00</td>\n",
       "      <td>25.0</td>\n",
       "    </tr>\n",
       "    <tr>\n",
       "      <th>2</th>\n",
       "      <td>B01LWMWAXV</td>\n",
       "      <td>King Size 4 Piece Sheet Set - Comfy Breathable...</td>\n",
       "      <td>https://www.amazon.com/King-Size-Sheet-Set-Bre...</td>\n",
       "      <td>29.74</td>\n",
       "      <td>34.99</td>\n",
       "      <td>4.5</td>\n",
       "      <td>349108</td>\n",
       "      <td>Amazon Customer|Amazon Customer|John cromwell|...</td>\n",
       "      <td>Finally we BOTH can sleep comfy!|Luxurious Com...</td>\n",
       "      <td>Home &amp; Kitchen</td>\n",
       "      <td>Bedding</td>\n",
       "      <td>Above Average</td>\n",
       "      <td>5.25</td>\n",
       "      <td>15.0</td>\n",
       "    </tr>\n",
       "    <tr>\n",
       "      <th>3</th>\n",
       "      <td>B07XFC3MF3</td>\n",
       "      <td>MZOO Sleep Eye Mask for Men Women</td>\n",
       "      <td>https://www.amazon.com/MZOO-Contoured-Sleeping...</td>\n",
       "      <td>16.99</td>\n",
       "      <td>22.99</td>\n",
       "      <td>4.6</td>\n",
       "      <td>93186</td>\n",
       "      <td>Amazon Customer|Amazon Customer|Nithin Kumar|C...</td>\n",
       "      <td>Product Design|**A Nighttime Revelation: The M...</td>\n",
       "      <td>Health &amp; Household</td>\n",
       "      <td>Health Care</td>\n",
       "      <td>Above Average</td>\n",
       "      <td>6.00</td>\n",
       "      <td>26.0</td>\n",
       "    </tr>\n",
       "    <tr>\n",
       "      <th>4</th>\n",
       "      <td>B08YYVRXLM</td>\n",
       "      <td>Momcozy Pregnancy Pillows for Sleeping</td>\n",
       "      <td>https://www.amazon.com/Momcozy-Pregnancy-Mater...</td>\n",
       "      <td>36.99</td>\n",
       "      <td>54.99</td>\n",
       "      <td>4.5</td>\n",
       "      <td>21077</td>\n",
       "      <td>Amazon Customer|Amazon Customer|Jammie|Nick|Ki...</td>\n",
       "      <td>Comfortable!|Not just for pregnancy|It’s cool ...</td>\n",
       "      <td>Baby Products</td>\n",
       "      <td>Pregnancy &amp; Maternity</td>\n",
       "      <td>Above Average</td>\n",
       "      <td>18.00</td>\n",
       "      <td>32.0</td>\n",
       "    </tr>\n",
       "    <tr>\n",
       "      <th>6</th>\n",
       "      <td>B07F946VMJ</td>\n",
       "      <td>Extra Deep Queen Sheet Set - 6 Piece Breathabl...</td>\n",
       "      <td>https://www.amazon.com/Piece-Fitted-Sheet-Set-...</td>\n",
       "      <td>34.92</td>\n",
       "      <td>79.99</td>\n",
       "      <td>4.4</td>\n",
       "      <td>79532</td>\n",
       "      <td>Amazon Customer|Amazon Customer|Hayley|J.|Judy...</td>\n",
       "      <td>You won’t be disappointed|Can't go wrong with ...</td>\n",
       "      <td>Home &amp; Kitchen</td>\n",
       "      <td>Bedding</td>\n",
       "      <td>Above Average</td>\n",
       "      <td>45.07</td>\n",
       "      <td>56.0</td>\n",
       "    </tr>\n",
       "  </tbody>\n",
       "</table>\n",
       "</div>"
      ],
      "text/plain": [
       "   Product_ID                                       Product_Name  \\\n",
       "1  B019EGMGR0         Graco Extend2Fit Convertible Baby Car Seat   \n",
       "2  B01LWMWAXV  King Size 4 Piece Sheet Set - Comfy Breathable...   \n",
       "3  B07XFC3MF3                  MZOO Sleep Eye Mask for Men Women   \n",
       "4  B08YYVRXLM             Momcozy Pregnancy Pillows for Sleeping   \n",
       "6  B07F946VMJ  Extra Deep Queen Sheet Set - 6 Piece Breathabl...   \n",
       "\n",
       "                                        Product_Link  Discounted_Price  \\\n",
       "1  https://www.amazon.com/Graco-Extend2Fit-Conver...            149.99   \n",
       "2  https://www.amazon.com/King-Size-Sheet-Set-Bre...             29.74   \n",
       "3  https://www.amazon.com/MZOO-Contoured-Sleeping...             16.99   \n",
       "4  https://www.amazon.com/Momcozy-Pregnancy-Mater...             36.99   \n",
       "6  https://www.amazon.com/Piece-Fitted-Sheet-Set-...             34.92   \n",
       "\n",
       "   Actual_Price  Rating  Rating_Count  \\\n",
       "1        199.99     4.8         70954   \n",
       "2         34.99     4.5        349108   \n",
       "3         22.99     4.6         93186   \n",
       "4         54.99     4.5         21077   \n",
       "6         79.99     4.4         79532   \n",
       "\n",
       "                                           Reviewers  \\\n",
       "1  Amazon Customer|Amazon Customer|Chiara Flatter...   \n",
       "2  Amazon Customer|Amazon Customer|John cromwell|...   \n",
       "3  Amazon Customer|Amazon Customer|Nithin Kumar|C...   \n",
       "4  Amazon Customer|Amazon Customer|Jammie|Nick|Ki...   \n",
       "6  Amazon Customer|Amazon Customer|Hayley|J.|Judy...   \n",
       "\n",
       "                                             Reviews          category_1  \\\n",
       "1  Versatile and Comfortable – A Top Choice for G...       Baby Products   \n",
       "2  Finally we BOTH can sleep comfy!|Luxurious Com...      Home & Kitchen   \n",
       "3  Product Design|**A Nighttime Revelation: The M...  Health & Household   \n",
       "4  Comfortable!|Not just for pregnancy|It’s cool ...       Baby Products   \n",
       "6  You won’t be disappointed|Can't go wrong with ...      Home & Kitchen   \n",
       "\n",
       "                category_2   Rating_Score  Price_difference  \\\n",
       "1  Car Seats & Accessories  Above Average             50.00   \n",
       "2                  Bedding  Above Average              5.25   \n",
       "3              Health Care  Above Average              6.00   \n",
       "4    Pregnancy & Maternity  Above Average             18.00   \n",
       "6                  Bedding  Above Average             45.07   \n",
       "\n",
       "   Discount_Percentage  \n",
       "1                 25.0  \n",
       "2                 15.0  \n",
       "3                 26.0  \n",
       "4                 32.0  \n",
       "6                 56.0  "
      ]
     },
     "metadata": {},
     "output_type": "display_data"
    }
   ],
   "source": [
    " # Price Difference \n",
    "df['Price_difference'] = df['Actual_Price'] - df['Discounted_Price']\n",
    "\n",
    " # Discount percentage\n",
    "df['Discount_Percentage'] = np.trunc((df['Price_difference'] / df['Actual_Price']) * 100)\n",
    "\n",
    "display(df.head())"
   ]
  },
  {
   "cell_type": "markdown",
   "id": "1289219e",
   "metadata": {},
   "source": [
    "From the output we can see that some price differences are negative meaning that the actual price is less than the discounted price which is undesirable\n",
    "\n",
    "This is due to the fact that some products were sold by per inch , per count or per foot we will therefore need to drop any product that has a negative price difference."
   ]
  },
  {
   "cell_type": "code",
   "execution_count": 23,
   "id": "3ea33bfc",
   "metadata": {},
   "outputs": [
    {
     "name": "stdout",
     "output_type": "stream",
     "text": [
      "40\n"
     ]
    }
   ],
   "source": [
    " # Getting the index where the price difference is -\n",
    "indexes = df.index[ df['Price_difference'] < 0 ].tolist()\n",
    "\n",
    " # Getting the length of indexes \n",
    "print( len(indexes) )"
   ]
  },
  {
   "cell_type": "markdown",
   "id": "cd04f157",
   "metadata": {},
   "source": [
    "There are 40 products that have a price difference that is less than 0 therefore these 40 products need to be dropped "
   ]
  },
  {
   "cell_type": "code",
   "execution_count": 24,
   "id": "daea1d58",
   "metadata": {},
   "outputs": [
    {
     "name": "stdout",
     "output_type": "stream",
     "text": [
      "(1009, 15)\n"
     ]
    }
   ],
   "source": [
    " # dropping the indexes \n",
    "for i in indexes:\n",
    "    df.drop( i , inplace = True )\n",
    " # Reseting the indexes \n",
    "df.reset_index( inplace = True )\n",
    "\n",
    "print( df.shape )"
   ]
  },
  {
   "cell_type": "markdown",
   "id": "2848a931",
   "metadata": {},
   "source": [
    "We can see that the number of rows has dropped to 1009\n",
    "\n",
    "We will now split the data set into two dataframes "
   ]
  },
  {
   "cell_type": "code",
   "execution_count": 25,
   "id": "d23c06dc",
   "metadata": {},
   "outputs": [],
   "source": [
    "df1 = df[['Product_ID','Product_Name', 'category_1','Product_Link', 'category_2', 'Discounted_Price', 'Actual_Price','Price_difference','Discount_Percentage', 'Rating', 'Rating_Count', 'Rating_Score','Reviews']]\n",
    "\n",
    "df2 = df[['Reviewers']]"
   ]
  },
  {
   "cell_type": "code",
   "execution_count": 26,
   "id": "0b949c89",
   "metadata": {},
   "outputs": [
    {
     "data": {
      "application/vnd.microsoft.datawrangler.viewer.v0+json": {
       "columns": [
        {
         "name": "index",
         "rawType": "int64",
         "type": "integer"
        },
        {
         "name": "Reviewers",
         "rawType": "object",
         "type": "string"
        }
       ],
       "ref": "f10d46f6-a5db-40d3-80e0-cc85da7811f7",
       "rows": [
        [
         "0",
         "Amazon Customer|Amazon Customer|Chiara Flattery|Rebecca Hanshew|Alayna|Justin|Ashley|Marie|Marie|Mark|Barbara Dutra|Cliente de Amazon|Perla B.|Abhishek Behari|Abhishek Behari|AM Sharma"
        ],
        [
         "1",
         "Amazon Customer|Amazon Customer|John cromwell|Amanda|A Shopper|Lisa|Kehinda Pryor|J. L.|Anuj sharma|Brenda M.|Malak|Kamal A.|Felix Barongo"
        ],
        [
         "2",
         "Amazon Customer|Amazon Customer|Nithin Kumar|Cam|Cam|djljejm7|Perrie Carrow|DBS|Margaret Justice|ChiChi16|Susy|Manuel Jesús Araujo Alamilla|Abdulelah|L D|Denise gh"
        ]
       ],
       "shape": {
        "columns": 1,
        "rows": 3
       }
      },
      "text/html": [
       "<div>\n",
       "<style scoped>\n",
       "    .dataframe tbody tr th:only-of-type {\n",
       "        vertical-align: middle;\n",
       "    }\n",
       "\n",
       "    .dataframe tbody tr th {\n",
       "        vertical-align: top;\n",
       "    }\n",
       "\n",
       "    .dataframe thead th {\n",
       "        text-align: right;\n",
       "    }\n",
       "</style>\n",
       "<table border=\"1\" class=\"dataframe\">\n",
       "  <thead>\n",
       "    <tr style=\"text-align: right;\">\n",
       "      <th></th>\n",
       "      <th>Reviewers</th>\n",
       "    </tr>\n",
       "  </thead>\n",
       "  <tbody>\n",
       "    <tr>\n",
       "      <th>0</th>\n",
       "      <td>Amazon Customer|Amazon Customer|Chiara Flatter...</td>\n",
       "    </tr>\n",
       "    <tr>\n",
       "      <th>1</th>\n",
       "      <td>Amazon Customer|Amazon Customer|John cromwell|...</td>\n",
       "    </tr>\n",
       "    <tr>\n",
       "      <th>2</th>\n",
       "      <td>Amazon Customer|Amazon Customer|Nithin Kumar|C...</td>\n",
       "    </tr>\n",
       "  </tbody>\n",
       "</table>\n",
       "</div>"
      ],
      "text/plain": [
       "                                           Reviewers\n",
       "0  Amazon Customer|Amazon Customer|Chiara Flatter...\n",
       "1  Amazon Customer|Amazon Customer|John cromwell|...\n",
       "2  Amazon Customer|Amazon Customer|Nithin Kumar|C..."
      ]
     },
     "metadata": {},
     "output_type": "display_data"
    }
   ],
   "source": [
    "display( df2.head(3) ) "
   ]
  },
  {
   "cell_type": "markdown",
   "id": "cca0e65a",
   "metadata": {},
   "source": [
    "From the ouput we can see that  the reviewers  of a product are concatenated into a single  string that is separated by a | representing the next person a. We will therefore need to split the  reviewers where there is a |"
   ]
  },
  {
   "cell_type": "code",
   "execution_count": 27,
   "id": "24c19179",
   "metadata": {},
   "outputs": [
    {
     "name": "stdout",
     "output_type": "stream",
     "text": [
      "(14806, 1)\n"
     ]
    }
   ],
   "source": [
    "reviewers = df2['Reviewers']\n",
    "\n",
    " # Splitting the reviewers  \n",
    "reviewers_split = reviewers.str.split( '|' , expand = False )\n",
    "\n",
    " # Making it show onw reviewer and review per row\n",
    "reviewers_exp = reviewers_split.explode()\n",
    "\n",
    " # Reseting the Index\n",
    "reviewers = reviewers_exp.reset_index( drop = True )\n",
    "\n",
    " # Changing the Series into dataframes \n",
    "df2 = pd.DataFrame( reviewers )\n",
    "\n",
    "print( df2.shape )\n"
   ]
  },
  {
   "cell_type": "markdown",
   "id": "385c94e0",
   "metadata": {},
   "source": [
    "After splitting the data we can see that the reviewers dataframe(df2) has 14,806 rows "
   ]
  },
  {
   "cell_type": "code",
   "execution_count": 28,
   "id": "1812663a",
   "metadata": {},
   "outputs": [],
   "source": [
    " # saving the Dataframe as csv \n",
    "df1.to_csv('CLEANED_DATA.csv', index=False)\n",
    "df2.to_csv('REVIEWERS_DATA.csv', index=False)"
   ]
  }
 ],
 "metadata": {
  "kernelspec": {
   "display_name": "Python 3",
   "language": "python",
   "name": "python3"
  },
  "language_info": {
   "codemirror_mode": {
    "name": "ipython",
    "version": 3
   },
   "file_extension": ".py",
   "mimetype": "text/x-python",
   "name": "python",
   "nbconvert_exporter": "python",
   "pygments_lexer": "ipython3",
   "version": "3.12.10"
  }
 },
 "nbformat": 4,
 "nbformat_minor": 5
}
