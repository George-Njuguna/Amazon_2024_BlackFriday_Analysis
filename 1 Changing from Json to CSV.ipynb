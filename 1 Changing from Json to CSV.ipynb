{
 "cells": [
  {
   "cell_type": "code",
   "execution_count": 3,
   "metadata": {},
   "outputs": [],
   "source": [
    "import csv\n",
    "import json"
   ]
  },
  {
   "cell_type": "code",
   "execution_count": 4,
   "metadata": {},
   "outputs": [],
   "source": [
    "# Open the JSON file and read the data\n",
    "with open('Amazon_data1.json', mode='r', encoding='utf-8') as file:\n",
    "    data2 = json.load(file)"
   ]
  },
  {
   "cell_type": "code",
   "execution_count": 5,
   "metadata": {},
   "outputs": [],
   "source": [
    " # Open the CSV file in write mode with utf-8 encoding\n",
    "with open('AMAZON_DATA.csv', mode='w', newline='', encoding='utf-8') as file:\n",
    "    writer = csv.writer(file)\n",
    "    \n",
    "    # Write the headers (keys of the dictionary)\n",
    "    writer.writerow(data2.keys()) \n",
    "\n",
    "    # Find the maximum length of the lists in data2\n",
    "    max_len = max(len(val) for val in data2.values())\n",
    "\n",
    "    # Write each row, filling in missing values with None or an empty string\n",
    "    for i in range(max_len):\n",
    "        row = [val[i] if i < len(val) else '' for val in data2.values()]  # Use '' for missing values\n",
    "        writer.writerow(row)\n"
   ]
  }
 ],
 "metadata": {
  "kernelspec": {
   "display_name": "Python 3",
   "language": "python",
   "name": "python3"
  },
  "language_info": {
   "codemirror_mode": {
    "name": "ipython",
    "version": 3
   },
   "file_extension": ".py",
   "mimetype": "text/x-python",
   "name": "python",
   "nbconvert_exporter": "python",
   "pygments_lexer": "ipython3",
   "version": "3.12.6"
  }
 },
 "nbformat": 4,
 "nbformat_minor": 2
}
